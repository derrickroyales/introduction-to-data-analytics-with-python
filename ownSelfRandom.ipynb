{
 "cells": [
  {
   "cell_type": "code",
   "execution_count": 1,
   "id": "c5138958-e922-4314-a37c-7b614e64705b",
   "metadata": {},
   "outputs": [
    {
     "name": "stdout",
     "output_type": "stream",
     "text": [
      "**********\n"
     ]
    }
   ],
   "source": [
    "print('*'*10)"
   ]
  },
  {
   "cell_type": "code",
   "execution_count": 1,
   "id": "c79b4f63-dfcd-4cd7-990b-ccff7b8f6327",
   "metadata": {},
   "outputs": [
    {
     "name": "stdin",
     "output_type": "stream",
     "text": [
      "Enter age: 1956\n"
     ]
    },
    {
     "name": "stdout",
     "output_type": "stream",
     "text": [
      "63\n"
     ]
    }
   ],
   "source": [
    "#Changing datatypes\n",
    "birth=input('Enter age:')\n",
    "age=2019-int(birth)\n",
    "print(age)"
   ]
  },
  {
   "cell_type": "code",
   "execution_count": 3,
   "id": "cc78127d-f315-49f5-8ef3-173a6eb681eb",
   "metadata": {},
   "outputs": [
    {
     "name": "stdout",
     "output_type": "stream",
     "text": [
      "<class 'int'>\n"
     ]
    }
   ],
   "source": [
    "f=type(48)\n",
    "print(f)"
   ]
  },
  {
   "cell_type": "code",
   "execution_count": 4,
   "id": "8d274072-5091-4bbf-99d9-8b7dcbc85e6a",
   "metadata": {},
   "outputs": [
    {
     "data": {
      "text/plain": [
       "int"
      ]
     },
     "execution_count": 4,
     "metadata": {},
     "output_type": "execute_result"
    }
   ],
   "source": [
    "f=48\n",
    "type(f)"
   ]
  },
  {
   "cell_type": "code",
   "execution_count": 2,
   "id": "722b188f-bb2a-4417-b1f4-5c81348f1c3c",
   "metadata": {},
   "outputs": [
    {
     "name": "stdout",
     "output_type": "stream",
     "text": [
      "[158.0, 172.4, 127.4, 194.0, 93.2]\n"
     ]
    }
   ],
   "source": [
    "DegreesTemp=[70,78,53,90,34]\n",
    "FarenheitTemp=[((z*9/5)+32) for z in DegreesTemp]\n",
    "print(FarenheitTemp)"
   ]
  },
  {
   "cell_type": "code",
   "execution_count": 10,
   "id": "b9ca6dce-b8b2-4492-9f91-6afac9e21c93",
   "metadata": {},
   "outputs": [
    {
     "name": "stdout",
     "output_type": "stream",
     "text": [
      "[158, 172, 127, 194, 93]\n"
     ]
    }
   ],
   "source": [
    "#yet to find a way of converting the data types of the values in a list\n",
    "intTemp=[ int(i) for i in FarenheitTemp]\n",
    "print(intTemp)"
   ]
  },
  {
   "cell_type": "code",
   "execution_count": 3,
   "id": "31496ce6-d610-447f-93ff-d8b560f078f8",
   "metadata": {},
   "outputs": [
    {
     "name": "stdout",
     "output_type": "stream",
     "text": [
      "s\n"
     ]
    }
   ],
   "source": [
    "y='Salome Bukaresti'\n",
    "print(y[-3])"
   ]
  },
  {
   "cell_type": "code",
   "execution_count": 9,
   "id": "ecffae7a-ccb7-4f7b-860e-41b5d08d8fb4",
   "metadata": {},
   "outputs": [
    {
     "name": "stdout",
     "output_type": "stream",
     "text": [
      "Salome\n"
     ]
    }
   ],
   "source": [
    "print(y[0:6])"
   ]
  },
  {
   "cell_type": "code",
   "execution_count": 11,
   "id": "5a70cf1b-6baa-4594-8c83-b1600722aaea",
   "metadata": {},
   "outputs": [
    {
     "name": "stdout",
     "output_type": "stream",
     "text": [
      "Salome Bukaresti\n"
     ]
    }
   ],
   "source": [
    "print(y[:])"
   ]
  },
  {
   "cell_type": "code",
   "execution_count": 4,
   "id": "7a72f580-68a9-4215-876b-2dd6f31d3808",
   "metadata": {},
   "outputs": [
    {
     "name": "stdout",
     "output_type": "stream",
     "text": [
      "alome Bukarest\n"
     ]
    }
   ],
   "source": [
    "print(y[1:-1])"
   ]
  },
  {
   "cell_type": "markdown",
   "id": "f9a673d2-37fa-4149-973d-792b5d0010a8",
   "metadata": {},
   "source": [
    "## Formatted Strings"
   ]
  },
  {
   "cell_type": "code",
   "execution_count": 7,
   "id": "885ed43a-fd44-4bbf-9fef-9b2ad3a57774",
   "metadata": {},
   "outputs": [
    {
     "name": "stdout",
     "output_type": "stream",
     "text": [
      "John[Matte] is a coder\n",
      "John[Matte] is a coder\n"
     ]
    }
   ],
   "source": [
    "first='John'\n",
    "last='Matte'\n",
    "## instead of \n",
    "message=first+'['+last+'] is a coder'\n",
    "## we use...\n",
    "msg=f'{first}[{last}] is a coder'\n",
    "print(message)\n",
    "print(msg)"
   ]
  },
  {
   "cell_type": "code",
   "execution_count": null,
   "id": "a9e20b6f-7013-4a3e-9be3-b424f810e915",
   "metadata": {},
   "outputs": [],
   "source": [
    "## functions specific to strings are referred to as methods"
   ]
  },
  {
   "cell_type": "code",
   "execution_count": 8,
   "id": "a0194fa7-8e4a-4697-8758-b41ba1fd8c2e",
   "metadata": {},
   "outputs": [
    {
     "name": "stdout",
     "output_type": "stream",
     "text": [
      "JOHN[MATTE] IS A CODER\n"
     ]
    }
   ],
   "source": [
    "print(msg.upper())"
   ]
  },
  {
   "cell_type": "code",
   "execution_count": 11,
   "id": "b8030243-aea9-4df2-919c-396c060848ec",
   "metadata": {},
   "outputs": [
    {
     "name": "stdout",
     "output_type": "stream",
     "text": [
      "2\n"
     ]
    }
   ],
   "source": [
    "print(first.find('h'))"
   ]
  },
  {
   "cell_type": "code",
   "execution_count": 12,
   "id": "979abfaa-727b-4989-ba5b-70cfd78d605a",
   "metadata": {},
   "outputs": [
    {
     "name": "stdout",
     "output_type": "stream",
     "text": [
      "17\n"
     ]
    }
   ],
   "source": [
    "print(msg.find('coder'))"
   ]
  },
  {
   "cell_type": "code",
   "execution_count": 13,
   "id": "b4a097d0-a969-4597-9806-46590a30ef56",
   "metadata": {},
   "outputs": [
    {
     "name": "stdout",
     "output_type": "stream",
     "text": [
      "John[Matte] is a writer\n"
     ]
    }
   ],
   "source": [
    "print(msg.replace('coder', 'writer'))"
   ]
  },
  {
   "cell_type": "code",
   "execution_count": 14,
   "id": "a43c06fe-db9b-4d0b-95e7-678f8202f198",
   "metadata": {},
   "outputs": [
    {
     "name": "stdout",
     "output_type": "stream",
     "text": [
      "True\n"
     ]
    }
   ],
   "source": [
    "print('John' in msg)"
   ]
  },
  {
   "cell_type": "markdown",
   "id": "5268f15e-f892-467e-a48d-06b7d4347a43",
   "metadata": {},
   "source": [
    "## Guessing Game"
   ]
  },
  {
   "cell_type": "code",
   "execution_count": 5,
   "id": "291a767d-9921-4c09-b8e0-bc9213889557",
   "metadata": {},
   "outputs": [
    {
     "name": "stdin",
     "output_type": "stream",
     "text": [
      "Guess: 7\n",
      "Guess: 9\n"
     ]
    },
    {
     "name": "stdout",
     "output_type": "stream",
     "text": [
      "You won!\n"
     ]
    }
   ],
   "source": [
    "secret_number = 9\n",
    "guess_count = 0\n",
    "guess_limit = 3\n",
    "while guess_count < guess_limit:\n",
    "    guess = int(input('Guess:'))\n",
    "    guess_count += 1\n",
    "    if guess == secret_number:\n",
    "        print('You won!')\n",
    "        break\n",
    "if guess != secret_number:\n",
    "    print('You lost')"
   ]
  },
  {
   "cell_type": "code",
   "execution_count": 4,
   "id": "aa6d780b-3173-45ad-8f79-5cfaa310a9d7",
   "metadata": {},
   "outputs": [
    {
     "name": "stdin",
     "output_type": "stream",
     "text": [
      "Guess: 9\n"
     ]
    },
    {
     "name": "stdout",
     "output_type": "stream",
     "text": [
      "You won!\n"
     ]
    }
   ],
   "source": [
    "secret_number = 9\n",
    "guess_count = 0\n",
    "guess_limit = 3\n",
    "while guess_count < guess_limit:\n",
    "    guess = int(input('Guess:'))\n",
    "    guess_count += 1\n",
    "    if guess == secret_number:\n",
    "        print('You won!')\n",
    "        break\n",
    "else:\n",
    "    print('You lost')"
   ]
  },
  {
   "cell_type": "markdown",
   "id": "f78f429b-734d-4861-955a-32a10b3e01bc",
   "metadata": {},
   "source": [
    "## Car Game"
   ]
  },
  {
   "cell_type": "code",
   "execution_count": 7,
   "id": "82a842dd-c1f6-40f4-b264-e7358de4cdc8",
   "metadata": {},
   "outputs": [
    {
     "name": "stdin",
     "output_type": "stream",
     "text": [
      ">  start\n"
     ]
    },
    {
     "name": "stdout",
     "output_type": "stream",
     "text": [
      "Car started\n"
     ]
    },
    {
     "name": "stdin",
     "output_type": "stream",
     "text": [
      ">  start\n"
     ]
    },
    {
     "name": "stdout",
     "output_type": "stream",
     "text": [
      "Car has already started\n"
     ]
    },
    {
     "name": "stdin",
     "output_type": "stream",
     "text": [
      ">  tyh\n"
     ]
    },
    {
     "name": "stdout",
     "output_type": "stream",
     "text": [
      "Sorry, I don't understand what you are saying\n"
     ]
    },
    {
     "name": "stdin",
     "output_type": "stream",
     "text": [
      ">  quit\n"
     ]
    }
   ],
   "source": [
    "command = \"\"\n",
    "started = False\n",
    "while True:\n",
    "    command = input(\"> \").lower()\n",
    "    if command == \"start\":\n",
    "        if started:\n",
    "            print('Car has already started')\n",
    "        else:\n",
    "            started = True\n",
    "            print('Car started')\n",
    "    elif command == 'stop':\n",
    "        if not started:\n",
    "            print(\"Car is already stopped\")\n",
    "        else:\n",
    "            started = False\n",
    "            print('Car stopped.')\n",
    "    elif command == 'help':\n",
    "        print(\"\"\"\n",
    "start - to start the car\n",
    "stop - to stop the car\n",
    "quit - to quit the game \"\"\")\n",
    "    elif command == 'quit':\n",
    "        break\n",
    "    else:\n",
    "        print(\"Sorry, I don't understand what you are saying\")"
   ]
  }
 ],
 "metadata": {
  "kernelspec": {
   "display_name": "Python 3 (ipykernel)",
   "language": "python",
   "name": "python3"
  },
  "language_info": {
   "codemirror_mode": {
    "name": "ipython",
    "version": 3
   },
   "file_extension": ".py",
   "mimetype": "text/x-python",
   "name": "python",
   "nbconvert_exporter": "python",
   "pygments_lexer": "ipython3",
   "version": "3.12.4"
  }
 },
 "nbformat": 4,
 "nbformat_minor": 5
}
