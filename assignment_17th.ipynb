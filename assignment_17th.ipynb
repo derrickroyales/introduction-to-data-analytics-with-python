{
 "cells": [
  {
   "cell_type": "code",
   "execution_count": null,
   "id": "728413c6-bd8a-4395-aba3-cbbb7f4a0801",
   "metadata": {},
   "outputs": [],
   "source": [
    "#Assignment 1"
   ]
  },
  {
   "cell_type": "code",
   "execution_count": 1,
   "id": "ef7ee650-991a-4afe-b70b-f72ed570d036",
   "metadata": {},
   "outputs": [],
   "source": [
    "import pandas as pd"
   ]
  },
  {
   "cell_type": "code",
   "execution_count": 3,
   "id": "3d777a33-9095-47a7-8150-c23252976f8b",
   "metadata": {},
   "outputs": [],
   "source": [
    "scores={\n",
    "    'Name':['Kevin','Samuel','Samson','Caroline','Hellen'],\n",
    "    'Math':[30,78,66,89,47],\n",
    "    'Science':[78,90,43,90,23],\n",
    "    'English':[56,78,45,56,66]\n",
    "}"
   ]
  },
  {
   "cell_type": "code",
   "execution_count": 4,
   "id": "30cb0ae5-a02f-47bb-935c-91cda6b86648",
   "metadata": {},
   "outputs": [
    {
     "data": {
      "text/plain": [
       "{'Name': ['Kevin', 'Samuel', 'Samson', 'Caroline', 'Hellen'],\n",
       " 'Math': [30, 78, 66, 89, 47],\n",
       " 'Science': [78, 90, 43, 90, 23],\n",
       " 'English': [56, 78, 45, 56, 66]}"
      ]
     },
     "execution_count": 4,
     "metadata": {},
     "output_type": "execute_result"
    }
   ],
   "source": [
    "scores"
   ]
  },
  {
   "cell_type": "code",
   "execution_count": 5,
   "id": "b7dac941-bd4a-4c69-83e9-17e801e5026b",
   "metadata": {},
   "outputs": [],
   "source": [
    "student_score=pd.DataFrame(scores)"
   ]
  },
  {
   "cell_type": "code",
   "execution_count": 6,
   "id": "fc0cf085-de9c-42eb-843d-ee83eff284a2",
   "metadata": {},
   "outputs": [
    {
     "data": {
      "text/html": [
       "<div>\n",
       "<style scoped>\n",
       "    .dataframe tbody tr th:only-of-type {\n",
       "        vertical-align: middle;\n",
       "    }\n",
       "\n",
       "    .dataframe tbody tr th {\n",
       "        vertical-align: top;\n",
       "    }\n",
       "\n",
       "    .dataframe thead th {\n",
       "        text-align: right;\n",
       "    }\n",
       "</style>\n",
       "<table border=\"1\" class=\"dataframe\">\n",
       "  <thead>\n",
       "    <tr style=\"text-align: right;\">\n",
       "      <th></th>\n",
       "      <th>Name</th>\n",
       "      <th>Math</th>\n",
       "      <th>Science</th>\n",
       "      <th>English</th>\n",
       "    </tr>\n",
       "  </thead>\n",
       "  <tbody>\n",
       "    <tr>\n",
       "      <th>0</th>\n",
       "      <td>Kevin</td>\n",
       "      <td>30</td>\n",
       "      <td>78</td>\n",
       "      <td>56</td>\n",
       "    </tr>\n",
       "    <tr>\n",
       "      <th>1</th>\n",
       "      <td>Samuel</td>\n",
       "      <td>78</td>\n",
       "      <td>90</td>\n",
       "      <td>78</td>\n",
       "    </tr>\n",
       "    <tr>\n",
       "      <th>2</th>\n",
       "      <td>Samson</td>\n",
       "      <td>66</td>\n",
       "      <td>43</td>\n",
       "      <td>45</td>\n",
       "    </tr>\n",
       "    <tr>\n",
       "      <th>3</th>\n",
       "      <td>Caroline</td>\n",
       "      <td>89</td>\n",
       "      <td>90</td>\n",
       "      <td>56</td>\n",
       "    </tr>\n",
       "    <tr>\n",
       "      <th>4</th>\n",
       "      <td>Hellen</td>\n",
       "      <td>47</td>\n",
       "      <td>23</td>\n",
       "      <td>66</td>\n",
       "    </tr>\n",
       "  </tbody>\n",
       "</table>\n",
       "</div>"
      ],
      "text/plain": [
       "       Name  Math  Science  English\n",
       "0     Kevin    30       78       56\n",
       "1    Samuel    78       90       78\n",
       "2    Samson    66       43       45\n",
       "3  Caroline    89       90       56\n",
       "4    Hellen    47       23       66"
      ]
     },
     "execution_count": 6,
     "metadata": {},
     "output_type": "execute_result"
    }
   ],
   "source": [
    "student_score"
   ]
  },
  {
   "cell_type": "code",
   "execution_count": 10,
   "id": "deafe644-a56b-49d6-b7b0-80583ade33b8",
   "metadata": {},
   "outputs": [],
   "source": [
    "student_score['Average']=student_score[['Math','Science','English']].mean(axis=1)"
   ]
  },
  {
   "cell_type": "code",
   "execution_count": 11,
   "id": "19e9daad-1ffe-46e3-b069-d28904f9a625",
   "metadata": {},
   "outputs": [
    {
     "data": {
      "text/html": [
       "<div>\n",
       "<style scoped>\n",
       "    .dataframe tbody tr th:only-of-type {\n",
       "        vertical-align: middle;\n",
       "    }\n",
       "\n",
       "    .dataframe tbody tr th {\n",
       "        vertical-align: top;\n",
       "    }\n",
       "\n",
       "    .dataframe thead th {\n",
       "        text-align: right;\n",
       "    }\n",
       "</style>\n",
       "<table border=\"1\" class=\"dataframe\">\n",
       "  <thead>\n",
       "    <tr style=\"text-align: right;\">\n",
       "      <th></th>\n",
       "      <th>Name</th>\n",
       "      <th>Math</th>\n",
       "      <th>Science</th>\n",
       "      <th>English</th>\n",
       "      <th>Average</th>\n",
       "    </tr>\n",
       "  </thead>\n",
       "  <tbody>\n",
       "    <tr>\n",
       "      <th>0</th>\n",
       "      <td>Kevin</td>\n",
       "      <td>30</td>\n",
       "      <td>78</td>\n",
       "      <td>56</td>\n",
       "      <td>54.666667</td>\n",
       "    </tr>\n",
       "    <tr>\n",
       "      <th>1</th>\n",
       "      <td>Samuel</td>\n",
       "      <td>78</td>\n",
       "      <td>90</td>\n",
       "      <td>78</td>\n",
       "      <td>82.000000</td>\n",
       "    </tr>\n",
       "    <tr>\n",
       "      <th>2</th>\n",
       "      <td>Samson</td>\n",
       "      <td>66</td>\n",
       "      <td>43</td>\n",
       "      <td>45</td>\n",
       "      <td>51.333333</td>\n",
       "    </tr>\n",
       "    <tr>\n",
       "      <th>3</th>\n",
       "      <td>Caroline</td>\n",
       "      <td>89</td>\n",
       "      <td>90</td>\n",
       "      <td>56</td>\n",
       "      <td>78.333333</td>\n",
       "    </tr>\n",
       "    <tr>\n",
       "      <th>4</th>\n",
       "      <td>Hellen</td>\n",
       "      <td>47</td>\n",
       "      <td>23</td>\n",
       "      <td>66</td>\n",
       "      <td>45.333333</td>\n",
       "    </tr>\n",
       "  </tbody>\n",
       "</table>\n",
       "</div>"
      ],
      "text/plain": [
       "       Name  Math  Science  English    Average\n",
       "0     Kevin    30       78       56  54.666667\n",
       "1    Samuel    78       90       78  82.000000\n",
       "2    Samson    66       43       45  51.333333\n",
       "3  Caroline    89       90       56  78.333333\n",
       "4    Hellen    47       23       66  45.333333"
      ]
     },
     "execution_count": 11,
     "metadata": {},
     "output_type": "execute_result"
    }
   ],
   "source": [
    "student_score"
   ]
  },
  {
   "cell_type": "code",
   "execution_count": 12,
   "id": "dfd6bd0a-6393-4885-b1d6-31287b249fda",
   "metadata": {},
   "outputs": [
    {
     "data": {
      "text/plain": [
       "82.0"
      ]
     },
     "execution_count": 12,
     "metadata": {},
     "output_type": "execute_result"
    }
   ],
   "source": [
    "student_score.Average.max()"
   ]
  },
  {
   "cell_type": "code",
   "execution_count": 16,
   "id": "a8826dd9-aa44-44df-bb77-d62d44a2cbd8",
   "metadata": {},
   "outputs": [
    {
     "data": {
      "text/html": [
       "<div>\n",
       "<style scoped>\n",
       "    .dataframe tbody tr th:only-of-type {\n",
       "        vertical-align: middle;\n",
       "    }\n",
       "\n",
       "    .dataframe tbody tr th {\n",
       "        vertical-align: top;\n",
       "    }\n",
       "\n",
       "    .dataframe thead th {\n",
       "        text-align: right;\n",
       "    }\n",
       "</style>\n",
       "<table border=\"1\" class=\"dataframe\">\n",
       "  <thead>\n",
       "    <tr style=\"text-align: right;\">\n",
       "      <th></th>\n",
       "      <th>Name</th>\n",
       "      <th>Math</th>\n",
       "      <th>Science</th>\n",
       "      <th>English</th>\n",
       "      <th>Average</th>\n",
       "    </tr>\n",
       "  </thead>\n",
       "  <tbody>\n",
       "    <tr>\n",
       "      <th>1</th>\n",
       "      <td>Samuel</td>\n",
       "      <td>78</td>\n",
       "      <td>90</td>\n",
       "      <td>78</td>\n",
       "      <td>82.000000</td>\n",
       "    </tr>\n",
       "    <tr>\n",
       "      <th>3</th>\n",
       "      <td>Caroline</td>\n",
       "      <td>89</td>\n",
       "      <td>90</td>\n",
       "      <td>56</td>\n",
       "      <td>78.333333</td>\n",
       "    </tr>\n",
       "    <tr>\n",
       "      <th>0</th>\n",
       "      <td>Kevin</td>\n",
       "      <td>30</td>\n",
       "      <td>78</td>\n",
       "      <td>56</td>\n",
       "      <td>54.666667</td>\n",
       "    </tr>\n",
       "    <tr>\n",
       "      <th>2</th>\n",
       "      <td>Samson</td>\n",
       "      <td>66</td>\n",
       "      <td>43</td>\n",
       "      <td>45</td>\n",
       "      <td>51.333333</td>\n",
       "    </tr>\n",
       "    <tr>\n",
       "      <th>4</th>\n",
       "      <td>Hellen</td>\n",
       "      <td>47</td>\n",
       "      <td>23</td>\n",
       "      <td>66</td>\n",
       "      <td>45.333333</td>\n",
       "    </tr>\n",
       "  </tbody>\n",
       "</table>\n",
       "</div>"
      ],
      "text/plain": [
       "       Name  Math  Science  English    Average\n",
       "1    Samuel    78       90       78  82.000000\n",
       "3  Caroline    89       90       56  78.333333\n",
       "0     Kevin    30       78       56  54.666667\n",
       "2    Samson    66       43       45  51.333333\n",
       "4    Hellen    47       23       66  45.333333"
      ]
     },
     "execution_count": 16,
     "metadata": {},
     "output_type": "execute_result"
    }
   ],
   "source": [
    "student_score.sort_values(by='Average',ascending=False)"
   ]
  },
  {
   "cell_type": "code",
   "execution_count": null,
   "id": "de0d8255-4828-4f1d-b5cb-9e81301b0968",
   "metadata": {},
   "outputs": [],
   "source": []
  },
  {
   "cell_type": "code",
   "execution_count": null,
   "id": "7f5891b5-dbfd-4652-922e-52ba188c11cd",
   "metadata": {},
   "outputs": [],
   "source": [
    "#Assignment 2"
   ]
  },
  {
   "cell_type": "code",
   "execution_count": 19,
   "id": "8ef3fc1c-a191-4a98-8f89-1d20093268a2",
   "metadata": {},
   "outputs": [],
   "source": [
    "DegTemp=[20,78,94,34,76]\n",
    "farenheit_temperatures=[((y*9/5)+32) for y in DegTemp]"
   ]
  },
  {
   "cell_type": "code",
   "execution_count": 20,
   "id": "d3f746e1-8251-4f31-88a1-3aceb5dc6d6d",
   "metadata": {},
   "outputs": [
    {
     "data": {
      "text/plain": [
       "[68.0, 172.4, 201.2, 93.2, 168.8]"
      ]
     },
     "execution_count": 20,
     "metadata": {},
     "output_type": "execute_result"
    }
   ],
   "source": [
    "farenheit_temperatures"
   ]
  }
 ],
 "metadata": {
  "kernelspec": {
   "display_name": "Python 3 (ipykernel)",
   "language": "python",
   "name": "python3"
  },
  "language_info": {
   "codemirror_mode": {
    "name": "ipython",
    "version": 3
   },
   "file_extension": ".py",
   "mimetype": "text/x-python",
   "name": "python",
   "nbconvert_exporter": "python",
   "pygments_lexer": "ipython3",
   "version": "3.12.4"
  }
 },
 "nbformat": 4,
 "nbformat_minor": 5
}
