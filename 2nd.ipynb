{
 "cells": [
  {
   "cell_type": "code",
   "execution_count": 1,
   "id": "5b3f9408-8632-4fbd-92c4-4744de44fa64",
   "metadata": {},
   "outputs": [
    {
     "data": {
      "text/plain": [
       "'a'"
      ]
     },
     "execution_count": 1,
     "metadata": {},
     "output_type": "execute_result"
    }
   ],
   "source": [
    "planet = 'uranus'\n",
    "planet[2]"
   ]
  },
  {
   "cell_type": "code",
   "execution_count": 3,
   "id": "5b0a6ca5-8c36-49d9-857a-bfcd7ccdabf8",
   "metadata": {},
   "outputs": [
    {
     "data": {
      "text/plain": [
       "'peter'"
      ]
     },
     "execution_count": 3,
     "metadata": {},
     "output_type": "execute_result"
    }
   ],
   "source": [
    "name = 'peter cech'\n",
    "name[0:5]"
   ]
  },
  {
   "cell_type": "code",
   "execution_count": 11,
   "id": "e9e86890-22c2-4bbb-a982-698ab3b43f32",
   "metadata": {},
   "outputs": [
    {
     "data": {
      "text/plain": [
       "'cech'"
      ]
     },
     "execution_count": 11,
     "metadata": {},
     "output_type": "execute_result"
    }
   ],
   "source": [
    "name[6:10]"
   ]
  },
  {
   "cell_type": "code",
   "execution_count": 15,
   "id": "eaa4647e-6ccf-4ea2-8681-2949d78b18a4",
   "metadata": {},
   "outputs": [
    {
     "name": "stdin",
     "output_type": "stream",
     "text": [
      "Enter First name : Odhiambo\n"
     ]
    }
   ],
   "source": [
    "name = input('Enter First name :')"
   ]
  },
  {
   "cell_type": "code",
   "execution_count": 16,
   "id": "24a69d74-56a2-4082-9adc-108bd8e16b2c",
   "metadata": {},
   "outputs": [
    {
     "name": "stdout",
     "output_type": "stream",
     "text": [
      "Odhiambo\n"
     ]
    }
   ],
   "source": [
    "print(name)"
   ]
  },
  {
   "cell_type": "code",
   "execution_count": 17,
   "id": "99ba27fb-f57c-49fc-9ba5-b6d8f5edd9f7",
   "metadata": {},
   "outputs": [
    {
     "name": "stdout",
     "output_type": "stream",
     "text": [
      "0\n",
      "1\n",
      "2\n",
      "3\n",
      "4\n",
      "5\n",
      "6\n",
      "7\n",
      "8\n",
      "9\n",
      "10\n",
      "11\n",
      "12\n",
      "13\n",
      "14\n",
      "15\n"
     ]
    }
   ],
   "source": [
    "for i in range (16):\n",
    "    print(i)"
   ]
  },
  {
   "cell_type": "code",
   "execution_count": 18,
   "id": "557ac8e1-7164-47a1-851a-54ca4098685f",
   "metadata": {},
   "outputs": [
    {
     "name": "stdout",
     "output_type": "stream",
     "text": [
      "O\n",
      "d\n",
      "h\n",
      "i\n",
      "a\n",
      "m\n",
      "b\n",
      "o\n"
     ]
    }
   ],
   "source": [
    "for chr in name:\n",
    "    print(chr)"
   ]
  },
  {
   "cell_type": "code",
   "execution_count": 19,
   "id": "ae95ade5-7680-432e-9d69-640c87c9e1f7",
   "metadata": {},
   "outputs": [
    {
     "name": "stdout",
     "output_type": "stream",
     "text": [
      "O\n",
      "d\n",
      "h\n",
      "i\n",
      "a\n",
      "m\n",
      "b\n",
      "o\n"
     ]
    }
   ],
   "source": [
    "for x in name:\n",
    "    print(x)"
   ]
  },
  {
   "cell_type": "code",
   "execution_count": 20,
   "id": "082dd16c-badf-4717-a6bb-0b3a0c60e0af",
   "metadata": {},
   "outputs": [
    {
     "name": "stdin",
     "output_type": "stream",
     "text": [
      "Enter fish salmom8\n"
     ]
    }
   ],
   "source": [
    "tank = input('Enter fish')"
   ]
  },
  {
   "cell_type": "code",
   "execution_count": 21,
   "id": "d1075f5f-4ca3-49bb-97c0-1271db70ddcc",
   "metadata": {},
   "outputs": [
    {
     "name": "stdout",
     "output_type": "stream",
     "text": [
      "s\n",
      "a\n",
      "l\n",
      "m\n",
      "o\n",
      "m\n",
      "8\n"
     ]
    }
   ],
   "source": [
    "for x in tank:\n",
    "    print(x)"
   ]
  },
  {
   "cell_type": "code",
   "execution_count": 23,
   "id": "f93981e6-d841-4ab1-a04f-43b6e1e97fba",
   "metadata": {},
   "outputs": [
    {
     "name": "stdout",
     "output_type": "stream",
     "text": [
      "1\n",
      "4\n",
      "7\n"
     ]
    }
   ],
   "source": [
    "for i in range(1,9,3):\n",
    "    print(i)"
   ]
  },
  {
   "cell_type": "code",
   "execution_count": 1,
   "id": "26484816-01c1-4590-933c-80fdc70c307a",
   "metadata": {},
   "outputs": [
    {
     "name": "stdout",
     "output_type": "stream",
     "text": [
      "1\n",
      "2\n",
      "3\n",
      "4\n",
      "5\n",
      "6\n",
      "7\n",
      "8\n",
      "9\n",
      "10\n"
     ]
    }
   ],
   "source": [
    "\"\"\"\n",
    "Series\n",
    "here\"\"\"\n",
    "\n",
    "#1,2,3,4,5,6,7,8,9,10\n",
    "\n",
    "for x in range(1,11):\n",
    "    print(x)"
   ]
  },
  {
   "cell_type": "code",
   "execution_count": 2,
   "id": "51e39da7-4fab-4bdb-a1e4-9234de95fabf",
   "metadata": {},
   "outputs": [
    {
     "name": "stdout",
     "output_type": "stream",
     "text": [
      "1,2,3,4,5,6,7,8,9,10,"
     ]
    }
   ],
   "source": [
    "for x in range(1,11):\n",
    "    print(x, end=\",\")"
   ]
  },
  {
   "cell_type": "code",
   "execution_count": 4,
   "id": "563eb4b1-4fd2-43ae-bc2f-134035481435",
   "metadata": {},
   "outputs": [
    {
     "name": "stdout",
     "output_type": "stream",
     "text": [
      "1,2,3,4,5,6,7,8,9,10,\n",
      " 55\n"
     ]
    }
   ],
   "source": [
    "total=0\n",
    "for x in range(1,11):\n",
    "    total+=x\n",
    "    print(x, end=\",\")\n",
    "\n",
    "print('\\n',total)"
   ]
  },
  {
   "cell_type": "code",
   "execution_count": 5,
   "id": "b7c0a02f-daa9-4540-a4c6-5594797ee506",
   "metadata": {},
   "outputs": [
    {
     "name": "stdout",
     "output_type": "stream",
     "text": [
      "2,4,6,8,10,"
     ]
    }
   ],
   "source": [
    "#2,4,6,8,10\n",
    "for x in range(2,11,2):\n",
    "    print(x, end=\",\")"
   ]
  },
  {
   "cell_type": "code",
   "execution_count": 6,
   "id": "b3372c65-1c25-42db-b0a5-7d3bcdb94b11",
   "metadata": {},
   "outputs": [
    {
     "name": "stdout",
     "output_type": "stream",
     "text": [
      "1,5,9,13,17,21,25,29,33,"
     ]
    }
   ],
   "source": [
    "for x in range(1,36,4):\n",
    "    print(x, end=',')"
   ]
  },
  {
   "cell_type": "code",
   "execution_count": 7,
   "id": "930b3d86-1167-4d17-9764-59fc8c47fbbb",
   "metadata": {},
   "outputs": [
    {
     "name": "stdin",
     "output_type": "stream",
     "text": [
      "Enter Age: 23\n",
      "Enter Age: 45\n",
      "Enter Age: 89\n",
      "Enter Age: 12\n"
     ]
    },
    {
     "name": "stdout",
     "output_type": "stream",
     "text": [
      "169 42.25\n"
     ]
    }
   ],
   "source": [
    "x=int(input(\"Enter Age:\"))\n",
    "y=int(input(\"Enter Age:\"))\n",
    "z=int(input(\"Enter Age:\"))\n",
    "xy=int(input(\"Enter Age:\"))\n",
    "\n",
    "total=x+y+z+xy\n",
    "average=total/4\n",
    "\n",
    "print(total, average)"
   ]
  },
  {
   "cell_type": "code",
   "execution_count": 9,
   "id": "6ec8b561-def6-4872-b7f4-23a02f8ddbae",
   "metadata": {},
   "outputs": [
    {
     "name": "stdin",
     "output_type": "stream",
     "text": [
      "Enter Age 32\n"
     ]
    },
    {
     "name": "stdout",
     "output_type": "stream",
     "text": [
      "32,"
     ]
    },
    {
     "name": "stdin",
     "output_type": "stream",
     "text": [
      "Enter Age 89\n"
     ]
    },
    {
     "name": "stdout",
     "output_type": "stream",
     "text": [
      "89,"
     ]
    },
    {
     "name": "stdin",
     "output_type": "stream",
     "text": [
      "Enter Age 90\n"
     ]
    },
    {
     "name": "stdout",
     "output_type": "stream",
     "text": [
      "90,"
     ]
    },
    {
     "name": "stdin",
     "output_type": "stream",
     "text": [
      "Enter Age 45\n"
     ]
    },
    {
     "name": "stdout",
     "output_type": "stream",
     "text": [
      "45,\n",
      " 649 162.25\n"
     ]
    }
   ],
   "source": [
    "for x in range(4):\n",
    "    x=int(input(\"Enter Age\"))\n",
    "    total +=x\n",
    "    print(x,end=',')\n",
    "\n",
    "print('\\n',total,total/4)"
   ]
  },
  {
   "cell_type": "code",
   "execution_count": 11,
   "id": "c5d07437-78d0-4566-9bd9-59ed4b5679bc",
   "metadata": {},
   "outputs": [
    {
     "name": "stdin",
     "output_type": "stream",
     "text": [
      "Enter a number 34\n"
     ]
    },
    {
     "name": "stdout",
     "output_type": "stream",
     "text": [
      "34,"
     ]
    },
    {
     "name": "stdin",
     "output_type": "stream",
     "text": [
      "Enter a number 89\n"
     ]
    },
    {
     "name": "stdout",
     "output_type": "stream",
     "text": [
      "89,"
     ]
    },
    {
     "name": "stdin",
     "output_type": "stream",
     "text": [
      "Enter a number 34\n"
     ]
    },
    {
     "name": "stdout",
     "output_type": "stream",
     "text": [
      "34,"
     ]
    },
    {
     "name": "stdin",
     "output_type": "stream",
     "text": [
      "Enter a number 87\n"
     ]
    },
    {
     "name": "stdout",
     "output_type": "stream",
     "text": [
      "87,"
     ]
    },
    {
     "name": "stdin",
     "output_type": "stream",
     "text": [
      "Enter a number 12\n"
     ]
    },
    {
     "name": "stdout",
     "output_type": "stream",
     "text": [
      "12,"
     ]
    },
    {
     "name": "stdin",
     "output_type": "stream",
     "text": [
      "Enter a number 54\n"
     ]
    },
    {
     "name": "stdout",
     "output_type": "stream",
     "text": [
      "54,"
     ]
    },
    {
     "name": "stdin",
     "output_type": "stream",
     "text": [
      "Enter a number 90\n"
     ]
    },
    {
     "name": "stdout",
     "output_type": "stream",
     "text": [
      "90,\n",
      " 400 57.142857142857146\n"
     ]
    }
   ],
   "source": [
    "total=0\n",
    "for x in range(7):\n",
    "    x=int(input('Enter a number'))\n",
    "    total+=x\n",
    "    print(x, end=',')\n",
    "    average=(total/7)\n",
    "\n",
    "print('\\n',total,average)\n",
    "    "
   ]
  },
  {
   "cell_type": "code",
   "execution_count": null,
   "id": "af11f8c6-9b63-4352-b3a6-555d394d9f4b",
   "metadata": {},
   "outputs": [],
   "source": []
  }
 ],
 "metadata": {
  "kernelspec": {
   "display_name": "Python 3 (ipykernel)",
   "language": "python",
   "name": "python3"
  },
  "language_info": {
   "codemirror_mode": {
    "name": "ipython",
    "version": 3
   },
   "file_extension": ".py",
   "mimetype": "text/x-python",
   "name": "python",
   "nbconvert_exporter": "python",
   "pygments_lexer": "ipython3",
   "version": "3.12.4"
  }
 },
 "nbformat": 4,
 "nbformat_minor": 5
}
