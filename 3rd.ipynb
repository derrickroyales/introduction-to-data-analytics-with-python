{
 "cells": [
  {
   "cell_type": "code",
   "execution_count": 1,
   "id": "359c1af7-4ec3-407f-9611-6e7105c79530",
   "metadata": {},
   "outputs": [
    {
     "name": "stdin",
     "output_type": "stream",
     "text": [
      "Enter Age 87\n",
      "Enter Age 90\n",
      "Enter Age 56\n",
      "Enter Age 08\n"
     ]
    },
    {
     "name": "stdout",
     "output_type": "stream",
     "text": [
      "60.25\n"
     ]
    }
   ],
   "source": [
    "count=0\n",
    "total=0\n",
    "while count<4:\n",
    "    x=int(input('Enter Age'))\n",
    "    total+=x\n",
    "    count+=1\n",
    "\n",
    "print(total/count)"
   ]
  },
  {
   "cell_type": "code",
   "execution_count": 3,
   "id": "a0134297-ae03-4f0c-9919-db0e24b15d84",
   "metadata": {},
   "outputs": [
    {
     "name": "stdout",
     "output_type": "stream",
     "text": [
      "B\n"
     ]
    }
   ],
   "source": [
    "score = 89\n",
    "\n",
    "if score >= 90:\n",
    "    print('A')\n",
    "elif score >= 80:\n",
    "    print('B')\n",
    "elif score >= 70:\n",
    "    print('C')\n",
    "elif score >= 60:\n",
    "    print('D')\n",
    "else:\n",
    "    print('E')"
   ]
  },
  {
   "cell_type": "code",
   "execution_count": 6,
   "id": "8b3d892c-90ed-4369-9968-06d89c67be0e",
   "metadata": {},
   "outputs": [
    {
     "name": "stdin",
     "output_type": "stream",
     "text": [
      "Name Lida\n"
     ]
    }
   ],
   "source": [
    "check = True\n",
    "while check:\n",
    "    name= input('Name')\n",
    "    if 'Lida' or 'lida' in name:\n",
    "        check = False"
   ]
  },
  {
   "cell_type": "code",
   "execution_count": 2,
   "id": "70fc9843-687f-4979-a115-4b145e9e14d8",
   "metadata": {},
   "outputs": [
    {
     "name": "stdout",
     "output_type": "stream",
     "text": [
      "0\n",
      "5\n",
      "10\n",
      "15\n",
      "20\n",
      "25\n",
      "30\n",
      "35\n",
      "40\n",
      "45\n",
      "50\n",
      "55\n",
      "60\n",
      "65\n",
      "70\n",
      "75\n",
      "80\n",
      "85\n",
      "90\n",
      "95\n",
      "100\n"
     ]
    }
   ],
   "source": [
    "for x in range(0,101,5):\n",
    "    print(x)"
   ]
  },
  {
   "cell_type": "code",
   "execution_count": 5,
   "id": "bf661eb3-e108-47d2-909b-030785c7a9a2",
   "metadata": {},
   "outputs": [
    {
     "name": "stdin",
     "output_type": "stream",
     "text": [
      "Enter a number 78\n"
     ]
    },
    {
     "name": "stdout",
     "output_type": "stream",
     "text": [
      "78,"
     ]
    },
    {
     "name": "stdin",
     "output_type": "stream",
     "text": [
      "Enter a number 78\n"
     ]
    },
    {
     "name": "stdout",
     "output_type": "stream",
     "text": [
      "78,"
     ]
    },
    {
     "name": "stdin",
     "output_type": "stream",
     "text": [
      "Enter a number 67\n"
     ]
    },
    {
     "name": "stdout",
     "output_type": "stream",
     "text": [
      "67,"
     ]
    },
    {
     "name": "stdin",
     "output_type": "stream",
     "text": [
      "Enter a number 90\n"
     ]
    },
    {
     "name": "stdout",
     "output_type": "stream",
     "text": [
      "90,"
     ]
    },
    {
     "name": "stdin",
     "output_type": "stream",
     "text": [
      "Enter a number 35\n"
     ]
    },
    {
     "name": "stdout",
     "output_type": "stream",
     "text": [
      "35,"
     ]
    },
    {
     "name": "stdin",
     "output_type": "stream",
     "text": [
      "Enter a number 78\n"
     ]
    },
    {
     "name": "stdout",
     "output_type": "stream",
     "text": [
      "78,"
     ]
    },
    {
     "name": "stdin",
     "output_type": "stream",
     "text": [
      "Enter a number 78\n"
     ]
    },
    {
     "name": "stdout",
     "output_type": "stream",
     "text": [
      "78,\n",
      " Total is 504 Average is 72.0\n"
     ]
    }
   ],
   "source": [
    "total=0\n",
    "for x in range(7):\n",
    "    x=int(input('Enter a number'))\n",
    "    total+=x\n",
    "    print(x, end=',')\n",
    "    average=(total/7)\n",
    "\n",
    "print('\\n','Total is',total,'Average is',average)"
   ]
  },
  {
   "cell_type": "code",
   "execution_count": 17,
   "id": "f3717697-41b3-4e5e-8454-f71cc60c4530",
   "metadata": {},
   "outputs": [
    {
     "name": "stdin",
     "output_type": "stream",
     "text": [
      "Enter scores 67\n"
     ]
    },
    {
     "name": "stdout",
     "output_type": "stream",
     "text": [
      "67 , D\n"
     ]
    },
    {
     "name": "stdin",
     "output_type": "stream",
     "text": [
      "Enter scores 68\n"
     ]
    },
    {
     "name": "stdout",
     "output_type": "stream",
     "text": [
      "68 , D\n"
     ]
    },
    {
     "name": "stdin",
     "output_type": "stream",
     "text": [
      "Enter scores 89\n"
     ]
    },
    {
     "name": "stdout",
     "output_type": "stream",
     "text": [
      "89 , B\n"
     ]
    },
    {
     "name": "stdin",
     "output_type": "stream",
     "text": [
      "Enter scores 90\n"
     ]
    },
    {
     "name": "stdout",
     "output_type": "stream",
     "text": [
      "90 , A\n",
      "314 78.5\n"
     ]
    }
   ],
   "source": [
    "count = 0\n",
    "sum = 0\n",
    "while count<4:\n",
    "    x=int(input('Enter scores'))\n",
    "    if x >= 90:\n",
    "        print(x, ',','A')\n",
    "    elif x >= 80:\n",
    "        print(x,',','B')\n",
    "    elif x >= 70:\n",
    "        print(x,',','C')\n",
    "    elif x >= 60:\n",
    "        print(x,',','D')\n",
    "    else:\n",
    "        print(x,',','E')\n",
    "    sum+=x\n",
    "    count+=1\n",
    "print(sum, sum/4)"
   ]
  },
  {
   "cell_type": "code",
   "execution_count": 9,
   "id": "a81c0f4f-4f71-4186-8ea7-fede36b6b674",
   "metadata": {},
   "outputs": [
    {
     "name": "stdin",
     "output_type": "stream",
     "text": [
      "Enter input 70\n"
     ]
    },
    {
     "name": "stdout",
     "output_type": "stream",
     "text": [
      "Grade B\n"
     ]
    },
    {
     "name": "stdin",
     "output_type": "stream",
     "text": [
      "Enter input 60\n"
     ]
    },
    {
     "name": "stdout",
     "output_type": "stream",
     "text": [
      "Grade B\n"
     ]
    },
    {
     "name": "stdin",
     "output_type": "stream",
     "text": [
      "Enter input 50\n"
     ]
    },
    {
     "name": "stdout",
     "output_type": "stream",
     "text": [
      "Not valid\n"
     ]
    },
    {
     "name": "stdin",
     "output_type": "stream",
     "text": [
      "Enter input 30\n"
     ]
    },
    {
     "name": "stdout",
     "output_type": "stream",
     "text": [
      "Not valid\n"
     ]
    },
    {
     "name": "stdin",
     "output_type": "stream",
     "text": [
      "Enter input 98\n"
     ]
    },
    {
     "name": "stdout",
     "output_type": "stream",
     "text": [
      "Grade A\n"
     ]
    }
   ],
   "source": [
    "scores=0\n",
    "for scores in range(5):\n",
    "    scores = int(input(\"Enter input\"))\n",
    "    if scores >=80:\n",
    "        print(\"Grade A\")\n",
    "    elif scores >= 60:\n",
    "        print(\"Grade B\")\n",
    "    else:\n",
    "        print(\"Not valid\")"
   ]
  },
  {
   "cell_type": "code",
   "execution_count": 14,
   "id": "a5c0aca8-6500-44f4-bded-b9515d6baa0d",
   "metadata": {},
   "outputs": [
    {
     "ename": "SyntaxError",
     "evalue": "incomplete input (3905982462.py, line 1)",
     "output_type": "error",
     "traceback": [
      "\u001b[1;36m  Cell \u001b[1;32mIn[14], line 1\u001b[1;36m\u001b[0m\n\u001b[1;33m    Diameter=float(input(\"Enter radius\")\u001b[0m\n\u001b[1;37m                                        ^\u001b[0m\n\u001b[1;31mSyntaxError\u001b[0m\u001b[1;31m:\u001b[0m incomplete input\n"
     ]
    }
   ],
   "source": [
    "Diameter=float(input(\"Enter radius\")\n"
   ]
  },
  {
   "cell_type": "code",
   "execution_count": 6,
   "id": "0a32daec-90d9-42f1-b62c-0e33333a7b8f",
   "metadata": {},
   "outputs": [
    {
     "name": "stdin",
     "output_type": "stream",
     "text": [
      " 4\n"
     ]
    },
    {
     "name": "stdout",
     "output_type": "stream",
     "text": [
      "even\n"
     ]
    },
    {
     "name": "stdin",
     "output_type": "stream",
     "text": [
      " 78\n"
     ]
    },
    {
     "name": "stdout",
     "output_type": "stream",
     "text": [
      "even\n"
     ]
    }
   ],
   "source": [
    "for x in range(2):\n",
    "    def check(digits):\n",
    "        for item in digits:\n",
    "            if item%2==0:\n",
    "                print('even')\n",
    "            else:\n",
    "                print('odd')\n",
    "\n",
    "    number=int(input())\n",
    "    check([number])\n"
   ]
  },
  {
   "cell_type": "code",
   "execution_count": null,
   "id": "283d8913-5d7b-4713-b77d-43f89b56c0cf",
   "metadata": {},
   "outputs": [],
   "source": []
  }
 ],
 "metadata": {
  "kernelspec": {
   "display_name": "Python 3 (ipykernel)",
   "language": "python",
   "name": "python3"
  },
  "language_info": {
   "codemirror_mode": {
    "name": "ipython",
    "version": 3
   },
   "file_extension": ".py",
   "mimetype": "text/x-python",
   "name": "python",
   "nbconvert_exporter": "python",
   "pygments_lexer": "ipython3",
   "version": "3.12.4"
  }
 },
 "nbformat": 4,
 "nbformat_minor": 5
}
