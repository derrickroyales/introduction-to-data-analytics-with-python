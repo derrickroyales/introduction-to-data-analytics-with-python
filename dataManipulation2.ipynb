{
 "cells": [
  {
   "cell_type": "code",
   "execution_count": 1,
   "id": "53b4c33a-bcea-4a40-adae-4c929730ba6c",
   "metadata": {},
   "outputs": [],
   "source": [
    "import pandas as pd"
   ]
  },
  {
   "cell_type": "code",
   "execution_count": 2,
   "id": "b5025a64-c9cf-4cd7-ba32-ded7702d0590",
   "metadata": {},
   "outputs": [],
   "source": [
    "df=pd.read_excel('DataFiles/data.xlsx')"
   ]
  },
  {
   "cell_type": "code",
   "execution_count": null,
   "id": "67dc47f4-5aa0-41d5-ac97-2ac2a51b8f84",
   "metadata": {},
   "outputs": [],
   "source": [
    "df[['age','salary']]+[1,5000]"
   ]
  },
  {
   "cell_type": "markdown",
   "id": "349decfc-745b-40d5-a934-af7165cc1144",
   "metadata": {},
   "source": [
    "## Grouping and Aggregation\n",
    "we group blah blah"
   ]
  },
  {
   "cell_type": "code",
   "execution_count": 8,
   "id": "935fcf9e-7386-4706-9e48-0a76267080f7",
   "metadata": {},
   "outputs": [],
   "source": [
    "grouped=df.groupby('department')"
   ]
  },
  {
   "cell_type": "code",
   "execution_count": 9,
   "id": "85329478-5d4a-4528-82da-c0d080684a82",
   "metadata": {},
   "outputs": [
    {
     "data": {
      "text/plain": [
       "<pandas.core.groupby.generic.DataFrameGroupBy object at 0x000002A6FCD4C4A0>"
      ]
     },
     "execution_count": 9,
     "metadata": {},
     "output_type": "execute_result"
    }
   ],
   "source": [
    "grouped"
   ]
  },
  {
   "cell_type": "code",
   "execution_count": 12,
   "id": "0ef2128d-e507-4793-896b-95c0af503491",
   "metadata": {},
   "outputs": [],
   "source": [
    "grouped=df.groupby('department')['salary'].sum()"
   ]
  },
  {
   "cell_type": "code",
   "execution_count": 13,
   "id": "159c9141-cbbb-4b82-ac62-c5bbf2f07cf7",
   "metadata": {},
   "outputs": [
    {
     "data": {
      "text/plain": [
       "department\n",
       "Engineering    272000\n",
       "HR             205000\n",
       "Sales          166000\n",
       "Name: salary, dtype: int64"
      ]
     },
     "execution_count": 13,
     "metadata": {},
     "output_type": "execute_result"
    }
   ],
   "source": [
    "grouped"
   ]
  },
  {
   "cell_type": "code",
   "execution_count": 15,
   "id": "d8c95391-707b-47bc-a0fa-92a44c355e65",
   "metadata": {},
   "outputs": [
    {
     "data": {
      "text/plain": [
       "department\n",
       "Engineering    68000.000000\n",
       "HR             51250.000000\n",
       "Sales          55333.333333\n",
       "Name: salary, dtype: float64"
      ]
     },
     "execution_count": 15,
     "metadata": {},
     "output_type": "execute_result"
    }
   ],
   "source": [
    "grouped=df.groupby('department')['salary'].mean()\n",
    "grouped"
   ]
  },
  {
   "cell_type": "code",
   "execution_count": 19,
   "id": "2b918462-8579-4303-8550-ec273e4956bb",
   "metadata": {},
   "outputs": [
    {
     "data": {
      "text/html": [
       "<div>\n",
       "<style scoped>\n",
       "    .dataframe tbody tr th:only-of-type {\n",
       "        vertical-align: middle;\n",
       "    }\n",
       "\n",
       "    .dataframe tbody tr th {\n",
       "        vertical-align: top;\n",
       "    }\n",
       "\n",
       "    .dataframe thead tr th {\n",
       "        text-align: left;\n",
       "    }\n",
       "\n",
       "    .dataframe thead tr:last-of-type th {\n",
       "        text-align: right;\n",
       "    }\n",
       "</style>\n",
       "<table border=\"1\" class=\"dataframe\">\n",
       "  <thead>\n",
       "    <tr>\n",
       "      <th></th>\n",
       "      <th colspan=\"8\" halign=\"left\">salary</th>\n",
       "    </tr>\n",
       "    <tr>\n",
       "      <th></th>\n",
       "      <th>sum</th>\n",
       "      <th>mean</th>\n",
       "      <th>count</th>\n",
       "      <th>min</th>\n",
       "      <th>max</th>\n",
       "      <th>std</th>\n",
       "      <th>var</th>\n",
       "      <th>median</th>\n",
       "    </tr>\n",
       "    <tr>\n",
       "      <th>department</th>\n",
       "      <th></th>\n",
       "      <th></th>\n",
       "      <th></th>\n",
       "      <th></th>\n",
       "      <th></th>\n",
       "      <th></th>\n",
       "      <th></th>\n",
       "      <th></th>\n",
       "    </tr>\n",
       "  </thead>\n",
       "  <tbody>\n",
       "    <tr>\n",
       "      <th>Engineering</th>\n",
       "      <td>272000</td>\n",
       "      <td>68000.000000</td>\n",
       "      <td>4</td>\n",
       "      <td>60000</td>\n",
       "      <td>80000</td>\n",
       "      <td>9092.121131</td>\n",
       "      <td>8.266667e+07</td>\n",
       "      <td>66000.0</td>\n",
       "    </tr>\n",
       "    <tr>\n",
       "      <th>HR</th>\n",
       "      <td>205000</td>\n",
       "      <td>51250.000000</td>\n",
       "      <td>4</td>\n",
       "      <td>50000</td>\n",
       "      <td>52000</td>\n",
       "      <td>957.427108</td>\n",
       "      <td>9.166667e+05</td>\n",
       "      <td>51500.0</td>\n",
       "    </tr>\n",
       "    <tr>\n",
       "      <th>Sales</th>\n",
       "      <td>166000</td>\n",
       "      <td>55333.333333</td>\n",
       "      <td>3</td>\n",
       "      <td>53000</td>\n",
       "      <td>58000</td>\n",
       "      <td>2516.611478</td>\n",
       "      <td>6.333333e+06</td>\n",
       "      <td>55000.0</td>\n",
       "    </tr>\n",
       "  </tbody>\n",
       "</table>\n",
       "</div>"
      ],
      "text/plain": [
       "             salary                                                 \\\n",
       "                sum          mean count    min    max          std   \n",
       "department                                                           \n",
       "Engineering  272000  68000.000000     4  60000  80000  9092.121131   \n",
       "HR           205000  51250.000000     4  50000  52000   957.427108   \n",
       "Sales        166000  55333.333333     3  53000  58000  2516.611478   \n",
       "\n",
       "                                    \n",
       "                      var   median  \n",
       "department                          \n",
       "Engineering  8.266667e+07  66000.0  \n",
       "HR           9.166667e+05  51500.0  \n",
       "Sales        6.333333e+06  55000.0  "
      ]
     },
     "execution_count": 19,
     "metadata": {},
     "output_type": "execute_result"
    }
   ],
   "source": [
    "df.groupby('department').agg({\n",
    "             'salary': ['sum','mean','count','min','max','std','var','median']\n",
    "})"
   ]
  },
  {
   "cell_type": "code",
   "execution_count": null,
   "id": "fb10ef37-315e-42fa-b9b6-857571de9499",
   "metadata": {},
   "outputs": [],
   "source": []
  },
  {
   "cell_type": "code",
   "execution_count": null,
   "id": "b94709fa-4150-44b0-87d5-e9ffb2a15b4e",
   "metadata": {},
   "outputs": [],
   "source": []
  },
  {
   "cell_type": "code",
   "execution_count": null,
   "id": "0faf283e-ec8a-4844-b9ab-e551e73cf016",
   "metadata": {},
   "outputs": [],
   "source": []
  },
  {
   "cell_type": "code",
   "execution_count": null,
   "id": "6f9a2f72-5cb2-41c1-9e97-60e71e95b673",
   "metadata": {},
   "outputs": [],
   "source": []
  }
 ],
 "metadata": {
  "kernelspec": {
   "display_name": "Python 3 (ipykernel)",
   "language": "python",
   "name": "python3"
  },
  "language_info": {
   "codemirror_mode": {
    "name": "ipython",
    "version": 3
   },
   "file_extension": ".py",
   "mimetype": "text/x-python",
   "name": "python",
   "nbconvert_exporter": "python",
   "pygments_lexer": "ipython3",
   "version": "3.12.4"
  }
 },
 "nbformat": 4,
 "nbformat_minor": 5
}
