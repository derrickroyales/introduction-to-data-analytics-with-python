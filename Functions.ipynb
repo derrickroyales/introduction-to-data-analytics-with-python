{
 "cells": [
  {
   "cell_type": "code",
   "execution_count": 8,
   "id": "9d890ba6-9bfe-4bb1-a255-50339b936a3c",
   "metadata": {},
   "outputs": [],
   "source": [
    "def look():\n",
    "    print('Correct')"
   ]
  },
  {
   "cell_type": "code",
   "execution_count": 10,
   "id": "5cdfae84-bef1-4c55-a83b-5d38fe7ab886",
   "metadata": {},
   "outputs": [
    {
     "name": "stdout",
     "output_type": "stream",
     "text": [
      "Correct\n"
     ]
    }
   ],
   "source": [
    "look()"
   ]
  },
  {
   "cell_type": "code",
   "execution_count": 11,
   "id": "fb2f0956-32b6-4099-9cc4-61777d767e43",
   "metadata": {},
   "outputs": [
    {
     "name": "stdout",
     "output_type": "stream",
     "text": [
      "Ruto Must Go\n"
     ]
    }
   ],
   "source": [
    "def GenZ():\n",
    "    print('Ruto Must Go')\n",
    "\n",
    "GenZ()"
   ]
  },
  {
   "cell_type": "code",
   "execution_count": 12,
   "id": "c9ba1ca8-4c16-4a7a-ab60-e30ef96243da",
   "metadata": {},
   "outputs": [
    {
     "name": "stdout",
     "output_type": "stream",
     "text": [
      "5\n"
     ]
    },
    {
     "data": {
      "text/plain": [
       "5"
      ]
     },
     "execution_count": 12,
     "metadata": {},
     "output_type": "execute_result"
    }
   ],
   "source": [
    "def add(a,b):\n",
    "    result=a+b\n",
    "    print(result)\n",
    "    return result\n",
    "add(2,3)"
   ]
  },
  {
   "cell_type": "code",
   "execution_count": 16,
   "id": "2d2ac629-0280-45d4-9d38-515f479cecfc",
   "metadata": {},
   "outputs": [
    {
     "data": {
      "text/plain": [
       "14"
      ]
     },
     "execution_count": 16,
     "metadata": {},
     "output_type": "execute_result"
    }
   ],
   "source": [
    "max(10,13,14)"
   ]
  },
  {
   "cell_type": "code",
   "execution_count": 17,
   "id": "d3c6d0d2-d972-416a-a3b5-a10530cc7813",
   "metadata": {},
   "outputs": [
    {
     "data": {
      "text/plain": [
       "5"
      ]
     },
     "execution_count": 17,
     "metadata": {},
     "output_type": "execute_result"
    }
   ],
   "source": [
    "len(\"Stacy\")"
   ]
  },
  {
   "cell_type": "code",
   "execution_count": 18,
   "id": "b9dc9576-8933-482c-9887-7141dfc3353f",
   "metadata": {},
   "outputs": [
    {
     "data": {
      "text/plain": [
       "int"
      ]
     },
     "execution_count": 18,
     "metadata": {},
     "output_type": "execute_result"
    }
   ],
   "source": [
    "type(5)"
   ]
  },
  {
   "cell_type": "code",
   "execution_count": 19,
   "id": "ef73ede1-dfb8-408d-9c36-57c21abce141",
   "metadata": {},
   "outputs": [
    {
     "data": {
      "text/plain": [
       "bool"
      ]
     },
     "execution_count": 19,
     "metadata": {},
     "output_type": "execute_result"
    }
   ],
   "source": [
    "type(True)"
   ]
  },
  {
   "cell_type": "code",
   "execution_count": 20,
   "id": "c9d6dcc9-599c-425a-8f6a-b0a94c88d1ad",
   "metadata": {},
   "outputs": [
    {
     "name": "stdout",
     "output_type": "stream",
     "text": [
      "1\n"
     ]
    }
   ],
   "source": [
    "myList=[1,2,3]\n",
    "print(myList[0])"
   ]
  },
  {
   "cell_type": "code",
   "execution_count": 21,
   "id": "09386d4d-d111-4f24-8f74-e9c574feaabe",
   "metadata": {},
   "outputs": [
    {
     "data": {
      "text/plain": [
       "'tomatoes'"
      ]
     },
     "execution_count": 21,
     "metadata": {},
     "output_type": "execute_result"
    }
   ],
   "source": [
    "grocery=['wiu', 'tomatoes','onions']\n",
    "grocery[1]"
   ]
  },
  {
   "cell_type": "code",
   "execution_count": 23,
   "id": "ed5d4af2-3add-41e3-b8ca-53bcb6ce40fe",
   "metadata": {},
   "outputs": [
    {
     "name": "stdout",
     "output_type": "stream",
     "text": [
      "wiu\n",
      "tomatoes\n",
      "onions\n",
      "['wiu', 'tomatoes', 'onions']\n"
     ]
    }
   ],
   "source": [
    "x=0\n",
    "for item in grocery:\n",
    "    print(item)\n",
    "print(grocery)"
   ]
  },
  {
   "cell_type": "code",
   "execution_count": 30,
   "id": "d39ded6a-87a6-4f5e-a067-054b4009ff53",
   "metadata": {},
   "outputs": [
    {
     "name": "stdout",
     "output_type": "stream",
     "text": [
      "['Kitungu', 'tomatoes', 'onions']\n"
     ]
    }
   ],
   "source": [
    "grocery=['wiu', 'tomatoes','onions']\n",
    "ind=0\n",
    "for item in grocery:\n",
    "    if item=='onions':\n",
    "        grocery[ind]='Kitungu'\n",
    "    ind=ind+1\n",
    "print(grocery)"
   ]
  },
  {
   "cell_type": "code",
   "execution_count": 27,
   "id": "18b644fd-2a45-4fca-8361-e5e8e04c94dd",
   "metadata": {},
   "outputs": [],
   "source": [
    "grocery[2]='cabbage'"
   ]
  },
  {
   "cell_type": "code",
   "execution_count": 28,
   "id": "533e2394-7975-41fa-b14e-3f1cd287dad6",
   "metadata": {},
   "outputs": [
    {
     "data": {
      "text/plain": [
       "'cabbage'"
      ]
     },
     "execution_count": 28,
     "metadata": {},
     "output_type": "execute_result"
    }
   ],
   "source": [
    "grocery[2]"
   ]
  },
  {
   "cell_type": "code",
   "execution_count": 31,
   "id": "5df2217a-6201-4d03-810a-2c6177ba5a47",
   "metadata": {},
   "outputs": [
    {
     "name": "stdout",
     "output_type": "stream",
     "text": [
      "['Kitungu', 'tomatoes', 'onions', 'spinach']\n"
     ]
    }
   ],
   "source": [
    "grocery.append('spinach')\n",
    "print(grocery)"
   ]
  },
  {
   "cell_type": "code",
   "execution_count": 10,
   "id": "ce0996c1-4278-4928-b4af-4c20e471f21f",
   "metadata": {},
   "outputs": [
    {
     "name": "stdout",
     "output_type": "stream",
     "text": [
      "even\n"
     ]
    }
   ],
   "source": [
    "def checker(a):\n",
    "    if a%2==0:\n",
    "        print('even')\n",
    "    else:\n",
    "        print('odd')\n",
    "checker(4)\n",
    "        \n",
    "    \n"
   ]
  },
  {
   "cell_type": "code",
   "execution_count": 11,
   "id": "69ad5fc0-bbbb-4f3b-9a86-87f9945ca5c1",
   "metadata": {},
   "outputs": [
    {
     "name": "stdout",
     "output_type": "stream",
     "text": [
      "even\n",
      "odd\n",
      "odd\n",
      "even\n",
      "even\n"
     ]
    }
   ],
   "source": [
    "numbers=[2,3,9,8,6]\n",
    "ind=0\n",
    "for item in numbers:\n",
    "    if item%2==0:\n",
    "        print('even')\n",
    "    else:\n",
    "        print('odd')\n",
    "\n",
    "    "
   ]
  },
  {
   "cell_type": "code",
   "execution_count": 15,
   "id": "21ebfa19-239c-41b6-a255-024e2eb706fc",
   "metadata": {},
   "outputs": [
    {
     "name": "stdin",
     "output_type": "stream",
     "text": [
      "Enter a number 67\n",
      "Enter a number 78\n",
      "Enter a number 89\n",
      "Enter a number 56\n",
      "Enter a number 56\n"
     ]
    },
    {
     "name": "stdout",
     "output_type": "stream",
     "text": [
      "[67, 78, 89, 56, 56]\n"
     ]
    }
   ],
   "source": [
    "numbers=[]\n",
    "for x in range(5):\n",
    "    numbers.append(int(input('Enter a number')))\n",
    "print(numbers)\n"
   ]
  },
  {
   "cell_type": "code",
   "execution_count": 18,
   "id": "352337f1-ff00-4eb4-8e52-2437512c8eb3",
   "metadata": {},
   "outputs": [
    {
     "name": "stdout",
     "output_type": "stream",
     "text": [
      "False\n"
     ]
    }
   ],
   "source": [
    "x='Brian'\n",
    "y='Ken'\n",
    "if x[0]==y[0]:\n",
    "     print('True')\n",
    "else:\n",
    "    print('False')"
   ]
  },
  {
   "cell_type": "code",
   "execution_count": 26,
   "id": "52fb0f49-a9ee-469e-a974-4f288e35e5ad",
   "metadata": {},
   "outputs": [
    {
     "name": "stdin",
     "output_type": "stream",
     "text": [
      "Enter a number 78\n",
      "Enter a number 89\n",
      "Enter a number 56\n",
      "Enter a number 90\n",
      "Enter a number 57\n"
     ]
    },
    {
     "name": "stdout",
     "output_type": "stream",
     "text": [
      "[78, 89, 56, 90, 57]\n",
      "even\n",
      "odd\n",
      "even\n",
      "even\n",
      "odd\n"
     ]
    }
   ],
   "source": [
    "def numberChecker(b):\n",
    "    for item in b:\n",
    "        if item%2==0:\n",
    "            print('even')\n",
    "        else:\n",
    "            print('odd') \n",
    "\n",
    "numbers=[]\n",
    "for x in range(5):\n",
    "    numbers.append(int(input('Enter a number')))\n",
    "print(numbers)\n",
    "numberChecker(numbers)\n"
   ]
  },
  {
   "cell_type": "code",
   "execution_count": 35,
   "id": "c3290faf-cb26-4a8c-8f0e-c4d3d364c7a6",
   "metadata": {},
   "outputs": [
    {
     "name": "stdin",
     "output_type": "stream",
     "text": [
      "enter number 67\n"
     ]
    },
    {
     "name": "stdout",
     "output_type": "stream",
     "text": [
      "[67]\n"
     ]
    },
    {
     "name": "stdin",
     "output_type": "stream",
     "text": [
      "enter number 90\n"
     ]
    },
    {
     "name": "stdout",
     "output_type": "stream",
     "text": [
      "[67, 90]\n",
      "100\n",
      "90\n"
     ]
    }
   ],
   "source": [
    "num = []\n",
    "for x in range(2):\n",
    "    num.append(int(input(\"enter number\")))\n",
    "    print(num)\n",
    "    \n",
    "y= max(num)\n",
    "z = sum([y,10])\n",
    "print(z)\n",
    "print(y)\n",
    "\n",
    "\n",
    "\n",
    "\n",
    "\n",
    "\n"
   ]
  },
  {
   "cell_type": "code",
   "execution_count": 37,
   "id": "5788c086-f061-4183-a247-b54cb0ae4436",
   "metadata": {},
   "outputs": [
    {
     "name": "stdout",
     "output_type": "stream",
     "text": [
      "{'name': 'Darlsy', 'age': 35, 'salary': 400}\n"
     ]
    }
   ],
   "source": [
    "#dictionary\n",
    "data={\n",
    "    'name':'Darlsy',\n",
    "    'age':35,\n",
    "    'salary':400\n",
    "}\n",
    "print(data)"
   ]
  },
  {
   "cell_type": "code",
   "execution_count": 38,
   "id": "eabaee8c-d314-4306-867c-253133ad3783",
   "metadata": {},
   "outputs": [
    {
     "name": "stdout",
     "output_type": "stream",
     "text": [
      "{'name': ['Darlsy', 'Kevin', 'Indas', 'Persun'], 'age': [35, 100, 34, 67], 'salary': [400, 500, 560, 754]}\n"
     ]
    }
   ],
   "source": [
    "data={\n",
    "    'name':['Darlsy', 'Kevin', 'Indas', 'Persun'],\n",
    "    'age':[35, 100, 34, 67],\n",
    "    'salary':[400, 500,560,754]\n",
    "}\n",
    "print(data)"
   ]
  },
  {
   "cell_type": "code",
   "execution_count": 39,
   "id": "f6467e82-b9a5-48f8-9de0-1d92cf57cff9",
   "metadata": {},
   "outputs": [
    {
     "data": {
      "text/plain": [
       "{'name': ['Darlsy', 'Kevin', 'Indas', 'Persun'],\n",
       " 'age': [35, 100, 34, 67],\n",
       " 'salary': [400, 500, 560, 754]}"
      ]
     },
     "execution_count": 39,
     "metadata": {},
     "output_type": "execute_result"
    }
   ],
   "source": [
    "data"
   ]
  },
  {
   "cell_type": "code",
   "execution_count": 42,
   "id": "6eb89b58-e96f-43ff-b236-a3441a7a657a",
   "metadata": {},
   "outputs": [],
   "source": [
    "data['location']=['Mombasa','Kisumu','Nakuru','Homabay']"
   ]
  },
  {
   "cell_type": "code",
   "execution_count": 41,
   "id": "369d6588-ff17-4eb0-b553-53b6ac4701a4",
   "metadata": {},
   "outputs": [
    {
     "data": {
      "text/plain": [
       "{'name': ['Darlsy', 'Kevin', 'Indas', 'Persun'],\n",
       " 'age': [35, 100, 34, 67],\n",
       " 'salary': [400, 500, 560, 754]}"
      ]
     },
     "execution_count": 41,
     "metadata": {},
     "output_type": "execute_result"
    }
   ],
   "source": [
    "data"
   ]
  },
  {
   "cell_type": "code",
   "execution_count": 43,
   "id": "27c48c19-fab3-4439-ae4d-9b2eef33e698",
   "metadata": {},
   "outputs": [
    {
     "data": {
      "text/plain": [
       "{'name': ['Darlsy', 'Kevin', 'Indas', 'Persun'],\n",
       " 'age': [35, 100, 34, 67],\n",
       " 'salary': [400, 500, 560, 754],\n",
       " 'location': ['Mombasa', 'Kisumu', 'Nakuru', 'Homabay']}"
      ]
     },
     "execution_count": 43,
     "metadata": {},
     "output_type": "execute_result"
    }
   ],
   "source": [
    "data"
   ]
  },
  {
   "cell_type": "code",
   "execution_count": 44,
   "id": "ded96214-0485-487c-aafb-5c195923400f",
   "metadata": {},
   "outputs": [],
   "source": [
    "del data['location']"
   ]
  },
  {
   "cell_type": "code",
   "execution_count": 45,
   "id": "cec2b7ec-75a3-4713-a4a4-d20145010a9a",
   "metadata": {},
   "outputs": [
    {
     "data": {
      "text/plain": [
       "{'name': ['Darlsy', 'Kevin', 'Indas', 'Persun'],\n",
       " 'age': [35, 100, 34, 67],\n",
       " 'salary': [400, 500, 560, 754]}"
      ]
     },
     "execution_count": 45,
     "metadata": {},
     "output_type": "execute_result"
    }
   ],
   "source": [
    "data"
   ]
  },
  {
   "cell_type": "code",
   "execution_count": 48,
   "id": "88ad2383-723b-44e5-b1dc-50361068282e",
   "metadata": {},
   "outputs": [
    {
     "name": "stdout",
     "output_type": "stream",
     "text": [
      "name ['Darlsy', 'Kevin', 'Indas', 'Persun']\n",
      "age [35, 100, 34, 67]\n",
      "salary [400, 500, 560, 754]\n"
     ]
    }
   ],
   "source": [
    "for key,value in data.items():\n",
    "    print(key,value)"
   ]
  },
  {
   "cell_type": "code",
   "execution_count": 51,
   "id": "1314fd53-feaa-43f0-97b5-93ca050c4ca1",
   "metadata": {},
   "outputs": [],
   "source": [
    "import pandas as pd"
   ]
  },
  {
   "cell_type": "code",
   "execution_count": 53,
   "id": "69e5fb22-125c-4d11-b039-cc9abb747cc7",
   "metadata": {},
   "outputs": [],
   "source": [
    "df=pd.DataFrame(data)"
   ]
  },
  {
   "cell_type": "code",
   "execution_count": 54,
   "id": "2c9f639a-7504-491e-9c6c-e3c0ce679198",
   "metadata": {},
   "outputs": [
    {
     "data": {
      "text/html": [
       "<div>\n",
       "<style scoped>\n",
       "    .dataframe tbody tr th:only-of-type {\n",
       "        vertical-align: middle;\n",
       "    }\n",
       "\n",
       "    .dataframe tbody tr th {\n",
       "        vertical-align: top;\n",
       "    }\n",
       "\n",
       "    .dataframe thead th {\n",
       "        text-align: right;\n",
       "    }\n",
       "</style>\n",
       "<table border=\"1\" class=\"dataframe\">\n",
       "  <thead>\n",
       "    <tr style=\"text-align: right;\">\n",
       "      <th></th>\n",
       "      <th>name</th>\n",
       "      <th>age</th>\n",
       "      <th>salary</th>\n",
       "    </tr>\n",
       "  </thead>\n",
       "  <tbody>\n",
       "    <tr>\n",
       "      <th>0</th>\n",
       "      <td>Darlsy</td>\n",
       "      <td>35</td>\n",
       "      <td>400</td>\n",
       "    </tr>\n",
       "    <tr>\n",
       "      <th>1</th>\n",
       "      <td>Kevin</td>\n",
       "      <td>100</td>\n",
       "      <td>500</td>\n",
       "    </tr>\n",
       "    <tr>\n",
       "      <th>2</th>\n",
       "      <td>Indas</td>\n",
       "      <td>34</td>\n",
       "      <td>560</td>\n",
       "    </tr>\n",
       "    <tr>\n",
       "      <th>3</th>\n",
       "      <td>Persun</td>\n",
       "      <td>67</td>\n",
       "      <td>754</td>\n",
       "    </tr>\n",
       "  </tbody>\n",
       "</table>\n",
       "</div>"
      ],
      "text/plain": [
       "     name  age  salary\n",
       "0  Darlsy   35     400\n",
       "1   Kevin  100     500\n",
       "2   Indas   34     560\n",
       "3  Persun   67     754"
      ]
     },
     "execution_count": 54,
     "metadata": {},
     "output_type": "execute_result"
    }
   ],
   "source": [
    "df"
   ]
  },
  {
   "cell_type": "code",
   "execution_count": 55,
   "id": "211dde63-bb64-43bd-af42-d51a8cdc39f7",
   "metadata": {},
   "outputs": [
    {
     "data": {
      "text/plain": [
       "0    Darlsy\n",
       "1     Kevin\n",
       "2     Indas\n",
       "3    Persun\n",
       "Name: name, dtype: object"
      ]
     },
     "execution_count": 55,
     "metadata": {},
     "output_type": "execute_result"
    }
   ],
   "source": [
    "df['name']"
   ]
  },
  {
   "cell_type": "code",
   "execution_count": 56,
   "id": "115ef030-c284-4b79-9a4e-9d917071a5fd",
   "metadata": {},
   "outputs": [
    {
     "data": {
      "text/html": [
       "<div>\n",
       "<style scoped>\n",
       "    .dataframe tbody tr th:only-of-type {\n",
       "        vertical-align: middle;\n",
       "    }\n",
       "\n",
       "    .dataframe tbody tr th {\n",
       "        vertical-align: top;\n",
       "    }\n",
       "\n",
       "    .dataframe thead th {\n",
       "        text-align: right;\n",
       "    }\n",
       "</style>\n",
       "<table border=\"1\" class=\"dataframe\">\n",
       "  <thead>\n",
       "    <tr style=\"text-align: right;\">\n",
       "      <th></th>\n",
       "      <th>name</th>\n",
       "      <th>age</th>\n",
       "    </tr>\n",
       "  </thead>\n",
       "  <tbody>\n",
       "    <tr>\n",
       "      <th>0</th>\n",
       "      <td>Darlsy</td>\n",
       "      <td>35</td>\n",
       "    </tr>\n",
       "    <tr>\n",
       "      <th>1</th>\n",
       "      <td>Kevin</td>\n",
       "      <td>100</td>\n",
       "    </tr>\n",
       "    <tr>\n",
       "      <th>2</th>\n",
       "      <td>Indas</td>\n",
       "      <td>34</td>\n",
       "    </tr>\n",
       "    <tr>\n",
       "      <th>3</th>\n",
       "      <td>Persun</td>\n",
       "      <td>67</td>\n",
       "    </tr>\n",
       "  </tbody>\n",
       "</table>\n",
       "</div>"
      ],
      "text/plain": [
       "     name  age\n",
       "0  Darlsy   35\n",
       "1   Kevin  100\n",
       "2   Indas   34\n",
       "3  Persun   67"
      ]
     },
     "execution_count": 56,
     "metadata": {},
     "output_type": "execute_result"
    }
   ],
   "source": [
    "df[['name','age']]"
   ]
  },
  {
   "cell_type": "code",
   "execution_count": 58,
   "id": "b571892e-3a35-42a4-a18a-35480e0cbf6d",
   "metadata": {},
   "outputs": [
    {
     "data": {
      "text/plain": [
       "0     36\n",
       "1    101\n",
       "2     35\n",
       "3     68\n",
       "Name: age, dtype: int64"
      ]
     },
     "execution_count": 58,
     "metadata": {},
     "output_type": "execute_result"
    }
   ],
   "source": [
    "df['age']+1"
   ]
  },
  {
   "cell_type": "code",
   "execution_count": null,
   "id": "59f87c4a-dd9c-4b5d-8bc8-2568dcafa0db",
   "metadata": {},
   "outputs": [],
   "source": []
  },
  {
   "cell_type": "code",
   "execution_count": 63,
   "id": "b8f30f56-494c-45c7-8a54-6d7b0002372e",
   "metadata": {},
   "outputs": [
    {
     "data": {
      "text/plain": [
       "name      object\n",
       "age        int64\n",
       "salary     int64\n",
       "dtype: object"
      ]
     },
     "execution_count": 63,
     "metadata": {},
     "output_type": "execute_result"
    }
   ],
   "source": [
    "df.dtypes"
   ]
  },
  {
   "cell_type": "code",
   "execution_count": 64,
   "id": "6f37880e-e315-49ea-9f89-2a7bb6be5c00",
   "metadata": {},
   "outputs": [],
   "source": [
    "df['age']=df['age']+1"
   ]
  },
  {
   "cell_type": "code",
   "execution_count": 65,
   "id": "4764c8ee-6f8a-4f3e-a9db-9cc5313e8ebd",
   "metadata": {},
   "outputs": [
    {
     "data": {
      "text/html": [
       "<div>\n",
       "<style scoped>\n",
       "    .dataframe tbody tr th:only-of-type {\n",
       "        vertical-align: middle;\n",
       "    }\n",
       "\n",
       "    .dataframe tbody tr th {\n",
       "        vertical-align: top;\n",
       "    }\n",
       "\n",
       "    .dataframe thead th {\n",
       "        text-align: right;\n",
       "    }\n",
       "</style>\n",
       "<table border=\"1\" class=\"dataframe\">\n",
       "  <thead>\n",
       "    <tr style=\"text-align: right;\">\n",
       "      <th></th>\n",
       "      <th>name</th>\n",
       "      <th>age</th>\n",
       "      <th>salary</th>\n",
       "    </tr>\n",
       "  </thead>\n",
       "  <tbody>\n",
       "    <tr>\n",
       "      <th>0</th>\n",
       "      <td>Darlsy</td>\n",
       "      <td>36</td>\n",
       "      <td>400</td>\n",
       "    </tr>\n",
       "    <tr>\n",
       "      <th>1</th>\n",
       "      <td>Kevin</td>\n",
       "      <td>101</td>\n",
       "      <td>500</td>\n",
       "    </tr>\n",
       "    <tr>\n",
       "      <th>2</th>\n",
       "      <td>Indas</td>\n",
       "      <td>35</td>\n",
       "      <td>560</td>\n",
       "    </tr>\n",
       "    <tr>\n",
       "      <th>3</th>\n",
       "      <td>Persun</td>\n",
       "      <td>68</td>\n",
       "      <td>754</td>\n",
       "    </tr>\n",
       "  </tbody>\n",
       "</table>\n",
       "</div>"
      ],
      "text/plain": [
       "     name  age  salary\n",
       "0  Darlsy   36     400\n",
       "1   Kevin  101     500\n",
       "2   Indas   35     560\n",
       "3  Persun   68     754"
      ]
     },
     "execution_count": 65,
     "metadata": {},
     "output_type": "execute_result"
    }
   ],
   "source": [
    "df"
   ]
  },
  {
   "cell_type": "code",
   "execution_count": 71,
   "id": "3566fceb-224e-4f37-b99b-493fb3136d48",
   "metadata": {},
   "outputs": [],
   "source": [
    "df['age'], df['salary']=df['age']+1, df['salary']+500"
   ]
  },
  {
   "cell_type": "code",
   "execution_count": 72,
   "id": "d6975325-e472-436d-ab49-355740e43e86",
   "metadata": {},
   "outputs": [
    {
     "data": {
      "text/html": [
       "<div>\n",
       "<style scoped>\n",
       "    .dataframe tbody tr th:only-of-type {\n",
       "        vertical-align: middle;\n",
       "    }\n",
       "\n",
       "    .dataframe tbody tr th {\n",
       "        vertical-align: top;\n",
       "    }\n",
       "\n",
       "    .dataframe thead th {\n",
       "        text-align: right;\n",
       "    }\n",
       "</style>\n",
       "<table border=\"1\" class=\"dataframe\">\n",
       "  <thead>\n",
       "    <tr style=\"text-align: right;\">\n",
       "      <th></th>\n",
       "      <th>name</th>\n",
       "      <th>age</th>\n",
       "      <th>salary</th>\n",
       "    </tr>\n",
       "  </thead>\n",
       "  <tbody>\n",
       "    <tr>\n",
       "      <th>0</th>\n",
       "      <td>Darlsy</td>\n",
       "      <td>37</td>\n",
       "      <td>900</td>\n",
       "    </tr>\n",
       "    <tr>\n",
       "      <th>1</th>\n",
       "      <td>Kevin</td>\n",
       "      <td>102</td>\n",
       "      <td>1000</td>\n",
       "    </tr>\n",
       "    <tr>\n",
       "      <th>2</th>\n",
       "      <td>Indas</td>\n",
       "      <td>36</td>\n",
       "      <td>1060</td>\n",
       "    </tr>\n",
       "    <tr>\n",
       "      <th>3</th>\n",
       "      <td>Persun</td>\n",
       "      <td>69</td>\n",
       "      <td>1254</td>\n",
       "    </tr>\n",
       "  </tbody>\n",
       "</table>\n",
       "</div>"
      ],
      "text/plain": [
       "     name  age  salary\n",
       "0  Darlsy   37     900\n",
       "1   Kevin  102    1000\n",
       "2   Indas   36    1060\n",
       "3  Persun   69    1254"
      ]
     },
     "execution_count": 72,
     "metadata": {},
     "output_type": "execute_result"
    }
   ],
   "source": [
    "df"
   ]
  },
  {
   "cell_type": "code",
   "execution_count": 75,
   "id": "c2a80cc2-2ba2-4bec-82be-a0a0a160f22c",
   "metadata": {},
   "outputs": [
    {
     "data": {
      "text/html": [
       "<div>\n",
       "<style scoped>\n",
       "    .dataframe tbody tr th:only-of-type {\n",
       "        vertical-align: middle;\n",
       "    }\n",
       "\n",
       "    .dataframe tbody tr th {\n",
       "        vertical-align: top;\n",
       "    }\n",
       "\n",
       "    .dataframe thead th {\n",
       "        text-align: right;\n",
       "    }\n",
       "</style>\n",
       "<table border=\"1\" class=\"dataframe\">\n",
       "  <thead>\n",
       "    <tr style=\"text-align: right;\">\n",
       "      <th></th>\n",
       "      <th>name</th>\n",
       "      <th>age</th>\n",
       "    </tr>\n",
       "  </thead>\n",
       "  <tbody>\n",
       "    <tr>\n",
       "      <th>0</th>\n",
       "      <td>Darlsy</td>\n",
       "      <td>37</td>\n",
       "    </tr>\n",
       "    <tr>\n",
       "      <th>1</th>\n",
       "      <td>Kevin</td>\n",
       "      <td>102</td>\n",
       "    </tr>\n",
       "    <tr>\n",
       "      <th>2</th>\n",
       "      <td>Indas</td>\n",
       "      <td>36</td>\n",
       "    </tr>\n",
       "    <tr>\n",
       "      <th>3</th>\n",
       "      <td>Persun</td>\n",
       "      <td>69</td>\n",
       "    </tr>\n",
       "  </tbody>\n",
       "</table>\n",
       "</div>"
      ],
      "text/plain": [
       "     name  age\n",
       "0  Darlsy   37\n",
       "1   Kevin  102\n",
       "2   Indas   36\n",
       "3  Persun   69"
      ]
     },
     "execution_count": 75,
     "metadata": {},
     "output_type": "execute_result"
    }
   ],
   "source": [
    "df[['name','age']]"
   ]
  },
  {
   "cell_type": "code",
   "execution_count": 2,
   "id": "d1beb63d-35c3-4a73-9d44-cb5df6e43519",
   "metadata": {},
   "outputs": [],
   "source": [
    "#Assignment 1\n",
    "students={\n",
    "    'Name':['Kevin','Samuel','Samson','Caroline','Hellen'],\n",
    "    'Math':[30,78,66,89,47],\n",
    "    'Science':[78,90,43,90,23],\n",
    "    'English':[56,78,45,56,66]\n",
    "}"
   ]
  },
  {
   "cell_type": "code",
   "execution_count": 3,
   "id": "7b1cd7ce-dfdf-4475-a97f-29d0d704c9f8",
   "metadata": {},
   "outputs": [
    {
     "data": {
      "text/plain": [
       "{'Name': ['Kevin', 'Samuel', 'Samson', 'Caroline', 'Hellen'],\n",
       " 'Math': [30, 78, 66, 89, 47],\n",
       " 'Science': [78, 90, 43, 90, 23],\n",
       " 'English': [56, 78, 45, 56, 66]}"
      ]
     },
     "execution_count": 3,
     "metadata": {},
     "output_type": "execute_result"
    }
   ],
   "source": [
    "students"
   ]
  },
  {
   "cell_type": "code",
   "execution_count": 4,
   "id": "5b4d5ffa-d047-4227-a00a-9634730b60bd",
   "metadata": {},
   "outputs": [],
   "source": [
    "import pandas as river"
   ]
  },
  {
   "cell_type": "code",
   "execution_count": 5,
   "id": "a854fc78-ee7b-4422-9736-72dd43d2fd2e",
   "metadata": {},
   "outputs": [],
   "source": [
    "table=river.DataFrame(students)"
   ]
  },
  {
   "cell_type": "code",
   "execution_count": 6,
   "id": "fe83bec7-31b2-47ae-a2b4-a80f909b4614",
   "metadata": {},
   "outputs": [
    {
     "data": {
      "text/html": [
       "<div>\n",
       "<style scoped>\n",
       "    .dataframe tbody tr th:only-of-type {\n",
       "        vertical-align: middle;\n",
       "    }\n",
       "\n",
       "    .dataframe tbody tr th {\n",
       "        vertical-align: top;\n",
       "    }\n",
       "\n",
       "    .dataframe thead th {\n",
       "        text-align: right;\n",
       "    }\n",
       "</style>\n",
       "<table border=\"1\" class=\"dataframe\">\n",
       "  <thead>\n",
       "    <tr style=\"text-align: right;\">\n",
       "      <th></th>\n",
       "      <th>Name</th>\n",
       "      <th>Math</th>\n",
       "      <th>Science</th>\n",
       "      <th>English</th>\n",
       "    </tr>\n",
       "  </thead>\n",
       "  <tbody>\n",
       "    <tr>\n",
       "      <th>0</th>\n",
       "      <td>Kevin</td>\n",
       "      <td>30</td>\n",
       "      <td>78</td>\n",
       "      <td>56</td>\n",
       "    </tr>\n",
       "    <tr>\n",
       "      <th>1</th>\n",
       "      <td>Samuel</td>\n",
       "      <td>78</td>\n",
       "      <td>90</td>\n",
       "      <td>78</td>\n",
       "    </tr>\n",
       "    <tr>\n",
       "      <th>2</th>\n",
       "      <td>Samson</td>\n",
       "      <td>66</td>\n",
       "      <td>43</td>\n",
       "      <td>45</td>\n",
       "    </tr>\n",
       "    <tr>\n",
       "      <th>3</th>\n",
       "      <td>Caroline</td>\n",
       "      <td>89</td>\n",
       "      <td>90</td>\n",
       "      <td>56</td>\n",
       "    </tr>\n",
       "    <tr>\n",
       "      <th>4</th>\n",
       "      <td>Hellen</td>\n",
       "      <td>47</td>\n",
       "      <td>23</td>\n",
       "      <td>66</td>\n",
       "    </tr>\n",
       "  </tbody>\n",
       "</table>\n",
       "</div>"
      ],
      "text/plain": [
       "       Name  Math  Science  English\n",
       "0     Kevin    30       78       56\n",
       "1    Samuel    78       90       78\n",
       "2    Samson    66       43       45\n",
       "3  Caroline    89       90       56\n",
       "4    Hellen    47       23       66"
      ]
     },
     "execution_count": 6,
     "metadata": {},
     "output_type": "execute_result"
    }
   ],
   "source": [
    "table"
   ]
  },
  {
   "cell_type": "code",
   "execution_count": 12,
   "id": "e24a9247-9678-467a-b11e-6fb631e0a7fb",
   "metadata": {},
   "outputs": [],
   "source": [
    "a=(30+78+56)/3\n",
    "b=(78+90+78)/3\n",
    "c=(66+43+45)/3\n",
    "d=(89+90+56)/3\n",
    "e=(47+23+66)/3"
   ]
  },
  {
   "cell_type": "code",
   "execution_count": 15,
   "id": "2c1ca8f5-5e4f-4b96-a62d-dd22b5546d1d",
   "metadata": {},
   "outputs": [],
   "source": [
    "table['Average']=[a,b,c,d,e]"
   ]
  },
  {
   "cell_type": "code",
   "execution_count": 16,
   "id": "b83cc560-8d32-4e33-bad2-22fe15c43c89",
   "metadata": {},
   "outputs": [
    {
     "data": {
      "text/html": [
       "<div>\n",
       "<style scoped>\n",
       "    .dataframe tbody tr th:only-of-type {\n",
       "        vertical-align: middle;\n",
       "    }\n",
       "\n",
       "    .dataframe tbody tr th {\n",
       "        vertical-align: top;\n",
       "    }\n",
       "\n",
       "    .dataframe thead th {\n",
       "        text-align: right;\n",
       "    }\n",
       "</style>\n",
       "<table border=\"1\" class=\"dataframe\">\n",
       "  <thead>\n",
       "    <tr style=\"text-align: right;\">\n",
       "      <th></th>\n",
       "      <th>Name</th>\n",
       "      <th>Math</th>\n",
       "      <th>Science</th>\n",
       "      <th>English</th>\n",
       "      <th>Average</th>\n",
       "    </tr>\n",
       "  </thead>\n",
       "  <tbody>\n",
       "    <tr>\n",
       "      <th>0</th>\n",
       "      <td>Kevin</td>\n",
       "      <td>30</td>\n",
       "      <td>78</td>\n",
       "      <td>56</td>\n",
       "      <td>54.666667</td>\n",
       "    </tr>\n",
       "    <tr>\n",
       "      <th>1</th>\n",
       "      <td>Samuel</td>\n",
       "      <td>78</td>\n",
       "      <td>90</td>\n",
       "      <td>78</td>\n",
       "      <td>82.000000</td>\n",
       "    </tr>\n",
       "    <tr>\n",
       "      <th>2</th>\n",
       "      <td>Samson</td>\n",
       "      <td>66</td>\n",
       "      <td>43</td>\n",
       "      <td>45</td>\n",
       "      <td>51.333333</td>\n",
       "    </tr>\n",
       "    <tr>\n",
       "      <th>3</th>\n",
       "      <td>Caroline</td>\n",
       "      <td>89</td>\n",
       "      <td>90</td>\n",
       "      <td>56</td>\n",
       "      <td>78.333333</td>\n",
       "    </tr>\n",
       "    <tr>\n",
       "      <th>4</th>\n",
       "      <td>Hellen</td>\n",
       "      <td>47</td>\n",
       "      <td>23</td>\n",
       "      <td>66</td>\n",
       "      <td>45.333333</td>\n",
       "    </tr>\n",
       "  </tbody>\n",
       "</table>\n",
       "</div>"
      ],
      "text/plain": [
       "       Name  Math  Science  English    Average\n",
       "0     Kevin    30       78       56  54.666667\n",
       "1    Samuel    78       90       78  82.000000\n",
       "2    Samson    66       43       45  51.333333\n",
       "3  Caroline    89       90       56  78.333333\n",
       "4    Hellen    47       23       66  45.333333"
      ]
     },
     "execution_count": 16,
     "metadata": {},
     "output_type": "execute_result"
    }
   ],
   "source": [
    "table"
   ]
  },
  {
   "cell_type": "code",
   "execution_count": 20,
   "id": "ab76f869-6099-4f53-9552-4e5fbf99aa33",
   "metadata": {},
   "outputs": [
    {
     "data": {
      "text/plain": [
       "82.0"
      ]
     },
     "execution_count": 20,
     "metadata": {},
     "output_type": "execute_result"
    }
   ],
   "source": [
    "table.Average.max()"
   ]
  },
  {
   "cell_type": "code",
   "execution_count": 24,
   "id": "4be18340-84e4-42e1-856d-77a22dde215d",
   "metadata": {},
   "outputs": [
    {
     "data": {
      "text/plain": [
       "1    82.000000\n",
       "3    78.333333\n",
       "0    54.666667\n",
       "2    51.333333\n",
       "4    45.333333\n",
       "Name: Average, dtype: float64"
      ]
     },
     "execution_count": 24,
     "metadata": {},
     "output_type": "execute_result"
    }
   ],
   "source": [
    "table.Average.sort_values(ascending=False)"
   ]
  },
  {
   "cell_type": "code",
   "execution_count": 26,
   "id": "2e595164-15ba-49a2-9b4a-0345c4646ed1",
   "metadata": {},
   "outputs": [],
   "source": [
    "#Assigment 2\n",
    "DegTemp=[20,78,94,34,76]\n",
    "FarTemp=[((y*9/5)+32) for y in DegTemp]"
   ]
  },
  {
   "cell_type": "code",
   "execution_count": 27,
   "id": "7e911fb8-a968-4694-b30c-b0efda0d21ec",
   "metadata": {},
   "outputs": [
    {
     "data": {
      "text/plain": [
       "[68.0, 172.4, 201.2, 93.2, 168.8]"
      ]
     },
     "execution_count": 27,
     "metadata": {},
     "output_type": "execute_result"
    }
   ],
   "source": [
    "FarTemp"
   ]
  },
  {
   "cell_type": "code",
   "execution_count": null,
   "id": "b252f483-6275-4a18-b1f1-10fd74ee154e",
   "metadata": {},
   "outputs": [],
   "source": []
  }
 ],
 "metadata": {
  "kernelspec": {
   "display_name": "Python 3 (ipykernel)",
   "language": "python",
   "name": "python3"
  },
  "language_info": {
   "codemirror_mode": {
    "name": "ipython",
    "version": 3
   },
   "file_extension": ".py",
   "mimetype": "text/x-python",
   "name": "python",
   "nbconvert_exporter": "python",
   "pygments_lexer": "ipython3",
   "version": "3.12.4"
  }
 },
 "nbformat": 4,
 "nbformat_minor": 5
}
