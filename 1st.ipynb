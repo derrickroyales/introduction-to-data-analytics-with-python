{
 "cells": [
  {
   "cell_type": "code",
   "execution_count": 7,
   "id": "2ecf996a-eea6-4ff7-b6c2-1b74b3dddae4",
   "metadata": {},
   "outputs": [
    {
     "name": "stdout",
     "output_type": "stream",
     "text": [
      "Yes\n",
      "Yes\n"
     ]
    }
   ],
   "source": [
    "\"\"\"\n",
    "This\n",
    "Line\n",
    "\"\"\"\n",
    "print(\"Yes\")\n",
    "\n",
    "if True:\n",
    "    print(\"Yes\")\n"
   ]
  },
  {
   "cell_type": "code",
   "execution_count": 9,
   "id": "8a7a96b0-d4df-4cf0-a76e-30697b7933fa",
   "metadata": {},
   "outputs": [],
   "source": [
    "x=5\n",
    "x=2"
   ]
  },
  {
   "cell_type": "code",
   "execution_count": 10,
   "id": "8b6bbc97-b855-48c7-b89d-c95a53b03c3e",
   "metadata": {},
   "outputs": [
    {
     "data": {
      "text/plain": [
       "2"
      ]
     },
     "execution_count": 10,
     "metadata": {},
     "output_type": "execute_result"
    }
   ],
   "source": [
    "x"
   ]
  },
  {
   "cell_type": "code",
   "execution_count": 11,
   "id": "712def00-7992-4ba9-b978-b86c77d98334",
   "metadata": {},
   "outputs": [],
   "source": [
    "x,y,z=6,'bull',5"
   ]
  },
  {
   "cell_type": "code",
   "execution_count": 12,
   "id": "49924b1f-a590-46f1-b28f-e37b38463227",
   "metadata": {},
   "outputs": [
    {
     "data": {
      "text/plain": [
       "'bull'"
      ]
     },
     "execution_count": 12,
     "metadata": {},
     "output_type": "execute_result"
    }
   ],
   "source": [
    "y"
   ]
  },
  {
   "cell_type": "code",
   "execution_count": 13,
   "id": "f8de8877-12cb-440a-909f-3abb6dcd1631",
   "metadata": {},
   "outputs": [
    {
     "data": {
      "text/plain": [
       "float"
      ]
     },
     "execution_count": 13,
     "metadata": {},
     "output_type": "execute_result"
    }
   ],
   "source": [
    "x=4.5\n",
    "type(x)"
   ]
  },
  {
   "cell_type": "code",
   "execution_count": 14,
   "id": "c28ad68a-2ac4-4585-b423-a0a71103cb4a",
   "metadata": {},
   "outputs": [
    {
     "data": {
      "text/plain": [
       "str"
      ]
     },
     "execution_count": 14,
     "metadata": {},
     "output_type": "execute_result"
    }
   ],
   "source": [
    "name=\"Akinyi\"\n",
    "type(name)"
   ]
  },
  {
   "cell_type": "code",
   "execution_count": 16,
   "id": "06561441-4cdc-495a-80a8-6e28c3dc6842",
   "metadata": {},
   "outputs": [
    {
     "data": {
      "text/plain": [
       "str"
      ]
     },
     "execution_count": 16,
     "metadata": {},
     "output_type": "execute_result"
    }
   ],
   "source": [
    "is_active='zero'\n",
    "type(is_active)"
   ]
  },
  {
   "cell_type": "code",
   "execution_count": 17,
   "id": "adc0e5a0-5241-4989-8de1-bbb0697df296",
   "metadata": {},
   "outputs": [
    {
     "data": {
      "text/plain": [
       "9"
      ]
     },
     "execution_count": 17,
     "metadata": {},
     "output_type": "execute_result"
    }
   ],
   "source": [
    "3**2"
   ]
  },
  {
   "cell_type": "code",
   "execution_count": 18,
   "id": "93d77173-2c16-4270-9cee-d524b2cf478b",
   "metadata": {},
   "outputs": [
    {
     "data": {
      "text/plain": [
       "False"
      ]
     },
     "execution_count": 18,
     "metadata": {},
     "output_type": "execute_result"
    }
   ],
   "source": [
    "not (5<=3 or 10>2)"
   ]
  },
  {
   "cell_type": "code",
   "execution_count": 20,
   "id": "6b1cf10b-d65a-4301-aab2-2a1857da83c8",
   "metadata": {},
   "outputs": [
    {
     "data": {
      "text/plain": [
       "True"
      ]
     },
     "execution_count": 20,
     "metadata": {},
     "output_type": "execute_result"
    }
   ],
   "source": [
    "'D' in 'Data Analysis'"
   ]
  },
  {
   "cell_type": "code",
   "execution_count": 4,
   "id": "daf7fbb5-0caa-4c0b-8c58-b19d9302211e",
   "metadata": {},
   "outputs": [
    {
     "name": "stdout",
     "output_type": "stream",
     "text": [
      "ll\n"
     ]
    }
   ],
   "source": [
    "s= 'Hello'\n",
    "print(s[2:4])"
   ]
  },
  {
   "cell_type": "code",
   "execution_count": 6,
   "id": "f961140a-3d9a-4bb4-900f-bf88d18a43a6",
   "metadata": {},
   "outputs": [
    {
     "name": "stdin",
     "output_type": "stream",
     "text": [
      "Enter your name: Derrick\n"
     ]
    },
    {
     "name": "stdout",
     "output_type": "stream",
     "text": [
      "Hello Derrick\n"
     ]
    }
   ],
   "source": [
    "name = input('Enter your name:')\n",
    "print('Hello ' +name)"
   ]
  },
  {
   "cell_type": "code",
   "execution_count": 7,
   "id": "d54aa276-1db9-48f4-b817-836889fade07",
   "metadata": {},
   "outputs": [
    {
     "name": "stdout",
     "output_type": "stream",
     "text": [
      "h\n",
      "e\n",
      "l\n",
      "l\n",
      "o\n"
     ]
    }
   ],
   "source": [
    "text = 'hello'\n",
    "for char in text:\n",
    "    print(char)\n"
   ]
  },
  {
   "cell_type": "code",
   "execution_count": 8,
   "id": "0c1fabb5-9420-4805-a86e-8d9436f82f25",
   "metadata": {},
   "outputs": [
    {
     "name": "stdout",
     "output_type": "stream",
     "text": [
      "0\n",
      "1\n",
      "2\n",
      "3\n",
      "4\n"
     ]
    }
   ],
   "source": [
    "count = 0\n",
    "while count<5:\n",
    "    print(count)\n",
    "    count+=1"
   ]
  },
  {
   "cell_type": "code",
   "execution_count": 9,
   "id": "e2a2060a-e0de-48c8-8460-678bede2abc7",
   "metadata": {},
   "outputs": [
    {
     "name": "stdout",
     "output_type": "stream",
     "text": [
      "h\n",
      "e\n",
      "l\n",
      "l\n",
      "o\n"
     ]
    }
   ],
   "source": [
    "text = 'hello'\n",
    "index = 0\n",
    "\n",
    "while index<len(text):\n",
    "    print(text[index])\n",
    "    index += 1"
   ]
  },
  {
   "cell_type": "code",
   "execution_count": 2,
   "id": "46854b46-186e-4e7d-9e23-30ecb6da36e8",
   "metadata": {},
   "outputs": [
    {
     "name": "stdout",
     "output_type": "stream",
     "text": [
      "dogblue\n"
     ]
    }
   ],
   "source": [
    "y = 'blue'\n",
    "z = 'dog'\n",
    "\n",
    "print(z+y)\n"
   ]
  },
  {
   "cell_type": "code",
   "execution_count": null,
   "id": "a389cb16-1873-4847-8cf9-b0920c3bb61d",
   "metadata": {},
   "outputs": [],
   "source": []
  }
 ],
 "metadata": {
  "kernelspec": {
   "display_name": "Python 3 (ipykernel)",
   "language": "python",
   "name": "python3"
  },
  "language_info": {
   "codemirror_mode": {
    "name": "ipython",
    "version": 3
   },
   "file_extension": ".py",
   "mimetype": "text/x-python",
   "name": "python",
   "nbconvert_exporter": "python",
   "pygments_lexer": "ipython3",
   "version": "3.12.4"
  }
 },
 "nbformat": 4,
 "nbformat_minor": 5
}
