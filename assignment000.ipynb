{
 "cells": [
  {
   "cell_type": "markdown",
   "id": "590cf26b-dd58-47e1-b174-a71742ada45d",
   "metadata": {},
   "source": [
    "## Data Loading"
   ]
  },
  {
   "cell_type": "code",
   "execution_count": 1,
   "id": "f24fa1c0-5de3-43c4-9cd5-e4b0fa1530a4",
   "metadata": {},
   "outputs": [],
   "source": [
    "#importing pandas and storing it in the variable 'pd'\n",
    "\n",
    "import pandas as pd"
   ]
  },
  {
   "cell_type": "code",
   "execution_count": 2,
   "id": "9ba6fbe8-0800-4140-9f8b-8b73b438030b",
   "metadata": {},
   "outputs": [],
   "source": [
    "#loading the data from the excel sheet and storing it in the variable 'df'\n",
    "\n",
    "df=pd.read_csv('DataFiles/census.csv')"
   ]
  },
  {
   "cell_type": "code",
   "execution_count": 3,
   "id": "6c49c950-dff4-42bb-a52f-15af509546dd",
   "metadata": {},
   "outputs": [
    {
     "data": {
      "text/html": [
       "<div>\n",
       "<style scoped>\n",
       "    .dataframe tbody tr th:only-of-type {\n",
       "        vertical-align: middle;\n",
       "    }\n",
       "\n",
       "    .dataframe tbody tr th {\n",
       "        vertical-align: top;\n",
       "    }\n",
       "\n",
       "    .dataframe thead th {\n",
       "        text-align: right;\n",
       "    }\n",
       "</style>\n",
       "<table border=\"1\" class=\"dataframe\">\n",
       "  <thead>\n",
       "    <tr style=\"text-align: right;\">\n",
       "      <th></th>\n",
       "      <th>age</th>\n",
       "      <th>workclass</th>\n",
       "      <th>fnlwgt</th>\n",
       "      <th>education</th>\n",
       "      <th>education.num</th>\n",
       "      <th>marital.status</th>\n",
       "      <th>occupation</th>\n",
       "      <th>relationship</th>\n",
       "      <th>race</th>\n",
       "      <th>sex</th>\n",
       "      <th>capital.gain</th>\n",
       "      <th>capital.loss</th>\n",
       "      <th>hours.per.week</th>\n",
       "      <th>native.country</th>\n",
       "      <th>income</th>\n",
       "    </tr>\n",
       "  </thead>\n",
       "  <tbody>\n",
       "    <tr>\n",
       "      <th>0</th>\n",
       "      <td>90</td>\n",
       "      <td>?</td>\n",
       "      <td>77053</td>\n",
       "      <td>HS-grad</td>\n",
       "      <td>9</td>\n",
       "      <td>Widowed</td>\n",
       "      <td>?</td>\n",
       "      <td>Not-in-family</td>\n",
       "      <td>White</td>\n",
       "      <td>Female</td>\n",
       "      <td>0</td>\n",
       "      <td>4356</td>\n",
       "      <td>40</td>\n",
       "      <td>United-States</td>\n",
       "      <td>&lt;=50K</td>\n",
       "    </tr>\n",
       "    <tr>\n",
       "      <th>1</th>\n",
       "      <td>82</td>\n",
       "      <td>Private</td>\n",
       "      <td>132870</td>\n",
       "      <td>HS-grad</td>\n",
       "      <td>9</td>\n",
       "      <td>Widowed</td>\n",
       "      <td>Exec-managerial</td>\n",
       "      <td>Not-in-family</td>\n",
       "      <td>White</td>\n",
       "      <td>Female</td>\n",
       "      <td>0</td>\n",
       "      <td>4356</td>\n",
       "      <td>18</td>\n",
       "      <td>United-States</td>\n",
       "      <td>&lt;=50K</td>\n",
       "    </tr>\n",
       "    <tr>\n",
       "      <th>2</th>\n",
       "      <td>66</td>\n",
       "      <td>?</td>\n",
       "      <td>186061</td>\n",
       "      <td>Some-college</td>\n",
       "      <td>10</td>\n",
       "      <td>Widowed</td>\n",
       "      <td>?</td>\n",
       "      <td>Unmarried</td>\n",
       "      <td>Black</td>\n",
       "      <td>Female</td>\n",
       "      <td>0</td>\n",
       "      <td>4356</td>\n",
       "      <td>40</td>\n",
       "      <td>United-States</td>\n",
       "      <td>&lt;=50K</td>\n",
       "    </tr>\n",
       "    <tr>\n",
       "      <th>3</th>\n",
       "      <td>54</td>\n",
       "      <td>Private</td>\n",
       "      <td>140359</td>\n",
       "      <td>7th-8th</td>\n",
       "      <td>4</td>\n",
       "      <td>Divorced</td>\n",
       "      <td>Machine-op-inspct</td>\n",
       "      <td>Unmarried</td>\n",
       "      <td>White</td>\n",
       "      <td>Female</td>\n",
       "      <td>0</td>\n",
       "      <td>3900</td>\n",
       "      <td>40</td>\n",
       "      <td>United-States</td>\n",
       "      <td>&lt;=50K</td>\n",
       "    </tr>\n",
       "    <tr>\n",
       "      <th>4</th>\n",
       "      <td>41</td>\n",
       "      <td>Private</td>\n",
       "      <td>264663</td>\n",
       "      <td>Some-college</td>\n",
       "      <td>10</td>\n",
       "      <td>Separated</td>\n",
       "      <td>Prof-specialty</td>\n",
       "      <td>Own-child</td>\n",
       "      <td>White</td>\n",
       "      <td>Female</td>\n",
       "      <td>0</td>\n",
       "      <td>3900</td>\n",
       "      <td>40</td>\n",
       "      <td>United-States</td>\n",
       "      <td>&lt;=50K</td>\n",
       "    </tr>\n",
       "    <tr>\n",
       "      <th>...</th>\n",
       "      <td>...</td>\n",
       "      <td>...</td>\n",
       "      <td>...</td>\n",
       "      <td>...</td>\n",
       "      <td>...</td>\n",
       "      <td>...</td>\n",
       "      <td>...</td>\n",
       "      <td>...</td>\n",
       "      <td>...</td>\n",
       "      <td>...</td>\n",
       "      <td>...</td>\n",
       "      <td>...</td>\n",
       "      <td>...</td>\n",
       "      <td>...</td>\n",
       "      <td>...</td>\n",
       "    </tr>\n",
       "    <tr>\n",
       "      <th>32556</th>\n",
       "      <td>22</td>\n",
       "      <td>Private</td>\n",
       "      <td>310152</td>\n",
       "      <td>Some-college</td>\n",
       "      <td>10</td>\n",
       "      <td>Never-married</td>\n",
       "      <td>Protective-serv</td>\n",
       "      <td>Not-in-family</td>\n",
       "      <td>White</td>\n",
       "      <td>Male</td>\n",
       "      <td>0</td>\n",
       "      <td>0</td>\n",
       "      <td>40</td>\n",
       "      <td>United-States</td>\n",
       "      <td>&lt;=50K</td>\n",
       "    </tr>\n",
       "    <tr>\n",
       "      <th>32557</th>\n",
       "      <td>27</td>\n",
       "      <td>Private</td>\n",
       "      <td>257302</td>\n",
       "      <td>Assoc-acdm</td>\n",
       "      <td>12</td>\n",
       "      <td>Married-civ-spouse</td>\n",
       "      <td>Tech-support</td>\n",
       "      <td>Wife</td>\n",
       "      <td>White</td>\n",
       "      <td>Female</td>\n",
       "      <td>0</td>\n",
       "      <td>0</td>\n",
       "      <td>38</td>\n",
       "      <td>United-States</td>\n",
       "      <td>&lt;=50K</td>\n",
       "    </tr>\n",
       "    <tr>\n",
       "      <th>32558</th>\n",
       "      <td>40</td>\n",
       "      <td>Private</td>\n",
       "      <td>154374</td>\n",
       "      <td>HS-grad</td>\n",
       "      <td>9</td>\n",
       "      <td>Married-civ-spouse</td>\n",
       "      <td>Machine-op-inspct</td>\n",
       "      <td>Husband</td>\n",
       "      <td>White</td>\n",
       "      <td>Male</td>\n",
       "      <td>0</td>\n",
       "      <td>0</td>\n",
       "      <td>40</td>\n",
       "      <td>United-States</td>\n",
       "      <td>&gt;50K</td>\n",
       "    </tr>\n",
       "    <tr>\n",
       "      <th>32559</th>\n",
       "      <td>58</td>\n",
       "      <td>Private</td>\n",
       "      <td>151910</td>\n",
       "      <td>HS-grad</td>\n",
       "      <td>9</td>\n",
       "      <td>Widowed</td>\n",
       "      <td>Adm-clerical</td>\n",
       "      <td>Unmarried</td>\n",
       "      <td>White</td>\n",
       "      <td>Female</td>\n",
       "      <td>0</td>\n",
       "      <td>0</td>\n",
       "      <td>40</td>\n",
       "      <td>United-States</td>\n",
       "      <td>&lt;=50K</td>\n",
       "    </tr>\n",
       "    <tr>\n",
       "      <th>32560</th>\n",
       "      <td>22</td>\n",
       "      <td>Private</td>\n",
       "      <td>201490</td>\n",
       "      <td>HS-grad</td>\n",
       "      <td>9</td>\n",
       "      <td>Never-married</td>\n",
       "      <td>Adm-clerical</td>\n",
       "      <td>Own-child</td>\n",
       "      <td>White</td>\n",
       "      <td>Male</td>\n",
       "      <td>0</td>\n",
       "      <td>0</td>\n",
       "      <td>20</td>\n",
       "      <td>United-States</td>\n",
       "      <td>&lt;=50K</td>\n",
       "    </tr>\n",
       "  </tbody>\n",
       "</table>\n",
       "<p>32561 rows × 15 columns</p>\n",
       "</div>"
      ],
      "text/plain": [
       "       age workclass  fnlwgt     education  education.num      marital.status  \\\n",
       "0       90         ?   77053       HS-grad              9             Widowed   \n",
       "1       82   Private  132870       HS-grad              9             Widowed   \n",
       "2       66         ?  186061  Some-college             10             Widowed   \n",
       "3       54   Private  140359       7th-8th              4            Divorced   \n",
       "4       41   Private  264663  Some-college             10           Separated   \n",
       "...    ...       ...     ...           ...            ...                 ...   \n",
       "32556   22   Private  310152  Some-college             10       Never-married   \n",
       "32557   27   Private  257302    Assoc-acdm             12  Married-civ-spouse   \n",
       "32558   40   Private  154374       HS-grad              9  Married-civ-spouse   \n",
       "32559   58   Private  151910       HS-grad              9             Widowed   \n",
       "32560   22   Private  201490       HS-grad              9       Never-married   \n",
       "\n",
       "              occupation   relationship   race     sex  capital.gain  \\\n",
       "0                      ?  Not-in-family  White  Female             0   \n",
       "1        Exec-managerial  Not-in-family  White  Female             0   \n",
       "2                      ?      Unmarried  Black  Female             0   \n",
       "3      Machine-op-inspct      Unmarried  White  Female             0   \n",
       "4         Prof-specialty      Own-child  White  Female             0   \n",
       "...                  ...            ...    ...     ...           ...   \n",
       "32556    Protective-serv  Not-in-family  White    Male             0   \n",
       "32557       Tech-support           Wife  White  Female             0   \n",
       "32558  Machine-op-inspct        Husband  White    Male             0   \n",
       "32559       Adm-clerical      Unmarried  White  Female             0   \n",
       "32560       Adm-clerical      Own-child  White    Male             0   \n",
       "\n",
       "       capital.loss  hours.per.week native.country income  \n",
       "0              4356              40  United-States  <=50K  \n",
       "1              4356              18  United-States  <=50K  \n",
       "2              4356              40  United-States  <=50K  \n",
       "3              3900              40  United-States  <=50K  \n",
       "4              3900              40  United-States  <=50K  \n",
       "...             ...             ...            ...    ...  \n",
       "32556             0              40  United-States  <=50K  \n",
       "32557             0              38  United-States  <=50K  \n",
       "32558             0              40  United-States   >50K  \n",
       "32559             0              40  United-States  <=50K  \n",
       "32560             0              20  United-States  <=50K  \n",
       "\n",
       "[32561 rows x 15 columns]"
      ]
     },
     "execution_count": 3,
     "metadata": {},
     "output_type": "execute_result"
    }
   ],
   "source": [
    "#presenting the data by calling the variable it was stored in\n",
    "\n",
    "df"
   ]
  },
  {
   "cell_type": "markdown",
   "id": "b49b9023-8dfd-445b-bb31-0656752396e3",
   "metadata": {},
   "source": [
    "## Data inspection"
   ]
  },
  {
   "cell_type": "code",
   "execution_count": 4,
   "id": "7f7d333e-42e2-4668-ab55-9ec06076d663",
   "metadata": {},
   "outputs": [
    {
     "name": "stdout",
     "output_type": "stream",
     "text": [
      "<class 'pandas.core.frame.DataFrame'>\n",
      "RangeIndex: 32561 entries, 0 to 32560\n",
      "Data columns (total 15 columns):\n",
      " #   Column          Non-Null Count  Dtype \n",
      "---  ------          --------------  ----- \n",
      " 0   age             32561 non-null  int64 \n",
      " 1   workclass       32561 non-null  object\n",
      " 2   fnlwgt          32561 non-null  int64 \n",
      " 3   education       32561 non-null  object\n",
      " 4   education.num   32561 non-null  int64 \n",
      " 5   marital.status  32561 non-null  object\n",
      " 6   occupation      32561 non-null  object\n",
      " 7   relationship    32561 non-null  object\n",
      " 8   race            32561 non-null  object\n",
      " 9   sex             32561 non-null  object\n",
      " 10  capital.gain    32561 non-null  int64 \n",
      " 11  capital.loss    32561 non-null  int64 \n",
      " 12  hours.per.week  32561 non-null  int64 \n",
      " 13  native.country  32561 non-null  object\n",
      " 14  income          32561 non-null  object\n",
      "dtypes: int64(6), object(9)\n",
      "memory usage: 3.7+ MB\n"
     ]
    }
   ],
   "source": [
    "#getting information on the data\n",
    "\n",
    "df.info()"
   ]
  },
  {
   "cell_type": "code",
   "execution_count": 5,
   "id": "67eb76a3-bce2-46bf-809d-693cef43e1cc",
   "metadata": {},
   "outputs": [
    {
     "data": {
      "text/plain": [
       "(32561, 15)"
      ]
     },
     "execution_count": 5,
     "metadata": {},
     "output_type": "execute_result"
    }
   ],
   "source": [
    "#getting rows and columns of the dataset\n",
    "\n",
    "df.shape"
   ]
  },
  {
   "cell_type": "code",
   "execution_count": 6,
   "id": "5a7c8779-1b54-47d6-b48e-1542adf65e62",
   "metadata": {},
   "outputs": [
    {
     "data": {
      "text/plain": [
       "array([[90, '?', 77053, ..., 40, 'United-States', '<=50K'],\n",
       "       [82, 'Private', 132870, ..., 18, 'United-States', '<=50K'],\n",
       "       [66, '?', 186061, ..., 40, 'United-States', '<=50K'],\n",
       "       ...,\n",
       "       [40, 'Private', 154374, ..., 40, 'United-States', '>50K'],\n",
       "       [58, 'Private', 151910, ..., 40, 'United-States', '<=50K'],\n",
       "       [22, 'Private', 201490, ..., 20, 'United-States', '<=50K']],\n",
       "      dtype=object)"
      ]
     },
     "execution_count": 6,
     "metadata": {},
     "output_type": "execute_result"
    }
   ],
   "source": [
    "#getting the values in the dataset\n",
    "\n",
    "df.values"
   ]
  },
  {
   "cell_type": "code",
   "execution_count": 7,
   "id": "a7dbe66a-16b8-4e6e-8222-b66c80ef9004",
   "metadata": {},
   "outputs": [
    {
     "data": {
      "text/plain": [
       "Index(['age', 'workclass', 'fnlwgt', 'education', 'education.num',\n",
       "       'marital.status', 'occupation', 'relationship', 'race', 'sex',\n",
       "       'capital.gain', 'capital.loss', 'hours.per.week', 'native.country',\n",
       "       'income'],\n",
       "      dtype='object')"
      ]
     },
     "execution_count": 7,
     "metadata": {},
     "output_type": "execute_result"
    }
   ],
   "source": [
    "#getting the columns in the dataset\n",
    "\n",
    "df.columns"
   ]
  },
  {
   "cell_type": "code",
   "execution_count": 8,
   "id": "1eb340ac-2a75-464e-8ab7-c1767d4d11ca",
   "metadata": {},
   "outputs": [
    {
     "data": {
      "text/html": [
       "<div>\n",
       "<style scoped>\n",
       "    .dataframe tbody tr th:only-of-type {\n",
       "        vertical-align: middle;\n",
       "    }\n",
       "\n",
       "    .dataframe tbody tr th {\n",
       "        vertical-align: top;\n",
       "    }\n",
       "\n",
       "    .dataframe thead th {\n",
       "        text-align: right;\n",
       "    }\n",
       "</style>\n",
       "<table border=\"1\" class=\"dataframe\">\n",
       "  <thead>\n",
       "    <tr style=\"text-align: right;\">\n",
       "      <th></th>\n",
       "      <th>age</th>\n",
       "      <th>fnlwgt</th>\n",
       "      <th>education.num</th>\n",
       "      <th>capital.gain</th>\n",
       "      <th>capital.loss</th>\n",
       "      <th>hours.per.week</th>\n",
       "    </tr>\n",
       "  </thead>\n",
       "  <tbody>\n",
       "    <tr>\n",
       "      <th>count</th>\n",
       "      <td>32561.000000</td>\n",
       "      <td>3.256100e+04</td>\n",
       "      <td>32561.000000</td>\n",
       "      <td>32561.000000</td>\n",
       "      <td>32561.000000</td>\n",
       "      <td>32561.000000</td>\n",
       "    </tr>\n",
       "    <tr>\n",
       "      <th>mean</th>\n",
       "      <td>38.581647</td>\n",
       "      <td>1.897784e+05</td>\n",
       "      <td>10.080679</td>\n",
       "      <td>1077.648844</td>\n",
       "      <td>87.303830</td>\n",
       "      <td>40.437456</td>\n",
       "    </tr>\n",
       "    <tr>\n",
       "      <th>std</th>\n",
       "      <td>13.640433</td>\n",
       "      <td>1.055500e+05</td>\n",
       "      <td>2.572720</td>\n",
       "      <td>7385.292085</td>\n",
       "      <td>402.960219</td>\n",
       "      <td>12.347429</td>\n",
       "    </tr>\n",
       "    <tr>\n",
       "      <th>min</th>\n",
       "      <td>17.000000</td>\n",
       "      <td>1.228500e+04</td>\n",
       "      <td>1.000000</td>\n",
       "      <td>0.000000</td>\n",
       "      <td>0.000000</td>\n",
       "      <td>1.000000</td>\n",
       "    </tr>\n",
       "    <tr>\n",
       "      <th>25%</th>\n",
       "      <td>28.000000</td>\n",
       "      <td>1.178270e+05</td>\n",
       "      <td>9.000000</td>\n",
       "      <td>0.000000</td>\n",
       "      <td>0.000000</td>\n",
       "      <td>40.000000</td>\n",
       "    </tr>\n",
       "    <tr>\n",
       "      <th>50%</th>\n",
       "      <td>37.000000</td>\n",
       "      <td>1.783560e+05</td>\n",
       "      <td>10.000000</td>\n",
       "      <td>0.000000</td>\n",
       "      <td>0.000000</td>\n",
       "      <td>40.000000</td>\n",
       "    </tr>\n",
       "    <tr>\n",
       "      <th>75%</th>\n",
       "      <td>48.000000</td>\n",
       "      <td>2.370510e+05</td>\n",
       "      <td>12.000000</td>\n",
       "      <td>0.000000</td>\n",
       "      <td>0.000000</td>\n",
       "      <td>45.000000</td>\n",
       "    </tr>\n",
       "    <tr>\n",
       "      <th>max</th>\n",
       "      <td>90.000000</td>\n",
       "      <td>1.484705e+06</td>\n",
       "      <td>16.000000</td>\n",
       "      <td>99999.000000</td>\n",
       "      <td>4356.000000</td>\n",
       "      <td>99.000000</td>\n",
       "    </tr>\n",
       "  </tbody>\n",
       "</table>\n",
       "</div>"
      ],
      "text/plain": [
       "                age        fnlwgt  education.num  capital.gain  capital.loss  \\\n",
       "count  32561.000000  3.256100e+04   32561.000000  32561.000000  32561.000000   \n",
       "mean      38.581647  1.897784e+05      10.080679   1077.648844     87.303830   \n",
       "std       13.640433  1.055500e+05       2.572720   7385.292085    402.960219   \n",
       "min       17.000000  1.228500e+04       1.000000      0.000000      0.000000   \n",
       "25%       28.000000  1.178270e+05       9.000000      0.000000      0.000000   \n",
       "50%       37.000000  1.783560e+05      10.000000      0.000000      0.000000   \n",
       "75%       48.000000  2.370510e+05      12.000000      0.000000      0.000000   \n",
       "max       90.000000  1.484705e+06      16.000000  99999.000000   4356.000000   \n",
       "\n",
       "       hours.per.week  \n",
       "count    32561.000000  \n",
       "mean        40.437456  \n",
       "std         12.347429  \n",
       "min          1.000000  \n",
       "25%         40.000000  \n",
       "50%         40.000000  \n",
       "75%         45.000000  \n",
       "max         99.000000  "
      ]
     },
     "execution_count": 8,
     "metadata": {},
     "output_type": "execute_result"
    }
   ],
   "source": [
    "#getting statistical information concerning the dataset\n",
    "\n",
    "df.describe()"
   ]
  },
  {
   "cell_type": "markdown",
   "id": "8d0ebf60-a31b-4160-a1c9-6ac79a257fb0",
   "metadata": {},
   "source": [
    "## Data cleaning"
   ]
  },
  {
   "cell_type": "code",
   "execution_count": 9,
   "id": "8e2bdb0c-a720-41d5-b215-c9c781a1f4b3",
   "metadata": {},
   "outputs": [
    {
     "data": {
      "text/plain": [
       "age               0\n",
       "workclass         0\n",
       "fnlwgt            0\n",
       "education         0\n",
       "education.num     0\n",
       "marital.status    0\n",
       "occupation        0\n",
       "relationship      0\n",
       "race              0\n",
       "sex               0\n",
       "capital.gain      0\n",
       "capital.loss      0\n",
       "hours.per.week    0\n",
       "native.country    0\n",
       "income            0\n",
       "dtype: int64"
      ]
     },
     "execution_count": 9,
     "metadata": {},
     "output_type": "execute_result"
    }
   ],
   "source": [
    "#checking the number of empty entries\n",
    "\n",
    "df.isnull().sum()"
   ]
  },
  {
   "cell_type": "code",
   "execution_count": 10,
   "id": "184174a2-b7c8-4208-9c58-4412c52523c2",
   "metadata": {},
   "outputs": [
    {
     "data": {
      "text/html": [
       "<div>\n",
       "<style scoped>\n",
       "    .dataframe tbody tr th:only-of-type {\n",
       "        vertical-align: middle;\n",
       "    }\n",
       "\n",
       "    .dataframe tbody tr th {\n",
       "        vertical-align: top;\n",
       "    }\n",
       "\n",
       "    .dataframe thead th {\n",
       "        text-align: right;\n",
       "    }\n",
       "</style>\n",
       "<table border=\"1\" class=\"dataframe\">\n",
       "  <thead>\n",
       "    <tr style=\"text-align: right;\">\n",
       "      <th></th>\n",
       "      <th>age</th>\n",
       "      <th>workclass</th>\n",
       "      <th>fnlwgt</th>\n",
       "      <th>education</th>\n",
       "      <th>education.num</th>\n",
       "      <th>marital.status</th>\n",
       "      <th>occupation</th>\n",
       "      <th>relationship</th>\n",
       "      <th>race</th>\n",
       "      <th>sex</th>\n",
       "      <th>capital.gain</th>\n",
       "      <th>capital.loss</th>\n",
       "      <th>hours.per.week</th>\n",
       "      <th>native.country</th>\n",
       "      <th>income</th>\n",
       "    </tr>\n",
       "  </thead>\n",
       "  <tbody>\n",
       "    <tr>\n",
       "      <th>8453</th>\n",
       "      <td>25</td>\n",
       "      <td>Private</td>\n",
       "      <td>308144</td>\n",
       "      <td>Bachelors</td>\n",
       "      <td>13</td>\n",
       "      <td>Never-married</td>\n",
       "      <td>Craft-repair</td>\n",
       "      <td>Not-in-family</td>\n",
       "      <td>White</td>\n",
       "      <td>Male</td>\n",
       "      <td>0</td>\n",
       "      <td>0</td>\n",
       "      <td>40</td>\n",
       "      <td>Mexico</td>\n",
       "      <td>&lt;=50K</td>\n",
       "    </tr>\n",
       "    <tr>\n",
       "      <th>8645</th>\n",
       "      <td>90</td>\n",
       "      <td>Private</td>\n",
       "      <td>52386</td>\n",
       "      <td>Some-college</td>\n",
       "      <td>10</td>\n",
       "      <td>Never-married</td>\n",
       "      <td>Other-service</td>\n",
       "      <td>Not-in-family</td>\n",
       "      <td>Asian-Pac-Islander</td>\n",
       "      <td>Male</td>\n",
       "      <td>0</td>\n",
       "      <td>0</td>\n",
       "      <td>35</td>\n",
       "      <td>United-States</td>\n",
       "      <td>&lt;=50K</td>\n",
       "    </tr>\n",
       "    <tr>\n",
       "      <th>12202</th>\n",
       "      <td>21</td>\n",
       "      <td>Private</td>\n",
       "      <td>250051</td>\n",
       "      <td>Some-college</td>\n",
       "      <td>10</td>\n",
       "      <td>Never-married</td>\n",
       "      <td>Prof-specialty</td>\n",
       "      <td>Own-child</td>\n",
       "      <td>White</td>\n",
       "      <td>Female</td>\n",
       "      <td>0</td>\n",
       "      <td>0</td>\n",
       "      <td>10</td>\n",
       "      <td>United-States</td>\n",
       "      <td>&lt;=50K</td>\n",
       "    </tr>\n",
       "    <tr>\n",
       "      <th>14346</th>\n",
       "      <td>20</td>\n",
       "      <td>Private</td>\n",
       "      <td>107658</td>\n",
       "      <td>Some-college</td>\n",
       "      <td>10</td>\n",
       "      <td>Never-married</td>\n",
       "      <td>Tech-support</td>\n",
       "      <td>Not-in-family</td>\n",
       "      <td>White</td>\n",
       "      <td>Female</td>\n",
       "      <td>0</td>\n",
       "      <td>0</td>\n",
       "      <td>10</td>\n",
       "      <td>United-States</td>\n",
       "      <td>&lt;=50K</td>\n",
       "    </tr>\n",
       "    <tr>\n",
       "      <th>15603</th>\n",
       "      <td>25</td>\n",
       "      <td>Private</td>\n",
       "      <td>195994</td>\n",
       "      <td>1st-4th</td>\n",
       "      <td>2</td>\n",
       "      <td>Never-married</td>\n",
       "      <td>Priv-house-serv</td>\n",
       "      <td>Not-in-family</td>\n",
       "      <td>White</td>\n",
       "      <td>Female</td>\n",
       "      <td>0</td>\n",
       "      <td>0</td>\n",
       "      <td>40</td>\n",
       "      <td>Guatemala</td>\n",
       "      <td>&lt;=50K</td>\n",
       "    </tr>\n",
       "    <tr>\n",
       "      <th>17344</th>\n",
       "      <td>21</td>\n",
       "      <td>Private</td>\n",
       "      <td>243368</td>\n",
       "      <td>Preschool</td>\n",
       "      <td>1</td>\n",
       "      <td>Never-married</td>\n",
       "      <td>Farming-fishing</td>\n",
       "      <td>Not-in-family</td>\n",
       "      <td>White</td>\n",
       "      <td>Male</td>\n",
       "      <td>0</td>\n",
       "      <td>0</td>\n",
       "      <td>50</td>\n",
       "      <td>Mexico</td>\n",
       "      <td>&lt;=50K</td>\n",
       "    </tr>\n",
       "    <tr>\n",
       "      <th>19067</th>\n",
       "      <td>46</td>\n",
       "      <td>Private</td>\n",
       "      <td>173243</td>\n",
       "      <td>HS-grad</td>\n",
       "      <td>9</td>\n",
       "      <td>Married-civ-spouse</td>\n",
       "      <td>Craft-repair</td>\n",
       "      <td>Husband</td>\n",
       "      <td>White</td>\n",
       "      <td>Male</td>\n",
       "      <td>0</td>\n",
       "      <td>0</td>\n",
       "      <td>40</td>\n",
       "      <td>United-States</td>\n",
       "      <td>&lt;=50K</td>\n",
       "    </tr>\n",
       "    <tr>\n",
       "      <th>20388</th>\n",
       "      <td>30</td>\n",
       "      <td>Private</td>\n",
       "      <td>144593</td>\n",
       "      <td>HS-grad</td>\n",
       "      <td>9</td>\n",
       "      <td>Never-married</td>\n",
       "      <td>Other-service</td>\n",
       "      <td>Not-in-family</td>\n",
       "      <td>Black</td>\n",
       "      <td>Male</td>\n",
       "      <td>0</td>\n",
       "      <td>0</td>\n",
       "      <td>40</td>\n",
       "      <td>?</td>\n",
       "      <td>&lt;=50K</td>\n",
       "    </tr>\n",
       "    <tr>\n",
       "      <th>20507</th>\n",
       "      <td>19</td>\n",
       "      <td>Private</td>\n",
       "      <td>97261</td>\n",
       "      <td>HS-grad</td>\n",
       "      <td>9</td>\n",
       "      <td>Never-married</td>\n",
       "      <td>Farming-fishing</td>\n",
       "      <td>Not-in-family</td>\n",
       "      <td>White</td>\n",
       "      <td>Male</td>\n",
       "      <td>0</td>\n",
       "      <td>0</td>\n",
       "      <td>40</td>\n",
       "      <td>United-States</td>\n",
       "      <td>&lt;=50K</td>\n",
       "    </tr>\n",
       "    <tr>\n",
       "      <th>22783</th>\n",
       "      <td>19</td>\n",
       "      <td>Private</td>\n",
       "      <td>138153</td>\n",
       "      <td>Some-college</td>\n",
       "      <td>10</td>\n",
       "      <td>Never-married</td>\n",
       "      <td>Adm-clerical</td>\n",
       "      <td>Own-child</td>\n",
       "      <td>White</td>\n",
       "      <td>Female</td>\n",
       "      <td>0</td>\n",
       "      <td>0</td>\n",
       "      <td>10</td>\n",
       "      <td>United-States</td>\n",
       "      <td>&lt;=50K</td>\n",
       "    </tr>\n",
       "    <tr>\n",
       "      <th>22934</th>\n",
       "      <td>19</td>\n",
       "      <td>Private</td>\n",
       "      <td>146679</td>\n",
       "      <td>Some-college</td>\n",
       "      <td>10</td>\n",
       "      <td>Never-married</td>\n",
       "      <td>Exec-managerial</td>\n",
       "      <td>Own-child</td>\n",
       "      <td>Black</td>\n",
       "      <td>Male</td>\n",
       "      <td>0</td>\n",
       "      <td>0</td>\n",
       "      <td>30</td>\n",
       "      <td>United-States</td>\n",
       "      <td>&lt;=50K</td>\n",
       "    </tr>\n",
       "    <tr>\n",
       "      <th>23276</th>\n",
       "      <td>49</td>\n",
       "      <td>Private</td>\n",
       "      <td>31267</td>\n",
       "      <td>7th-8th</td>\n",
       "      <td>4</td>\n",
       "      <td>Married-civ-spouse</td>\n",
       "      <td>Craft-repair</td>\n",
       "      <td>Husband</td>\n",
       "      <td>White</td>\n",
       "      <td>Male</td>\n",
       "      <td>0</td>\n",
       "      <td>0</td>\n",
       "      <td>40</td>\n",
       "      <td>United-States</td>\n",
       "      <td>&lt;=50K</td>\n",
       "    </tr>\n",
       "    <tr>\n",
       "      <th>23660</th>\n",
       "      <td>25</td>\n",
       "      <td>Private</td>\n",
       "      <td>195994</td>\n",
       "      <td>1st-4th</td>\n",
       "      <td>2</td>\n",
       "      <td>Never-married</td>\n",
       "      <td>Priv-house-serv</td>\n",
       "      <td>Not-in-family</td>\n",
       "      <td>White</td>\n",
       "      <td>Female</td>\n",
       "      <td>0</td>\n",
       "      <td>0</td>\n",
       "      <td>40</td>\n",
       "      <td>Guatemala</td>\n",
       "      <td>&lt;=50K</td>\n",
       "    </tr>\n",
       "    <tr>\n",
       "      <th>23720</th>\n",
       "      <td>44</td>\n",
       "      <td>Private</td>\n",
       "      <td>367749</td>\n",
       "      <td>Bachelors</td>\n",
       "      <td>13</td>\n",
       "      <td>Never-married</td>\n",
       "      <td>Prof-specialty</td>\n",
       "      <td>Not-in-family</td>\n",
       "      <td>White</td>\n",
       "      <td>Female</td>\n",
       "      <td>0</td>\n",
       "      <td>0</td>\n",
       "      <td>45</td>\n",
       "      <td>Mexico</td>\n",
       "      <td>&lt;=50K</td>\n",
       "    </tr>\n",
       "    <tr>\n",
       "      <th>23827</th>\n",
       "      <td>49</td>\n",
       "      <td>Self-emp-not-inc</td>\n",
       "      <td>43479</td>\n",
       "      <td>Some-college</td>\n",
       "      <td>10</td>\n",
       "      <td>Married-civ-spouse</td>\n",
       "      <td>Craft-repair</td>\n",
       "      <td>Husband</td>\n",
       "      <td>White</td>\n",
       "      <td>Male</td>\n",
       "      <td>0</td>\n",
       "      <td>0</td>\n",
       "      <td>40</td>\n",
       "      <td>United-States</td>\n",
       "      <td>&lt;=50K</td>\n",
       "    </tr>\n",
       "    <tr>\n",
       "      <th>26738</th>\n",
       "      <td>23</td>\n",
       "      <td>Private</td>\n",
       "      <td>240137</td>\n",
       "      <td>5th-6th</td>\n",
       "      <td>3</td>\n",
       "      <td>Never-married</td>\n",
       "      <td>Handlers-cleaners</td>\n",
       "      <td>Not-in-family</td>\n",
       "      <td>White</td>\n",
       "      <td>Male</td>\n",
       "      <td>0</td>\n",
       "      <td>0</td>\n",
       "      <td>55</td>\n",
       "      <td>Mexico</td>\n",
       "      <td>&lt;=50K</td>\n",
       "    </tr>\n",
       "    <tr>\n",
       "      <th>27133</th>\n",
       "      <td>28</td>\n",
       "      <td>Private</td>\n",
       "      <td>274679</td>\n",
       "      <td>Masters</td>\n",
       "      <td>14</td>\n",
       "      <td>Never-married</td>\n",
       "      <td>Prof-specialty</td>\n",
       "      <td>Not-in-family</td>\n",
       "      <td>White</td>\n",
       "      <td>Male</td>\n",
       "      <td>0</td>\n",
       "      <td>0</td>\n",
       "      <td>50</td>\n",
       "      <td>United-States</td>\n",
       "      <td>&lt;=50K</td>\n",
       "    </tr>\n",
       "    <tr>\n",
       "      <th>28796</th>\n",
       "      <td>27</td>\n",
       "      <td>Private</td>\n",
       "      <td>255582</td>\n",
       "      <td>HS-grad</td>\n",
       "      <td>9</td>\n",
       "      <td>Never-married</td>\n",
       "      <td>Machine-op-inspct</td>\n",
       "      <td>Not-in-family</td>\n",
       "      <td>White</td>\n",
       "      <td>Female</td>\n",
       "      <td>0</td>\n",
       "      <td>0</td>\n",
       "      <td>40</td>\n",
       "      <td>United-States</td>\n",
       "      <td>&lt;=50K</td>\n",
       "    </tr>\n",
       "    <tr>\n",
       "      <th>29051</th>\n",
       "      <td>42</td>\n",
       "      <td>Private</td>\n",
       "      <td>204235</td>\n",
       "      <td>Some-college</td>\n",
       "      <td>10</td>\n",
       "      <td>Married-civ-spouse</td>\n",
       "      <td>Prof-specialty</td>\n",
       "      <td>Husband</td>\n",
       "      <td>White</td>\n",
       "      <td>Male</td>\n",
       "      <td>0</td>\n",
       "      <td>0</td>\n",
       "      <td>40</td>\n",
       "      <td>United-States</td>\n",
       "      <td>&gt;50K</td>\n",
       "    </tr>\n",
       "    <tr>\n",
       "      <th>29334</th>\n",
       "      <td>39</td>\n",
       "      <td>Private</td>\n",
       "      <td>30916</td>\n",
       "      <td>HS-grad</td>\n",
       "      <td>9</td>\n",
       "      <td>Married-civ-spouse</td>\n",
       "      <td>Craft-repair</td>\n",
       "      <td>Husband</td>\n",
       "      <td>White</td>\n",
       "      <td>Male</td>\n",
       "      <td>0</td>\n",
       "      <td>0</td>\n",
       "      <td>40</td>\n",
       "      <td>United-States</td>\n",
       "      <td>&lt;=50K</td>\n",
       "    </tr>\n",
       "    <tr>\n",
       "      <th>29604</th>\n",
       "      <td>38</td>\n",
       "      <td>Private</td>\n",
       "      <td>207202</td>\n",
       "      <td>HS-grad</td>\n",
       "      <td>9</td>\n",
       "      <td>Married-civ-spouse</td>\n",
       "      <td>Machine-op-inspct</td>\n",
       "      <td>Husband</td>\n",
       "      <td>White</td>\n",
       "      <td>Male</td>\n",
       "      <td>0</td>\n",
       "      <td>0</td>\n",
       "      <td>48</td>\n",
       "      <td>United-States</td>\n",
       "      <td>&gt;50K</td>\n",
       "    </tr>\n",
       "    <tr>\n",
       "      <th>31060</th>\n",
       "      <td>46</td>\n",
       "      <td>Private</td>\n",
       "      <td>133616</td>\n",
       "      <td>Some-college</td>\n",
       "      <td>10</td>\n",
       "      <td>Divorced</td>\n",
       "      <td>Adm-clerical</td>\n",
       "      <td>Unmarried</td>\n",
       "      <td>White</td>\n",
       "      <td>Female</td>\n",
       "      <td>0</td>\n",
       "      <td>0</td>\n",
       "      <td>40</td>\n",
       "      <td>United-States</td>\n",
       "      <td>&lt;=50K</td>\n",
       "    </tr>\n",
       "    <tr>\n",
       "      <th>32065</th>\n",
       "      <td>19</td>\n",
       "      <td>Private</td>\n",
       "      <td>251579</td>\n",
       "      <td>Some-college</td>\n",
       "      <td>10</td>\n",
       "      <td>Never-married</td>\n",
       "      <td>Other-service</td>\n",
       "      <td>Own-child</td>\n",
       "      <td>White</td>\n",
       "      <td>Male</td>\n",
       "      <td>0</td>\n",
       "      <td>0</td>\n",
       "      <td>14</td>\n",
       "      <td>United-States</td>\n",
       "      <td>&lt;=50K</td>\n",
       "    </tr>\n",
       "    <tr>\n",
       "      <th>32419</th>\n",
       "      <td>35</td>\n",
       "      <td>Private</td>\n",
       "      <td>379959</td>\n",
       "      <td>HS-grad</td>\n",
       "      <td>9</td>\n",
       "      <td>Divorced</td>\n",
       "      <td>Other-service</td>\n",
       "      <td>Not-in-family</td>\n",
       "      <td>White</td>\n",
       "      <td>Female</td>\n",
       "      <td>0</td>\n",
       "      <td>0</td>\n",
       "      <td>40</td>\n",
       "      <td>United-States</td>\n",
       "      <td>&lt;=50K</td>\n",
       "    </tr>\n",
       "  </tbody>\n",
       "</table>\n",
       "</div>"
      ],
      "text/plain": [
       "       age         workclass  fnlwgt     education  education.num  \\\n",
       "8453    25           Private  308144     Bachelors             13   \n",
       "8645    90           Private   52386  Some-college             10   \n",
       "12202   21           Private  250051  Some-college             10   \n",
       "14346   20           Private  107658  Some-college             10   \n",
       "15603   25           Private  195994       1st-4th              2   \n",
       "17344   21           Private  243368     Preschool              1   \n",
       "19067   46           Private  173243       HS-grad              9   \n",
       "20388   30           Private  144593       HS-grad              9   \n",
       "20507   19           Private   97261       HS-grad              9   \n",
       "22783   19           Private  138153  Some-college             10   \n",
       "22934   19           Private  146679  Some-college             10   \n",
       "23276   49           Private   31267       7th-8th              4   \n",
       "23660   25           Private  195994       1st-4th              2   \n",
       "23720   44           Private  367749     Bachelors             13   \n",
       "23827   49  Self-emp-not-inc   43479  Some-college             10   \n",
       "26738   23           Private  240137       5th-6th              3   \n",
       "27133   28           Private  274679       Masters             14   \n",
       "28796   27           Private  255582       HS-grad              9   \n",
       "29051   42           Private  204235  Some-college             10   \n",
       "29334   39           Private   30916       HS-grad              9   \n",
       "29604   38           Private  207202       HS-grad              9   \n",
       "31060   46           Private  133616  Some-college             10   \n",
       "32065   19           Private  251579  Some-college             10   \n",
       "32419   35           Private  379959       HS-grad              9   \n",
       "\n",
       "           marital.status         occupation   relationship  \\\n",
       "8453        Never-married       Craft-repair  Not-in-family   \n",
       "8645        Never-married      Other-service  Not-in-family   \n",
       "12202       Never-married     Prof-specialty      Own-child   \n",
       "14346       Never-married       Tech-support  Not-in-family   \n",
       "15603       Never-married    Priv-house-serv  Not-in-family   \n",
       "17344       Never-married    Farming-fishing  Not-in-family   \n",
       "19067  Married-civ-spouse       Craft-repair        Husband   \n",
       "20388       Never-married      Other-service  Not-in-family   \n",
       "20507       Never-married    Farming-fishing  Not-in-family   \n",
       "22783       Never-married       Adm-clerical      Own-child   \n",
       "22934       Never-married    Exec-managerial      Own-child   \n",
       "23276  Married-civ-spouse       Craft-repair        Husband   \n",
       "23660       Never-married    Priv-house-serv  Not-in-family   \n",
       "23720       Never-married     Prof-specialty  Not-in-family   \n",
       "23827  Married-civ-spouse       Craft-repair        Husband   \n",
       "26738       Never-married  Handlers-cleaners  Not-in-family   \n",
       "27133       Never-married     Prof-specialty  Not-in-family   \n",
       "28796       Never-married  Machine-op-inspct  Not-in-family   \n",
       "29051  Married-civ-spouse     Prof-specialty        Husband   \n",
       "29334  Married-civ-spouse       Craft-repair        Husband   \n",
       "29604  Married-civ-spouse  Machine-op-inspct        Husband   \n",
       "31060            Divorced       Adm-clerical      Unmarried   \n",
       "32065       Never-married      Other-service      Own-child   \n",
       "32419            Divorced      Other-service  Not-in-family   \n",
       "\n",
       "                     race     sex  capital.gain  capital.loss  hours.per.week  \\\n",
       "8453                White    Male             0             0              40   \n",
       "8645   Asian-Pac-Islander    Male             0             0              35   \n",
       "12202               White  Female             0             0              10   \n",
       "14346               White  Female             0             0              10   \n",
       "15603               White  Female             0             0              40   \n",
       "17344               White    Male             0             0              50   \n",
       "19067               White    Male             0             0              40   \n",
       "20388               Black    Male             0             0              40   \n",
       "20507               White    Male             0             0              40   \n",
       "22783               White  Female             0             0              10   \n",
       "22934               Black    Male             0             0              30   \n",
       "23276               White    Male             0             0              40   \n",
       "23660               White  Female             0             0              40   \n",
       "23720               White  Female             0             0              45   \n",
       "23827               White    Male             0             0              40   \n",
       "26738               White    Male             0             0              55   \n",
       "27133               White    Male             0             0              50   \n",
       "28796               White  Female             0             0              40   \n",
       "29051               White    Male             0             0              40   \n",
       "29334               White    Male             0             0              40   \n",
       "29604               White    Male             0             0              48   \n",
       "31060               White  Female             0             0              40   \n",
       "32065               White    Male             0             0              14   \n",
       "32419               White  Female             0             0              40   \n",
       "\n",
       "      native.country income  \n",
       "8453          Mexico  <=50K  \n",
       "8645   United-States  <=50K  \n",
       "12202  United-States  <=50K  \n",
       "14346  United-States  <=50K  \n",
       "15603      Guatemala  <=50K  \n",
       "17344         Mexico  <=50K  \n",
       "19067  United-States  <=50K  \n",
       "20388              ?  <=50K  \n",
       "20507  United-States  <=50K  \n",
       "22783  United-States  <=50K  \n",
       "22934  United-States  <=50K  \n",
       "23276  United-States  <=50K  \n",
       "23660      Guatemala  <=50K  \n",
       "23720         Mexico  <=50K  \n",
       "23827  United-States  <=50K  \n",
       "26738         Mexico  <=50K  \n",
       "27133  United-States  <=50K  \n",
       "28796  United-States  <=50K  \n",
       "29051  United-States   >50K  \n",
       "29334  United-States  <=50K  \n",
       "29604  United-States   >50K  \n",
       "31060  United-States  <=50K  \n",
       "32065  United-States  <=50K  \n",
       "32419  United-States  <=50K  "
      ]
     },
     "execution_count": 10,
     "metadata": {},
     "output_type": "execute_result"
    }
   ],
   "source": [
    "#checking for duplications \n",
    "\n",
    "df[df.duplicated()]"
   ]
  },
  {
   "cell_type": "code",
   "execution_count": 11,
   "id": "2a80eb9b-c589-4170-b690-e36ab397f6df",
   "metadata": {},
   "outputs": [
    {
     "data": {
      "text/html": [
       "<div>\n",
       "<style scoped>\n",
       "    .dataframe tbody tr th:only-of-type {\n",
       "        vertical-align: middle;\n",
       "    }\n",
       "\n",
       "    .dataframe tbody tr th {\n",
       "        vertical-align: top;\n",
       "    }\n",
       "\n",
       "    .dataframe thead th {\n",
       "        text-align: right;\n",
       "    }\n",
       "</style>\n",
       "<table border=\"1\" class=\"dataframe\">\n",
       "  <thead>\n",
       "    <tr style=\"text-align: right;\">\n",
       "      <th></th>\n",
       "      <th>age</th>\n",
       "      <th>workclass</th>\n",
       "      <th>fnlwgt</th>\n",
       "      <th>education</th>\n",
       "      <th>education.num</th>\n",
       "      <th>marital.status</th>\n",
       "      <th>occupation</th>\n",
       "      <th>relationship</th>\n",
       "      <th>race</th>\n",
       "      <th>sex</th>\n",
       "      <th>capital.gain</th>\n",
       "      <th>capital.loss</th>\n",
       "      <th>hours.per.week</th>\n",
       "      <th>native.country</th>\n",
       "      <th>income</th>\n",
       "    </tr>\n",
       "  </thead>\n",
       "  <tbody>\n",
       "    <tr>\n",
       "      <th>0</th>\n",
       "      <td>90</td>\n",
       "      <td>?</td>\n",
       "      <td>77053</td>\n",
       "      <td>HS-grad</td>\n",
       "      <td>9</td>\n",
       "      <td>Widowed</td>\n",
       "      <td>?</td>\n",
       "      <td>Not-in-family</td>\n",
       "      <td>White</td>\n",
       "      <td>Female</td>\n",
       "      <td>0</td>\n",
       "      <td>4356</td>\n",
       "      <td>40</td>\n",
       "      <td>United-States</td>\n",
       "      <td>&lt;=50K</td>\n",
       "    </tr>\n",
       "    <tr>\n",
       "      <th>1</th>\n",
       "      <td>82</td>\n",
       "      <td>Private</td>\n",
       "      <td>132870</td>\n",
       "      <td>HS-grad</td>\n",
       "      <td>9</td>\n",
       "      <td>Widowed</td>\n",
       "      <td>Exec-managerial</td>\n",
       "      <td>Not-in-family</td>\n",
       "      <td>White</td>\n",
       "      <td>Female</td>\n",
       "      <td>0</td>\n",
       "      <td>4356</td>\n",
       "      <td>18</td>\n",
       "      <td>United-States</td>\n",
       "      <td>&lt;=50K</td>\n",
       "    </tr>\n",
       "    <tr>\n",
       "      <th>2</th>\n",
       "      <td>66</td>\n",
       "      <td>?</td>\n",
       "      <td>186061</td>\n",
       "      <td>Some-college</td>\n",
       "      <td>10</td>\n",
       "      <td>Widowed</td>\n",
       "      <td>?</td>\n",
       "      <td>Unmarried</td>\n",
       "      <td>Black</td>\n",
       "      <td>Female</td>\n",
       "      <td>0</td>\n",
       "      <td>4356</td>\n",
       "      <td>40</td>\n",
       "      <td>United-States</td>\n",
       "      <td>&lt;=50K</td>\n",
       "    </tr>\n",
       "    <tr>\n",
       "      <th>3</th>\n",
       "      <td>54</td>\n",
       "      <td>Private</td>\n",
       "      <td>140359</td>\n",
       "      <td>7th-8th</td>\n",
       "      <td>4</td>\n",
       "      <td>Divorced</td>\n",
       "      <td>Machine-op-inspct</td>\n",
       "      <td>Unmarried</td>\n",
       "      <td>White</td>\n",
       "      <td>Female</td>\n",
       "      <td>0</td>\n",
       "      <td>3900</td>\n",
       "      <td>40</td>\n",
       "      <td>United-States</td>\n",
       "      <td>&lt;=50K</td>\n",
       "    </tr>\n",
       "    <tr>\n",
       "      <th>4</th>\n",
       "      <td>41</td>\n",
       "      <td>Private</td>\n",
       "      <td>264663</td>\n",
       "      <td>Some-college</td>\n",
       "      <td>10</td>\n",
       "      <td>Separated</td>\n",
       "      <td>Prof-specialty</td>\n",
       "      <td>Own-child</td>\n",
       "      <td>White</td>\n",
       "      <td>Female</td>\n",
       "      <td>0</td>\n",
       "      <td>3900</td>\n",
       "      <td>40</td>\n",
       "      <td>United-States</td>\n",
       "      <td>&lt;=50K</td>\n",
       "    </tr>\n",
       "    <tr>\n",
       "      <th>...</th>\n",
       "      <td>...</td>\n",
       "      <td>...</td>\n",
       "      <td>...</td>\n",
       "      <td>...</td>\n",
       "      <td>...</td>\n",
       "      <td>...</td>\n",
       "      <td>...</td>\n",
       "      <td>...</td>\n",
       "      <td>...</td>\n",
       "      <td>...</td>\n",
       "      <td>...</td>\n",
       "      <td>...</td>\n",
       "      <td>...</td>\n",
       "      <td>...</td>\n",
       "      <td>...</td>\n",
       "    </tr>\n",
       "    <tr>\n",
       "      <th>32556</th>\n",
       "      <td>22</td>\n",
       "      <td>Private</td>\n",
       "      <td>310152</td>\n",
       "      <td>Some-college</td>\n",
       "      <td>10</td>\n",
       "      <td>Never-married</td>\n",
       "      <td>Protective-serv</td>\n",
       "      <td>Not-in-family</td>\n",
       "      <td>White</td>\n",
       "      <td>Male</td>\n",
       "      <td>0</td>\n",
       "      <td>0</td>\n",
       "      <td>40</td>\n",
       "      <td>United-States</td>\n",
       "      <td>&lt;=50K</td>\n",
       "    </tr>\n",
       "    <tr>\n",
       "      <th>32557</th>\n",
       "      <td>27</td>\n",
       "      <td>Private</td>\n",
       "      <td>257302</td>\n",
       "      <td>Assoc-acdm</td>\n",
       "      <td>12</td>\n",
       "      <td>Married-civ-spouse</td>\n",
       "      <td>Tech-support</td>\n",
       "      <td>Wife</td>\n",
       "      <td>White</td>\n",
       "      <td>Female</td>\n",
       "      <td>0</td>\n",
       "      <td>0</td>\n",
       "      <td>38</td>\n",
       "      <td>United-States</td>\n",
       "      <td>&lt;=50K</td>\n",
       "    </tr>\n",
       "    <tr>\n",
       "      <th>32558</th>\n",
       "      <td>40</td>\n",
       "      <td>Private</td>\n",
       "      <td>154374</td>\n",
       "      <td>HS-grad</td>\n",
       "      <td>9</td>\n",
       "      <td>Married-civ-spouse</td>\n",
       "      <td>Machine-op-inspct</td>\n",
       "      <td>Husband</td>\n",
       "      <td>White</td>\n",
       "      <td>Male</td>\n",
       "      <td>0</td>\n",
       "      <td>0</td>\n",
       "      <td>40</td>\n",
       "      <td>United-States</td>\n",
       "      <td>&gt;50K</td>\n",
       "    </tr>\n",
       "    <tr>\n",
       "      <th>32559</th>\n",
       "      <td>58</td>\n",
       "      <td>Private</td>\n",
       "      <td>151910</td>\n",
       "      <td>HS-grad</td>\n",
       "      <td>9</td>\n",
       "      <td>Widowed</td>\n",
       "      <td>Adm-clerical</td>\n",
       "      <td>Unmarried</td>\n",
       "      <td>White</td>\n",
       "      <td>Female</td>\n",
       "      <td>0</td>\n",
       "      <td>0</td>\n",
       "      <td>40</td>\n",
       "      <td>United-States</td>\n",
       "      <td>&lt;=50K</td>\n",
       "    </tr>\n",
       "    <tr>\n",
       "      <th>32560</th>\n",
       "      <td>22</td>\n",
       "      <td>Private</td>\n",
       "      <td>201490</td>\n",
       "      <td>HS-grad</td>\n",
       "      <td>9</td>\n",
       "      <td>Never-married</td>\n",
       "      <td>Adm-clerical</td>\n",
       "      <td>Own-child</td>\n",
       "      <td>White</td>\n",
       "      <td>Male</td>\n",
       "      <td>0</td>\n",
       "      <td>0</td>\n",
       "      <td>20</td>\n",
       "      <td>United-States</td>\n",
       "      <td>&lt;=50K</td>\n",
       "    </tr>\n",
       "  </tbody>\n",
       "</table>\n",
       "<p>32537 rows × 15 columns</p>\n",
       "</div>"
      ],
      "text/plain": [
       "       age workclass  fnlwgt     education  education.num      marital.status  \\\n",
       "0       90         ?   77053       HS-grad              9             Widowed   \n",
       "1       82   Private  132870       HS-grad              9             Widowed   \n",
       "2       66         ?  186061  Some-college             10             Widowed   \n",
       "3       54   Private  140359       7th-8th              4            Divorced   \n",
       "4       41   Private  264663  Some-college             10           Separated   \n",
       "...    ...       ...     ...           ...            ...                 ...   \n",
       "32556   22   Private  310152  Some-college             10       Never-married   \n",
       "32557   27   Private  257302    Assoc-acdm             12  Married-civ-spouse   \n",
       "32558   40   Private  154374       HS-grad              9  Married-civ-spouse   \n",
       "32559   58   Private  151910       HS-grad              9             Widowed   \n",
       "32560   22   Private  201490       HS-grad              9       Never-married   \n",
       "\n",
       "              occupation   relationship   race     sex  capital.gain  \\\n",
       "0                      ?  Not-in-family  White  Female             0   \n",
       "1        Exec-managerial  Not-in-family  White  Female             0   \n",
       "2                      ?      Unmarried  Black  Female             0   \n",
       "3      Machine-op-inspct      Unmarried  White  Female             0   \n",
       "4         Prof-specialty      Own-child  White  Female             0   \n",
       "...                  ...            ...    ...     ...           ...   \n",
       "32556    Protective-serv  Not-in-family  White    Male             0   \n",
       "32557       Tech-support           Wife  White  Female             0   \n",
       "32558  Machine-op-inspct        Husband  White    Male             0   \n",
       "32559       Adm-clerical      Unmarried  White  Female             0   \n",
       "32560       Adm-clerical      Own-child  White    Male             0   \n",
       "\n",
       "       capital.loss  hours.per.week native.country income  \n",
       "0              4356              40  United-States  <=50K  \n",
       "1              4356              18  United-States  <=50K  \n",
       "2              4356              40  United-States  <=50K  \n",
       "3              3900              40  United-States  <=50K  \n",
       "4              3900              40  United-States  <=50K  \n",
       "...             ...             ...            ...    ...  \n",
       "32556             0              40  United-States  <=50K  \n",
       "32557             0              38  United-States  <=50K  \n",
       "32558             0              40  United-States   >50K  \n",
       "32559             0              40  United-States  <=50K  \n",
       "32560             0              20  United-States  <=50K  \n",
       "\n",
       "[32537 rows x 15 columns]"
      ]
     },
     "execution_count": 11,
     "metadata": {},
     "output_type": "execute_result"
    }
   ],
   "source": [
    "#dropping duplicates\n",
    "\n",
    "df=df.drop_duplicates()\n",
    "df"
   ]
  },
  {
   "cell_type": "markdown",
   "id": "f436b04d-672b-4c8b-8297-31d7ef74f72e",
   "metadata": {},
   "source": [
    "## Data Manipulation"
   ]
  },
  {
   "cell_type": "code",
   "execution_count": 12,
   "id": "ccade091-193d-4ac4-ae55-25fcc032e2e5",
   "metadata": {},
   "outputs": [
    {
     "data": {
      "text/plain": [
       "6174899468"
      ]
     },
     "execution_count": 12,
     "metadata": {},
     "output_type": "execute_result"
    }
   ],
   "source": [
    "#finds initial total population\n",
    "\n",
    "population=df['fnlwgt'].sum()\n",
    "population"
   ]
  },
  {
   "cell_type": "code",
   "execution_count": 13,
   "id": "95dc8fd9-6abc-4373-9273-7da344e7291c",
   "metadata": {},
   "outputs": [
    {
     "data": {
      "text/plain": [
       "31.344667350253808"
      ]
     },
     "execution_count": 13,
     "metadata": {},
     "output_type": "execute_result"
    }
   ],
   "source": [
    "#finds accurate total population as per 1994 Census gotten from research\n",
    "\n",
    "accPopulation=population/197000000\n",
    "accPopulation"
   ]
  },
  {
   "cell_type": "code",
   "execution_count": 14,
   "id": "36318776-50c1-43c3-9d59-ad3c221f4d33",
   "metadata": {},
   "outputs": [
    {
     "name": "stderr",
     "output_type": "stream",
     "text": [
      "C:\\Users\\User\\AppData\\Local\\Temp\\ipykernel_6476\\3952274534.py:3: SettingWithCopyWarning: \n",
      "A value is trying to be set on a copy of a slice from a DataFrame.\n",
      "Try using .loc[row_indexer,col_indexer] = value instead\n",
      "\n",
      "See the caveats in the documentation: https://pandas.pydata.org/pandas-docs/stable/user_guide/indexing.html#returning-a-view-versus-a-copy\n",
      "  df['fnlwgt']=(df['fnlwgt']//accPopulation)\n"
     ]
    },
    {
     "data": {
      "text/html": [
       "<div>\n",
       "<style scoped>\n",
       "    .dataframe tbody tr th:only-of-type {\n",
       "        vertical-align: middle;\n",
       "    }\n",
       "\n",
       "    .dataframe tbody tr th {\n",
       "        vertical-align: top;\n",
       "    }\n",
       "\n",
       "    .dataframe thead th {\n",
       "        text-align: right;\n",
       "    }\n",
       "</style>\n",
       "<table border=\"1\" class=\"dataframe\">\n",
       "  <thead>\n",
       "    <tr style=\"text-align: right;\">\n",
       "      <th></th>\n",
       "      <th>age</th>\n",
       "      <th>workclass</th>\n",
       "      <th>fnlwgt</th>\n",
       "      <th>education</th>\n",
       "      <th>education.num</th>\n",
       "      <th>marital.status</th>\n",
       "      <th>occupation</th>\n",
       "      <th>relationship</th>\n",
       "      <th>race</th>\n",
       "      <th>sex</th>\n",
       "      <th>capital.gain</th>\n",
       "      <th>capital.loss</th>\n",
       "      <th>hours.per.week</th>\n",
       "      <th>native.country</th>\n",
       "      <th>income</th>\n",
       "    </tr>\n",
       "  </thead>\n",
       "  <tbody>\n",
       "    <tr>\n",
       "      <th>0</th>\n",
       "      <td>90</td>\n",
       "      <td>?</td>\n",
       "      <td>2458.0</td>\n",
       "      <td>HS-grad</td>\n",
       "      <td>9</td>\n",
       "      <td>Widowed</td>\n",
       "      <td>?</td>\n",
       "      <td>Not-in-family</td>\n",
       "      <td>White</td>\n",
       "      <td>Female</td>\n",
       "      <td>0</td>\n",
       "      <td>4356</td>\n",
       "      <td>40</td>\n",
       "      <td>United-States</td>\n",
       "      <td>&lt;=50K</td>\n",
       "    </tr>\n",
       "    <tr>\n",
       "      <th>1</th>\n",
       "      <td>82</td>\n",
       "      <td>Private</td>\n",
       "      <td>4238.0</td>\n",
       "      <td>HS-grad</td>\n",
       "      <td>9</td>\n",
       "      <td>Widowed</td>\n",
       "      <td>Exec-managerial</td>\n",
       "      <td>Not-in-family</td>\n",
       "      <td>White</td>\n",
       "      <td>Female</td>\n",
       "      <td>0</td>\n",
       "      <td>4356</td>\n",
       "      <td>18</td>\n",
       "      <td>United-States</td>\n",
       "      <td>&lt;=50K</td>\n",
       "    </tr>\n",
       "    <tr>\n",
       "      <th>2</th>\n",
       "      <td>66</td>\n",
       "      <td>?</td>\n",
       "      <td>5935.0</td>\n",
       "      <td>Some-college</td>\n",
       "      <td>10</td>\n",
       "      <td>Widowed</td>\n",
       "      <td>?</td>\n",
       "      <td>Unmarried</td>\n",
       "      <td>Black</td>\n",
       "      <td>Female</td>\n",
       "      <td>0</td>\n",
       "      <td>4356</td>\n",
       "      <td>40</td>\n",
       "      <td>United-States</td>\n",
       "      <td>&lt;=50K</td>\n",
       "    </tr>\n",
       "    <tr>\n",
       "      <th>3</th>\n",
       "      <td>54</td>\n",
       "      <td>Private</td>\n",
       "      <td>4477.0</td>\n",
       "      <td>7th-8th</td>\n",
       "      <td>4</td>\n",
       "      <td>Divorced</td>\n",
       "      <td>Machine-op-inspct</td>\n",
       "      <td>Unmarried</td>\n",
       "      <td>White</td>\n",
       "      <td>Female</td>\n",
       "      <td>0</td>\n",
       "      <td>3900</td>\n",
       "      <td>40</td>\n",
       "      <td>United-States</td>\n",
       "      <td>&lt;=50K</td>\n",
       "    </tr>\n",
       "    <tr>\n",
       "      <th>4</th>\n",
       "      <td>41</td>\n",
       "      <td>Private</td>\n",
       "      <td>8443.0</td>\n",
       "      <td>Some-college</td>\n",
       "      <td>10</td>\n",
       "      <td>Separated</td>\n",
       "      <td>Prof-specialty</td>\n",
       "      <td>Own-child</td>\n",
       "      <td>White</td>\n",
       "      <td>Female</td>\n",
       "      <td>0</td>\n",
       "      <td>3900</td>\n",
       "      <td>40</td>\n",
       "      <td>United-States</td>\n",
       "      <td>&lt;=50K</td>\n",
       "    </tr>\n",
       "    <tr>\n",
       "      <th>...</th>\n",
       "      <td>...</td>\n",
       "      <td>...</td>\n",
       "      <td>...</td>\n",
       "      <td>...</td>\n",
       "      <td>...</td>\n",
       "      <td>...</td>\n",
       "      <td>...</td>\n",
       "      <td>...</td>\n",
       "      <td>...</td>\n",
       "      <td>...</td>\n",
       "      <td>...</td>\n",
       "      <td>...</td>\n",
       "      <td>...</td>\n",
       "      <td>...</td>\n",
       "      <td>...</td>\n",
       "    </tr>\n",
       "    <tr>\n",
       "      <th>32556</th>\n",
       "      <td>22</td>\n",
       "      <td>Private</td>\n",
       "      <td>9894.0</td>\n",
       "      <td>Some-college</td>\n",
       "      <td>10</td>\n",
       "      <td>Never-married</td>\n",
       "      <td>Protective-serv</td>\n",
       "      <td>Not-in-family</td>\n",
       "      <td>White</td>\n",
       "      <td>Male</td>\n",
       "      <td>0</td>\n",
       "      <td>0</td>\n",
       "      <td>40</td>\n",
       "      <td>United-States</td>\n",
       "      <td>&lt;=50K</td>\n",
       "    </tr>\n",
       "    <tr>\n",
       "      <th>32557</th>\n",
       "      <td>27</td>\n",
       "      <td>Private</td>\n",
       "      <td>8208.0</td>\n",
       "      <td>Assoc-acdm</td>\n",
       "      <td>12</td>\n",
       "      <td>Married-civ-spouse</td>\n",
       "      <td>Tech-support</td>\n",
       "      <td>Wife</td>\n",
       "      <td>White</td>\n",
       "      <td>Female</td>\n",
       "      <td>0</td>\n",
       "      <td>0</td>\n",
       "      <td>38</td>\n",
       "      <td>United-States</td>\n",
       "      <td>&lt;=50K</td>\n",
       "    </tr>\n",
       "    <tr>\n",
       "      <th>32558</th>\n",
       "      <td>40</td>\n",
       "      <td>Private</td>\n",
       "      <td>4925.0</td>\n",
       "      <td>HS-grad</td>\n",
       "      <td>9</td>\n",
       "      <td>Married-civ-spouse</td>\n",
       "      <td>Machine-op-inspct</td>\n",
       "      <td>Husband</td>\n",
       "      <td>White</td>\n",
       "      <td>Male</td>\n",
       "      <td>0</td>\n",
       "      <td>0</td>\n",
       "      <td>40</td>\n",
       "      <td>United-States</td>\n",
       "      <td>&gt;50K</td>\n",
       "    </tr>\n",
       "    <tr>\n",
       "      <th>32559</th>\n",
       "      <td>58</td>\n",
       "      <td>Private</td>\n",
       "      <td>4846.0</td>\n",
       "      <td>HS-grad</td>\n",
       "      <td>9</td>\n",
       "      <td>Widowed</td>\n",
       "      <td>Adm-clerical</td>\n",
       "      <td>Unmarried</td>\n",
       "      <td>White</td>\n",
       "      <td>Female</td>\n",
       "      <td>0</td>\n",
       "      <td>0</td>\n",
       "      <td>40</td>\n",
       "      <td>United-States</td>\n",
       "      <td>&lt;=50K</td>\n",
       "    </tr>\n",
       "    <tr>\n",
       "      <th>32560</th>\n",
       "      <td>22</td>\n",
       "      <td>Private</td>\n",
       "      <td>6428.0</td>\n",
       "      <td>HS-grad</td>\n",
       "      <td>9</td>\n",
       "      <td>Never-married</td>\n",
       "      <td>Adm-clerical</td>\n",
       "      <td>Own-child</td>\n",
       "      <td>White</td>\n",
       "      <td>Male</td>\n",
       "      <td>0</td>\n",
       "      <td>0</td>\n",
       "      <td>20</td>\n",
       "      <td>United-States</td>\n",
       "      <td>&lt;=50K</td>\n",
       "    </tr>\n",
       "  </tbody>\n",
       "</table>\n",
       "<p>32537 rows × 15 columns</p>\n",
       "</div>"
      ],
      "text/plain": [
       "       age workclass  fnlwgt     education  education.num      marital.status  \\\n",
       "0       90         ?  2458.0       HS-grad              9             Widowed   \n",
       "1       82   Private  4238.0       HS-grad              9             Widowed   \n",
       "2       66         ?  5935.0  Some-college             10             Widowed   \n",
       "3       54   Private  4477.0       7th-8th              4            Divorced   \n",
       "4       41   Private  8443.0  Some-college             10           Separated   \n",
       "...    ...       ...     ...           ...            ...                 ...   \n",
       "32556   22   Private  9894.0  Some-college             10       Never-married   \n",
       "32557   27   Private  8208.0    Assoc-acdm             12  Married-civ-spouse   \n",
       "32558   40   Private  4925.0       HS-grad              9  Married-civ-spouse   \n",
       "32559   58   Private  4846.0       HS-grad              9             Widowed   \n",
       "32560   22   Private  6428.0       HS-grad              9       Never-married   \n",
       "\n",
       "              occupation   relationship   race     sex  capital.gain  \\\n",
       "0                      ?  Not-in-family  White  Female             0   \n",
       "1        Exec-managerial  Not-in-family  White  Female             0   \n",
       "2                      ?      Unmarried  Black  Female             0   \n",
       "3      Machine-op-inspct      Unmarried  White  Female             0   \n",
       "4         Prof-specialty      Own-child  White  Female             0   \n",
       "...                  ...            ...    ...     ...           ...   \n",
       "32556    Protective-serv  Not-in-family  White    Male             0   \n",
       "32557       Tech-support           Wife  White  Female             0   \n",
       "32558  Machine-op-inspct        Husband  White    Male             0   \n",
       "32559       Adm-clerical      Unmarried  White  Female             0   \n",
       "32560       Adm-clerical      Own-child  White    Male             0   \n",
       "\n",
       "       capital.loss  hours.per.week native.country income  \n",
       "0              4356              40  United-States  <=50K  \n",
       "1              4356              18  United-States  <=50K  \n",
       "2              4356              40  United-States  <=50K  \n",
       "3              3900              40  United-States  <=50K  \n",
       "4              3900              40  United-States  <=50K  \n",
       "...             ...             ...            ...    ...  \n",
       "32556             0              40  United-States  <=50K  \n",
       "32557             0              38  United-States  <=50K  \n",
       "32558             0              40  United-States   >50K  \n",
       "32559             0              40  United-States  <=50K  \n",
       "32560             0              20  United-States  <=50K  \n",
       "\n",
       "[32537 rows x 15 columns]"
      ]
     },
     "execution_count": 14,
     "metadata": {},
     "output_type": "execute_result"
    }
   ],
   "source": [
    "#getting the new \"fnlwgt\"\n",
    "\n",
    "df['fnlwgt']=(df['fnlwgt']//accPopulation)\n",
    "df"
   ]
  },
  {
   "cell_type": "code",
   "execution_count": 15,
   "id": "38a82653-8688-400a-939d-7e9ec78efce1",
   "metadata": {},
   "outputs": [
    {
     "data": {
      "text/plain": [
       "196983752.0"
      ]
     },
     "execution_count": 15,
     "metadata": {},
     "output_type": "execute_result"
    }
   ],
   "source": [
    "#getting new total population\n",
    "\n",
    "newPopulation=df['fnlwgt'].sum()\n",
    "newPopulation"
   ]
  },
  {
   "cell_type": "code",
   "execution_count": 16,
   "id": "4d51ba9e-42d4-4940-bf37-8a9854936c8d",
   "metadata": {},
   "outputs": [
    {
     "data": {
      "text/plain": [
       "2340242.0"
      ]
     },
     "execution_count": 16,
     "metadata": {},
     "output_type": "execute_result"
    }
   ],
   "source": [
    "#getting children population\n",
    "\n",
    "children=df[df['age']<18]\n",
    "totalChildren=children['fnlwgt'].sum()\n",
    "totalChildren"
   ]
  },
  {
   "cell_type": "code",
   "execution_count": 17,
   "id": "4d50e523-e3e8-4b0b-ac43-4cceb88aeec8",
   "metadata": {},
   "outputs": [
    {
     "data": {
      "text/plain": [
       "1.188038087527138"
      ]
     },
     "execution_count": 17,
     "metadata": {},
     "output_type": "execute_result"
    }
   ],
   "source": [
    "#getting percentage population of children with respect to the whole population\n",
    "\n",
    "totalChildrenPercent=totalChildren*(100/newPopulation)\n",
    "totalChildrenPercent"
   ]
  },
  {
   "cell_type": "code",
   "execution_count": 18,
   "id": "95df7666-75b3-4483-8d09-b01945b620a4",
   "metadata": {},
   "outputs": [
    {
     "data": {
      "text/plain": [
       "91453063.0"
      ]
     },
     "execution_count": 18,
     "metadata": {},
     "output_type": "execute_result"
    }
   ],
   "source": [
    "#getting population of the youth\n",
    "\n",
    "youth=df[(df['age']>=18) & (df['age'] <=35)]\n",
    "totalYouth=youth['fnlwgt'].sum()\n",
    "totalYouth"
   ]
  },
  {
   "cell_type": "code",
   "execution_count": 19,
   "id": "ac1d1690-4c16-423c-8069-965a46feaf36",
   "metadata": {},
   "outputs": [
    {
     "data": {
      "text/plain": [
       "46.42670376184123"
      ]
     },
     "execution_count": 19,
     "metadata": {},
     "output_type": "execute_result"
    }
   ],
   "source": [
    "#getting percentage population of the youth with respect to the whole population\n",
    "\n",
    "totalYouthPercent=totalYouth*(100/newPopulation)\n",
    "totalYouthPercent"
   ]
  },
  {
   "cell_type": "code",
   "execution_count": 20,
   "id": "edc15aaa-fb74-46f1-913f-506fcddf784e",
   "metadata": {},
   "outputs": [
    {
     "data": {
      "text/plain": [
       "90248860.0"
      ]
     },
     "execution_count": 20,
     "metadata": {},
     "output_type": "execute_result"
    }
   ],
   "source": [
    "#getting population of the middle aged\n",
    "\n",
    "middleAge=df[(df['age']>=36) & (df['age'] <=60)]\n",
    "totalMiddleAge=middleAge['fnlwgt'].sum()\n",
    "totalMiddleAge"
   ]
  },
  {
   "cell_type": "code",
   "execution_count": 21,
   "id": "6729c057-62e5-4b87-bfaa-b9bab8de9807",
   "metadata": {},
   "outputs": [
    {
     "data": {
      "text/plain": [
       "45.81538278344907"
      ]
     },
     "execution_count": 21,
     "metadata": {},
     "output_type": "execute_result"
    }
   ],
   "source": [
    "#getting percentage population of the middle aged with respect to the whole population\n",
    "\n",
    "totalMiddleAgePercent=totalMiddleAge*(100/newPopulation)\n",
    "totalMiddleAgePercent"
   ]
  },
  {
   "cell_type": "code",
   "execution_count": 22,
   "id": "204d02a1-862b-4dc7-aa70-e3bb09155f3f",
   "metadata": {},
   "outputs": [
    {
     "data": {
      "text/plain": [
       "12428439.0"
      ]
     },
     "execution_count": 22,
     "metadata": {},
     "output_type": "execute_result"
    }
   ],
   "source": [
    "#getting population of the old\n",
    "\n",
    "old=df[(df['age']>60) & (df['age'] <=80)]\n",
    "totalOld=old['fnlwgt'].sum()\n",
    "totalOld"
   ]
  },
  {
   "cell_type": "code",
   "execution_count": 23,
   "id": "62b703e1-01ea-40c7-be59-987f4b5059de",
   "metadata": {},
   "outputs": [
    {
     "data": {
      "text/plain": [
       "6.309372663385964"
      ]
     },
     "execution_count": 23,
     "metadata": {},
     "output_type": "execute_result"
    }
   ],
   "source": [
    "#getting percentage population of the old with respect to the whole population\n",
    "\n",
    "totalOldPercent=totalOld*(100/newPopulation)\n",
    "totalOldPercent"
   ]
  },
  {
   "cell_type": "code",
   "execution_count": 24,
   "id": "05e6d446-317b-4203-ad64-b3bea69836da",
   "metadata": {},
   "outputs": [
    {
     "data": {
      "text/plain": [
       "513148.0"
      ]
     },
     "execution_count": 24,
     "metadata": {},
     "output_type": "execute_result"
    }
   ],
   "source": [
    "#getting population of the very old\n",
    "\n",
    "veryOld=df[df['age']>80]\n",
    "totalVeryOld=veryOld['fnlwgt'].sum()\n",
    "totalVeryOld"
   ]
  },
  {
   "cell_type": "code",
   "execution_count": 25,
   "id": "da2b8fdb-23eb-4601-aa43-07004ae178a2",
   "metadata": {},
   "outputs": [
    {
     "data": {
      "text/plain": [
       "0.26050270379660556"
      ]
     },
     "execution_count": 25,
     "metadata": {},
     "output_type": "execute_result"
    }
   ],
   "source": [
    "#getting percentage population of the very old with respect to the whole population\n",
    "\n",
    "totalVeryOldPercent=totalVeryOld*(100/newPopulation)\n",
    "totalVeryOldPercent"
   ]
  },
  {
   "cell_type": "code",
   "execution_count": 26,
   "id": "7238ca4b-54ba-4b81-ace9-6757d12816a7",
   "metadata": {},
   "outputs": [
    {
     "data": {
      "text/plain": [
       "age                            25\n",
       "workclass                 Private\n",
       "fnlwgt                    47367.0\n",
       "education            Some-college\n",
       "education.num                  10\n",
       "marital.status           Divorced\n",
       "occupation        Exec-managerial\n",
       "relationship            Unmarried\n",
       "race                        White\n",
       "sex                        Female\n",
       "capital.gain                    0\n",
       "capital.loss                    0\n",
       "hours.per.week                 25\n",
       "native.country      United-States\n",
       "income                      <=50K\n",
       "Name: 16804, dtype: object"
      ]
     },
     "execution_count": 26,
     "metadata": {},
     "output_type": "execute_result"
    }
   ],
   "source": [
    "#getting the set of characteristics with the most number of people\n",
    "\n",
    "modalCharacter= df.loc[df['fnlwgt'].idxmax()]\n",
    "modalCharacter"
   ]
  },
  {
   "cell_type": "code",
   "execution_count": 27,
   "id": "086f291b-80e2-4fc9-bdb0-39d74f5fbd63",
   "metadata": {},
   "outputs": [
    {
     "data": {
      "text/plain": [
       "0.024046145694290564"
      ]
     },
     "execution_count": 27,
     "metadata": {},
     "output_type": "execute_result"
    }
   ],
   "source": [
    "#getting the percentage population of this particular number with respect to the whole population\n",
    "\n",
    "modalCharacterPercent=modalCharacter['fnlwgt']*(100/newPopulation)\n",
    "modalCharacterPercent"
   ]
  },
  {
   "cell_type": "code",
   "execution_count": 28,
   "id": "f07c63b8-2896-4ead-ae13-67465cb2a4a7",
   "metadata": {},
   "outputs": [
    {
     "data": {
      "text/plain": [
       "age                               25\n",
       "workclass                          ?\n",
       "fnlwgt                         391.0\n",
       "education               Some-college\n",
       "education.num                     10\n",
       "marital.status         Never-married\n",
       "occupation                         ?\n",
       "relationship           Not-in-family\n",
       "race              Amer-Indian-Eskimo\n",
       "sex                           Female\n",
       "capital.gain                       0\n",
       "capital.loss                       0\n",
       "hours.per.week                    20\n",
       "native.country         United-States\n",
       "income                         <=50K\n",
       "Name: 19115, dtype: object"
      ]
     },
     "execution_count": 28,
     "metadata": {},
     "output_type": "execute_result"
    }
   ],
   "source": [
    "#getting the set of characteristics with the least number of people\n",
    "\n",
    "minCharacter= df.loc[df['fnlwgt'].idxmin()]\n",
    "minCharacter"
   ]
  },
  {
   "cell_type": "code",
   "execution_count": 29,
   "id": "a621ee56-706c-41cb-abd9-6e16d1674bf9",
   "metadata": {},
   "outputs": [
    {
     "data": {
      "text/plain": [
       "0.00019849352854239472"
      ]
     },
     "execution_count": 29,
     "metadata": {},
     "output_type": "execute_result"
    }
   ],
   "source": [
    "#getting the percentage population of this particular number with respect to the whole population\n",
    "\n",
    "minCharacterPercent=minCharacter['fnlwgt']*(100/newPopulation)\n",
    "minCharacterPercent"
   ]
  },
  {
   "cell_type": "code",
   "execution_count": 30,
   "id": "3e26e1b2-7f65-4bf7-a644-038dbff05bb4",
   "metadata": {},
   "outputs": [
    {
     "data": {
      "text/plain": [
       "age                          17\n",
       "workclass                     ?\n",
       "fnlwgt                  25724.0\n",
       "education                  11th\n",
       "education.num                 7\n",
       "marital.status    Never-married\n",
       "occupation                    ?\n",
       "relationship          Own-child\n",
       "race                      White\n",
       "sex                      Female\n",
       "capital.gain                  0\n",
       "capital.loss                  0\n",
       "hours.per.week               20\n",
       "native.country    United-States\n",
       "income                    <=50K\n",
       "Name: 24600, dtype: object"
      ]
     },
     "execution_count": 30,
     "metadata": {},
     "output_type": "execute_result"
    }
   ],
   "source": [
    "#getting the set of characteristics with the most number of people among children\n",
    "\n",
    "modalCharacterChildren= children.loc[children['fnlwgt'].idxmax()]\n",
    "modalCharacterChildren"
   ]
  },
  {
   "cell_type": "code",
   "execution_count": 31,
   "id": "0ea97070-142f-421b-9423-5d20bea030ec",
   "metadata": {},
   "outputs": [
    {
     "data": {
      "text/plain": [
       "1.0992025611026552"
      ]
     },
     "execution_count": 31,
     "metadata": {},
     "output_type": "execute_result"
    }
   ],
   "source": [
    "#getting the percentage population of this particular number with respect to the whole population\n",
    "\n",
    "modalCharacterChildrenPercent=modalCharacterChildren['fnlwgt']*(100/totalChildren)\n",
    "modalCharacterChildrenPercent"
   ]
  },
  {
   "cell_type": "code",
   "execution_count": 32,
   "id": "c129e8d4-1d19-487f-8f2e-729dbadd4d91",
   "metadata": {},
   "outputs": [
    {
     "data": {
      "text/plain": [
       "age                            25\n",
       "workclass                 Private\n",
       "fnlwgt                    47367.0\n",
       "education            Some-college\n",
       "education.num                  10\n",
       "marital.status           Divorced\n",
       "occupation        Exec-managerial\n",
       "relationship            Unmarried\n",
       "race                        White\n",
       "sex                        Female\n",
       "capital.gain                    0\n",
       "capital.loss                    0\n",
       "hours.per.week                 25\n",
       "native.country      United-States\n",
       "income                      <=50K\n",
       "Name: 16804, dtype: object"
      ]
     },
     "execution_count": 32,
     "metadata": {},
     "output_type": "execute_result"
    }
   ],
   "source": [
    "#getting the set of characteristics with the most number of people among the youth\n",
    "\n",
    "modalCharacterYouth= youth.loc[youth['fnlwgt'].idxmax()]\n",
    "modalCharacterYouth"
   ]
  },
  {
   "cell_type": "code",
   "execution_count": 33,
   "id": "13f33ed6-8238-4563-817d-a9f4a2977d7a",
   "metadata": {},
   "outputs": [
    {
     "data": {
      "text/plain": [
       "0.051793781909743146"
      ]
     },
     "execution_count": 33,
     "metadata": {},
     "output_type": "execute_result"
    }
   ],
   "source": [
    "#getting the percentage population of this particular number with respect to the whole population\n",
    "\n",
    "modalCharacterYouthPercent=modalCharacterYouth['fnlwgt']*(100/totalYouth)\n",
    "modalCharacterYouthPercent"
   ]
  },
  {
   "cell_type": "code",
   "execution_count": 34,
   "id": "b1b7f233-520e-4a8f-8b4a-ffb62f7dde29",
   "metadata": {},
   "outputs": [
    {
     "data": {
      "text/plain": [
       "age                          39\n",
       "workclass               Private\n",
       "fnlwgt                  46433.0\n",
       "education            Assoc-acdm\n",
       "education.num                12\n",
       "marital.status        Separated\n",
       "occupation         Craft-repair\n",
       "relationship      Not-in-family\n",
       "race                      White\n",
       "sex                        Male\n",
       "capital.gain                  0\n",
       "capital.loss                  0\n",
       "hours.per.week               40\n",
       "native.country    United-States\n",
       "income                    <=50K\n",
       "Name: 20027, dtype: object"
      ]
     },
     "execution_count": 34,
     "metadata": {},
     "output_type": "execute_result"
    }
   ],
   "source": [
    "#getting the set of characteristics with the most number of people among the middle aged\n",
    "\n",
    "modalCharacterMiddleAge= middleAge.loc[middleAge['fnlwgt'].idxmax()]\n",
    "modalCharacterMiddleAge"
   ]
  },
  {
   "cell_type": "code",
   "execution_count": 35,
   "id": "79a382ee-6902-446a-99d1-7fcd1ab9347d",
   "metadata": {},
   "outputs": [
    {
     "data": {
      "text/plain": [
       "0.051449957373422776"
      ]
     },
     "execution_count": 35,
     "metadata": {},
     "output_type": "execute_result"
    }
   ],
   "source": [
    "#getting the percentage population of this particular number with respect to the whole population\n",
    "\n",
    "modalCharacterMiddleAgePercent=modalCharacterMiddleAge['fnlwgt']*(100/totalMiddleAge)\n",
    "modalCharacterMiddleAgePercent"
   ]
  },
  {
   "cell_type": "code",
   "execution_count": 37,
   "id": "a21ecc99-ded4-49e2-8bb2-835449063091",
   "metadata": {},
   "outputs": [
    {
     "data": {
      "text/plain": [
       "age                             63\n",
       "workclass         Self-emp-not-inc\n",
       "fnlwgt                     25389.0\n",
       "education                  1st-4th\n",
       "education.num                    2\n",
       "marital.status             Widowed\n",
       "occupation           Other-service\n",
       "relationship             Unmarried\n",
       "race                         White\n",
       "sex                         Female\n",
       "capital.gain                     0\n",
       "capital.loss                     0\n",
       "hours.per.week                  30\n",
       "native.country         El-Salvador\n",
       "income                       <=50K\n",
       "Name: 5350, dtype: object"
      ]
     },
     "execution_count": 37,
     "metadata": {},
     "output_type": "execute_result"
    }
   ],
   "source": [
    "#getting the set of characteristics with the most number of people among the old\n",
    "\n",
    "modalCharacterOld= old.loc[old['fnlwgt'].idxmax()]\n",
    "modalCharacterOld"
   ]
  },
  {
   "cell_type": "code",
   "execution_count": 38,
   "id": "b6f1f2c4-509b-419f-9430-8c1696b4d205",
   "metadata": {},
   "outputs": [
    {
     "data": {
      "text/plain": [
       "0.2042814869992925"
      ]
     },
     "execution_count": 38,
     "metadata": {},
     "output_type": "execute_result"
    }
   ],
   "source": [
    "#getting the percentage population of this particular number with respect to the whole population\n",
    "\n",
    "modalCharacterOldPercent=modalCharacterOld['fnlwgt']*(100/totalOld)\n",
    "modalCharacterOldPercent"
   ]
  },
  {
   "cell_type": "code",
   "execution_count": 39,
   "id": "e72d37d2-b656-4a84-ac8a-43ae0d74c0ff",
   "metadata": {},
   "outputs": [
    {
     "data": {
      "text/plain": [
       "age                          82\n",
       "workclass                     ?\n",
       "fnlwgt                  12886.0\n",
       "education               HS-grad\n",
       "education.num                 9\n",
       "marital.status    Never-married\n",
       "occupation                    ?\n",
       "relationship      Not-in-family\n",
       "race                      White\n",
       "sex                        Male\n",
       "capital.gain                  0\n",
       "capital.loss                  0\n",
       "hours.per.week                3\n",
       "native.country    United-States\n",
       "income                    <=50K\n",
       "Name: 32500, dtype: object"
      ]
     },
     "execution_count": 39,
     "metadata": {},
     "output_type": "execute_result"
    }
   ],
   "source": [
    "#getting the set of characteristics with the most number of people among the very old\n",
    "\n",
    "modalCharacterVeryOld= veryOld.loc[veryOld['fnlwgt'].idxmax()]\n",
    "modalCharacterVeryOld"
   ]
  },
  {
   "cell_type": "code",
   "execution_count": 40,
   "id": "3590a541-cf6b-4d3c-95a7-e69edc2f6c2a",
   "metadata": {},
   "outputs": [
    {
     "data": {
      "text/plain": [
       "2.5111663691566566"
      ]
     },
     "execution_count": 40,
     "metadata": {},
     "output_type": "execute_result"
    }
   ],
   "source": [
    "#getting the percentage population of this particular number with respect to the whole population\n",
    "\n",
    "modalCharacterVeryOldPercent=modalCharacterVeryOld['fnlwgt']*(100/totalVeryOld)\n",
    "modalCharacterVeryOldPercent"
   ]
  },
  {
   "cell_type": "code",
   "execution_count": 41,
   "id": "98c90782-8a9a-4c6d-8495-7f9f80b30c34",
   "metadata": {},
   "outputs": [
    {
     "data": {
      "text/plain": [
       "age                          17\n",
       "workclass               Private\n",
       "fnlwgt                    630.0\n",
       "education                  11th\n",
       "education.num                 7\n",
       "marital.status    Never-married\n",
       "occupation        Other-service\n",
       "relationship          Own-child\n",
       "race                      Black\n",
       "sex                      Female\n",
       "capital.gain                  0\n",
       "capital.loss                  0\n",
       "hours.per.week               25\n",
       "native.country    United-States\n",
       "income                    <=50K\n",
       "Name: 20423, dtype: object"
      ]
     },
     "execution_count": 41,
     "metadata": {},
     "output_type": "execute_result"
    }
   ],
   "source": [
    "#getting the set of characteristics with the least number of people among the children\n",
    "\n",
    "minCharacterChildren= children.loc[children['fnlwgt'].idxmin()]\n",
    "minCharacterChildren"
   ]
  },
  {
   "cell_type": "code",
   "execution_count": 42,
   "id": "55f1b3fd-74b2-4718-b24d-99fbce2cc3de",
   "metadata": {},
   "outputs": [
    {
     "data": {
      "text/plain": [
       "0.026920292858601803"
      ]
     },
     "execution_count": 42,
     "metadata": {},
     "output_type": "execute_result"
    }
   ],
   "source": [
    "#getting the percentage population of this particular number with respect to the whole population\n",
    "\n",
    "minCharacterChildrenPercent=minCharacterChildren['fnlwgt']*(100/totalChildren)\n",
    "minCharacterChildrenPercent"
   ]
  },
  {
   "cell_type": "code",
   "execution_count": 43,
   "id": "09b7a9f2-9095-464e-aa17-8169641d7e7e",
   "metadata": {},
   "outputs": [
    {
     "data": {
      "text/plain": [
       "age                               25\n",
       "workclass                          ?\n",
       "fnlwgt                         391.0\n",
       "education               Some-college\n",
       "education.num                     10\n",
       "marital.status         Never-married\n",
       "occupation                         ?\n",
       "relationship           Not-in-family\n",
       "race              Amer-Indian-Eskimo\n",
       "sex                           Female\n",
       "capital.gain                       0\n",
       "capital.loss                       0\n",
       "hours.per.week                    20\n",
       "native.country         United-States\n",
       "income                         <=50K\n",
       "Name: 19115, dtype: object"
      ]
     },
     "execution_count": 43,
     "metadata": {},
     "output_type": "execute_result"
    }
   ],
   "source": [
    "#getting the set of characteristics with the least number of people among the youth\n",
    "\n",
    "minCharacterYouth= youth.loc[youth['fnlwgt'].idxmin()]\n",
    "minCharacterYouth"
   ]
  },
  {
   "cell_type": "code",
   "execution_count": 44,
   "id": "459d57c5-2c7e-474b-abbb-3378cad87bf6",
   "metadata": {},
   "outputs": [
    {
     "data": {
      "text/plain": [
       "0.00042754172159329426"
      ]
     },
     "execution_count": 44,
     "metadata": {},
     "output_type": "execute_result"
    }
   ],
   "source": [
    "#getting the percentage population of this particular number with respect to the whole population\n",
    "\n",
    "minCharacterYouthPercent=minCharacterYouth['fnlwgt']*(100/totalYouth)\n",
    "minCharacterYouthPercent"
   ]
  },
  {
   "cell_type": "code",
   "execution_count": 45,
   "id": "8c093153-ccac-4903-bd18-76534d7fc823",
   "metadata": {},
   "outputs": [
    {
     "data": {
      "text/plain": [
       "age                               46\n",
       "workclass                  Local-gov\n",
       "fnlwgt                         474.0\n",
       "education                Prof-school\n",
       "education.num                     15\n",
       "marital.status    Married-civ-spouse\n",
       "occupation            Prof-specialty\n",
       "relationship                 Husband\n",
       "race              Asian-Pac-Islander\n",
       "sex                             Male\n",
       "capital.gain                       0\n",
       "capital.loss                       0\n",
       "hours.per.week                    40\n",
       "native.country           Philippines\n",
       "income                          >50K\n",
       "Name: 26634, dtype: object"
      ]
     },
     "execution_count": 45,
     "metadata": {},
     "output_type": "execute_result"
    }
   ],
   "source": [
    "#getting the set of characteristics with the least number of people among the middle aged\n",
    "\n",
    "minCharacterMiddleAge= middleAge.loc[middleAge['fnlwgt'].idxmin()]\n",
    "minCharacterMiddleAge"
   ]
  },
  {
   "cell_type": "code",
   "execution_count": 46,
   "id": "c5e8caec-367a-4e10-a81d-9034a63444c3",
   "metadata": {},
   "outputs": [
    {
     "data": {
      "text/plain": [
       "0.0005252143905197251"
      ]
     },
     "execution_count": 46,
     "metadata": {},
     "output_type": "execute_result"
    }
   ],
   "source": [
    "#getting the percentage population of this particular number with respect to the whole population\n",
    "\n",
    "minCharacterMiddleAgePercent=minCharacterMiddleAge['fnlwgt']*(100/totalMiddleAge)\n",
    "minCharacterMiddleAgePercent"
   ]
  },
  {
   "cell_type": "code",
   "execution_count": 47,
   "id": "f97bba3b-a769-41f3-9dc1-363afbd1d926",
   "metadata": {},
   "outputs": [
    {
     "data": {
      "text/plain": [
       "age                               80\n",
       "workclass                  Local-gov\n",
       "fnlwgt                         641.0\n",
       "education                    HS-grad\n",
       "education.num                      9\n",
       "marital.status               Widowed\n",
       "occupation             Other-service\n",
       "relationship               Unmarried\n",
       "race              Amer-Indian-Eskimo\n",
       "sex                           Female\n",
       "capital.gain                       0\n",
       "capital.loss                       0\n",
       "hours.per.week                    32\n",
       "native.country         United-States\n",
       "income                         <=50K\n",
       "Name: 21216, dtype: object"
      ]
     },
     "execution_count": 47,
     "metadata": {},
     "output_type": "execute_result"
    }
   ],
   "source": [
    "#getting the set of characteristics with the least number of people among the old\n",
    "\n",
    "minCharacterOld= old.loc[old['fnlwgt'].idxmin()]\n",
    "minCharacterOld"
   ]
  },
  {
   "cell_type": "code",
   "execution_count": 48,
   "id": "91c2c3fb-5899-4044-904f-66dc375294d7",
   "metadata": {},
   "outputs": [
    {
     "data": {
      "text/plain": [
       "0.005157526218698904"
      ]
     },
     "execution_count": 48,
     "metadata": {},
     "output_type": "execute_result"
    }
   ],
   "source": [
    "#getting the percentage population of this particular number with respect to the whole population\n",
    "\n",
    "minCharacterOldPercent=minCharacterOld['fnlwgt']*(100/totalOld)\n",
    "minCharacterOldPercent"
   ]
  },
  {
   "cell_type": "code",
   "execution_count": 49,
   "id": "c32956b9-b3fc-4efb-9fce-84d2041d9b82",
   "metadata": {},
   "outputs": [
    {
     "data": {
      "text/plain": [
       "age                          82\n",
       "workclass                     ?\n",
       "fnlwgt                    939.0\n",
       "education               7th-8th\n",
       "education.num                 4\n",
       "marital.status          Widowed\n",
       "occupation                    ?\n",
       "relationship      Not-in-family\n",
       "race                      White\n",
       "sex                        Male\n",
       "capital.gain                  0\n",
       "capital.loss                  0\n",
       "hours.per.week                5\n",
       "native.country    United-States\n",
       "income                    <=50K\n",
       "Name: 7005, dtype: object"
      ]
     },
     "execution_count": 49,
     "metadata": {},
     "output_type": "execute_result"
    }
   ],
   "source": [
    "#getting the set of characteristics with the least number of people among the old\n",
    "\n",
    "minCharacterVeryOld= veryOld.loc[veryOld['fnlwgt'].idxmin()]\n",
    "minCharacterVeryOld"
   ]
  },
  {
   "cell_type": "code",
   "execution_count": 50,
   "id": "0f1ccb6f-671c-44c4-8a71-71a1a5f4d4ff",
   "metadata": {},
   "outputs": [
    {
     "data": {
      "text/plain": [
       "0.1829881437713876"
      ]
     },
     "execution_count": 50,
     "metadata": {},
     "output_type": "execute_result"
    }
   ],
   "source": [
    "#getting the percentage population of this particular number with respect to the whole population\n",
    "\n",
    "minCharacterVeryOldPercent=minCharacterVeryOld['fnlwgt']*(100/totalVeryOld)\n",
    "minCharacterVeryOldPercent"
   ]
  },
  {
   "cell_type": "code",
   "execution_count": 52,
   "id": "6cd6994c-f38c-4f6d-b615-e916bb61d384",
   "metadata": {},
   "outputs": [
    {
     "data": {
      "text/plain": [
       "23"
      ]
     },
     "execution_count": 52,
     "metadata": {},
     "output_type": "execute_result"
    }
   ],
   "source": [
    "# getting the age with the most people\n",
    "individualAge=df.groupby('age')['fnlwgt'].sum()\n",
    "maxIndividualAge=individualAge.idxmax()\n",
    "individualAgeMax=individualAge.max()\n",
    "maxIndividualAge"
   ]
  },
  {
   "cell_type": "code",
   "execution_count": 53,
   "id": "d65b0def-bba6-4a09-95ce-d9adf70d855b",
   "metadata": {},
   "outputs": [
    {
     "data": {
      "text/plain": [
       "5758893.0"
      ]
     },
     "execution_count": 53,
     "metadata": {},
     "output_type": "execute_result"
    }
   ],
   "source": [
    "# getting the number of people of this age\n",
    "\n",
    "individualAgeMax"
   ]
  },
  {
   "cell_type": "code",
   "execution_count": 54,
   "id": "06df2f0b-92d8-40f3-86e2-5d0ef16567fe",
   "metadata": {},
   "outputs": [
    {
     "data": {
      "text/plain": [
       "2.9235370641127805"
      ]
     },
     "execution_count": 54,
     "metadata": {},
     "output_type": "execute_result"
    }
   ],
   "source": [
    "# getting the percentage of this number with respect to the total population\n",
    "\n",
    "individualAgeMaxPercent=individualAgeMax*(100/newPopulation)\n",
    "individualAgeMaxPercent"
   ]
  },
  {
   "cell_type": "code",
   "execution_count": 55,
   "id": "c054c6aa-5121-4f36-bcdb-abbb2f771f20",
   "metadata": {},
   "outputs": [
    {
     "data": {
      "text/plain": [
       "87"
      ]
     },
     "execution_count": 55,
     "metadata": {},
     "output_type": "execute_result"
    }
   ],
   "source": [
    "## age with fewest people\n",
    "individualAgeFew=df.groupby('age')['fnlwgt'].sum()\n",
    "minIndividualAge=individualAge.idxmin()\n",
    "individualAgeMin=individualAge.min()\n",
    "minIndividualAge"
   ]
  },
  {
   "cell_type": "code",
   "execution_count": 56,
   "id": "8b4ca104-7b26-4c07-ae5b-112eb048feba",
   "metadata": {},
   "outputs": [
    {
     "data": {
      "text/plain": [
       "2882.0"
      ]
     },
     "execution_count": 56,
     "metadata": {},
     "output_type": "execute_result"
    }
   ],
   "source": [
    "# the number of people of this age\n",
    "\n",
    "individualAgeMin"
   ]
  },
  {
   "cell_type": "code",
   "execution_count": 57,
   "id": "e22820e5-9340-4bf2-a345-6bc3afa7f5a6",
   "metadata": {},
   "outputs": [
    {
     "data": {
      "text/plain": [
       "0.0014630648318649144"
      ]
     },
     "execution_count": 57,
     "metadata": {},
     "output_type": "execute_result"
    }
   ],
   "source": [
    "#the percentage of this number with respect to the total population\n",
    "\n",
    "individualAgeMinPercent=individualAgeMin*(100/newPopulation)\n",
    "individualAgeMinPercent"
   ]
  },
  {
   "cell_type": "code",
   "execution_count": 58,
   "id": "ceba234a-020e-4427-a99f-bb83d32e4e31",
   "metadata": {},
   "outputs": [
    {
     "data": {
      "text/plain": [
       "38.005624509578844"
      ]
     },
     "execution_count": 58,
     "metadata": {},
     "output_type": "execute_result"
    }
   ],
   "source": [
    "#mean age\n",
    "meanAge=(df['age'] * df['fnlwgt']).sum() / df['fnlwgt'].sum()\n",
    "meanAge"
   ]
  },
  {
   "cell_type": "markdown",
   "id": "2a65fc7e-9228-4a57-95fa-684492a82fb1",
   "metadata": {},
   "source": [
    "Work class distribution"
   ]
  },
  {
   "cell_type": "code",
   "execution_count": 59,
   "id": "9493f8ec-5bc3-458d-a973-a653389ff938",
   "metadata": {},
   "outputs": [
    {
     "data": {
      "text/plain": [
       "workclass\n",
       "?                    11041347.0\n",
       "Federal-gov           5672333.0\n",
       "Local-gov            12595111.0\n",
       "Never-worked            50465.0\n",
       "Private             139423718.0\n",
       "Self-emp-inc          6265108.0\n",
       "Self-emp-not-inc     14233303.0\n",
       "State-gov             7624538.0\n",
       "Without-pay             77829.0\n",
       "Name: fnlwgt, dtype: float64"
      ]
     },
     "execution_count": 59,
     "metadata": {},
     "output_type": "execute_result"
    }
   ],
   "source": [
    "#grouping the poulation with respect to workclass \n",
    "\n",
    "workClass=df.groupby('workclass')['fnlwgt'].sum()\n",
    "workClass"
   ]
  },
  {
   "cell_type": "code",
   "execution_count": 60,
   "id": "392faaef-fa0c-40af-8e6c-a4fcebffae68",
   "metadata": {},
   "outputs": [
    {
     "data": {
      "text/plain": [
       "workclass\n",
       "?                    5.605207\n",
       "Federal-gov          2.879594\n",
       "Local-gov            6.393985\n",
       "Never-worked         0.025619\n",
       "Private             70.779299\n",
       "Self-emp-inc         3.180520\n",
       "Self-emp-not-inc     7.225623\n",
       "State-gov            3.870643\n",
       "Without-pay          0.039510\n",
       "Name: fnlwgt, dtype: float64"
      ]
     },
     "execution_count": 60,
     "metadata": {},
     "output_type": "execute_result"
    }
   ],
   "source": [
    "#getting the percentage of the numbers with respect to the total population\n",
    "\n",
    "percentageWorkClass=(workClass/newPopulation) * 100\n",
    "percentageWorkClass"
   ]
  },
  {
   "cell_type": "code",
   "execution_count": 60,
   "id": "c2b4c889-f236-45cb-b836-bd67400a5fbe",
   "metadata": {},
   "outputs": [
    {
     "data": {
      "text/plain": [
       "workclass\n",
       "?                    426216.0\n",
       "Federal-gov            3186.0\n",
       "Local-gov             84276.0\n",
       "Never-worked           7569.0\n",
       "Private             1726154.0\n",
       "Self-emp-inc          49888.0\n",
       "Self-emp-not-inc      33472.0\n",
       "State-gov              9481.0\n",
       "Name: fnlwgt, dtype: float64"
      ]
     },
     "execution_count": 60,
     "metadata": {},
     "output_type": "execute_result"
    }
   ],
   "source": [
    "#work class per age group\n",
    "childrenWorkClass=children.groupby('workclass')['fnlwgt'].sum()\n",
    "childrenWorkClass"
   ]
  },
  {
   "cell_type": "code",
   "execution_count": 61,
   "id": "541fbeac-51fb-439b-806e-5644db674b67",
   "metadata": {},
   "outputs": [
    {
     "data": {
      "text/plain": [
       "workclass\n",
       "?                   18.212475\n",
       "Federal-gov          0.136140\n",
       "Local-gov            3.601166\n",
       "Never-worked         0.323428\n",
       "Private             73.759637\n",
       "Self-emp-inc         2.131745\n",
       "Self-emp-not-inc     1.430279\n",
       "State-gov            0.405129\n",
       "Name: fnlwgt, dtype: float64"
      ]
     },
     "execution_count": 61,
     "metadata": {},
     "output_type": "execute_result"
    }
   ],
   "source": [
    "childrenPercentageWorkClass=(childrenWorkClass/totalChildren) * 100\n",
    "childrenPercentageWorkClass"
   ]
  },
  {
   "cell_type": "code",
   "execution_count": 62,
   "id": "aa334651-896b-40cf-8147-6fb2b4d0e32b",
   "metadata": {},
   "outputs": [
    {
     "data": {
      "text/plain": [
       "workclass\n",
       "?                    5469445.0\n",
       "Federal-gov          1656975.0\n",
       "Local-gov            4141603.0\n",
       "Never-worked           42896.0\n",
       "Private             71638967.0\n",
       "Self-emp-inc         1255817.0\n",
       "Self-emp-not-inc     3976303.0\n",
       "State-gov            3234804.0\n",
       "Without-pay            36253.0\n",
       "Name: fnlwgt, dtype: float64"
      ]
     },
     "execution_count": 62,
     "metadata": {},
     "output_type": "execute_result"
    }
   ],
   "source": [
    "youthWorkClass=youth.groupby('workclass')['fnlwgt'].sum()\n",
    "youthWorkClass"
   ]
  },
  {
   "cell_type": "code",
   "execution_count": 63,
   "id": "1490b06c-fe46-464f-bf32-750c20d8ad9a",
   "metadata": {},
   "outputs": [
    {
     "data": {
      "text/plain": [
       "workclass\n",
       "?                    5.980603\n",
       "Federal-gov          1.811831\n",
       "Local-gov            4.528665\n",
       "Never-worked         0.046905\n",
       "Private             78.334136\n",
       "Self-emp-inc         1.373182\n",
       "Self-emp-not-inc     4.347917\n",
       "State-gov            3.537119\n",
       "Without-pay          0.039641\n",
       "Name: fnlwgt, dtype: float64"
      ]
     },
     "execution_count": 63,
     "metadata": {},
     "output_type": "execute_result"
    }
   ],
   "source": [
    "youthPercentageWorkClass=(youthWorkClass/totalYouth) * 100\n",
    "youthPercentageWorkClass"
   ]
  },
  {
   "cell_type": "code",
   "execution_count": 64,
   "id": "5544bd87-f7f6-4a0c-812d-178750d327a4",
   "metadata": {},
   "outputs": [
    {
     "data": {
      "text/plain": [
       "workclass\n",
       "?                    2414281.0\n",
       "Federal-gov          3696074.0\n",
       "Local-gov            7532405.0\n",
       "Private             60080554.0\n",
       "Self-emp-inc         4199176.0\n",
       "Self-emp-not-inc     8341677.0\n",
       "State-gov            3973832.0\n",
       "Without-pay            10861.0\n",
       "Name: fnlwgt, dtype: float64"
      ]
     },
     "execution_count": 64,
     "metadata": {},
     "output_type": "execute_result"
    }
   ],
   "source": [
    "middleAgeWorkClass=middleAge.groupby('workclass')['fnlwgt'].sum()\n",
    "middleAgeWorkClass"
   ]
  },
  {
   "cell_type": "code",
   "execution_count": 65,
   "id": "605210a5-eff2-43b4-b2d5-de46fbed081c",
   "metadata": {},
   "outputs": [
    {
     "data": {
      "text/plain": [
       "workclass\n",
       "?                    2.675137\n",
       "Federal-gov          4.095425\n",
       "Local-gov            8.346261\n",
       "Private             66.572092\n",
       "Self-emp-inc         4.652885\n",
       "Self-emp-not-inc     9.242972\n",
       "State-gov            4.403194\n",
       "Without-pay          0.012035\n",
       "Name: fnlwgt, dtype: float64"
      ]
     },
     "execution_count": 65,
     "metadata": {},
     "output_type": "execute_result"
    }
   ],
   "source": [
    "middleAgePercentageWorkClass=(middleAgeWorkClass/totalMiddleAge) * 100\n",
    "middleAgePercentageWorkClass"
   ]
  },
  {
   "cell_type": "code",
   "execution_count": 66,
   "id": "c6e9d4a5-1e4b-450b-963d-743f8c3587bd",
   "metadata": {},
   "outputs": [
    {
     "data": {
      "text/plain": [
       "workclass\n",
       "?                   2618747.0\n",
       "Federal-gov          309864.0\n",
       "Local-gov            802270.0\n",
       "Private             5740201.0\n",
       "Self-emp-inc         717593.0\n",
       "Self-emp-not-inc    1806845.0\n",
       "State-gov            402204.0\n",
       "Without-pay           30715.0\n",
       "Name: fnlwgt, dtype: float64"
      ]
     },
     "execution_count": 66,
     "metadata": {},
     "output_type": "execute_result"
    }
   ],
   "source": [
    "oldWorkClass=old.groupby('workclass')['fnlwgt'].sum()\n",
    "oldWorkClass"
   ]
  },
  {
   "cell_type": "code",
   "execution_count": 67,
   "id": "909efb55-da61-457a-b549-e45e98eb6c19",
   "metadata": {},
   "outputs": [
    {
     "data": {
      "text/plain": [
       "workclass\n",
       "?                   21.070603\n",
       "Federal-gov          2.493185\n",
       "Local-gov            6.455115\n",
       "Private             46.186017\n",
       "Self-emp-inc         5.773798\n",
       "Self-emp-not-inc    14.537988\n",
       "State-gov            3.236159\n",
       "Without-pay          0.247135\n",
       "Name: fnlwgt, dtype: float64"
      ]
     },
     "execution_count": 67,
     "metadata": {},
     "output_type": "execute_result"
    }
   ],
   "source": [
    "oldPercentageWorkClass=(oldWorkClass/totalOld) * 100\n",
    "oldPercentageWorkClass"
   ]
  },
  {
   "cell_type": "code",
   "execution_count": 68,
   "id": "52c5dbd3-04ce-4a9f-ac3c-8e8cf41df8a5",
   "metadata": {},
   "outputs": [
    {
     "data": {
      "text/plain": [
       "workclass\n",
       "?                   112658.0\n",
       "Federal-gov           6234.0\n",
       "Local-gov            34557.0\n",
       "Private             237842.0\n",
       "Self-emp-inc         42634.0\n",
       "Self-emp-not-inc     75006.0\n",
       "State-gov             4217.0\n",
       "Name: fnlwgt, dtype: float64"
      ]
     },
     "execution_count": 68,
     "metadata": {},
     "output_type": "execute_result"
    }
   ],
   "source": [
    "veryOldWorkClass=veryOld.groupby('workclass')['fnlwgt'].sum()\n",
    "veryOldWorkClass"
   ]
  },
  {
   "cell_type": "code",
   "execution_count": 69,
   "id": "5fcf1f52-0997-40e8-abaf-b6c1d054ad52",
   "metadata": {},
   "outputs": [
    {
     "data": {
      "text/plain": [
       "workclass\n",
       "?                   21.954290\n",
       "Federal-gov          1.214854\n",
       "Local-gov            6.734314\n",
       "Private             46.349591\n",
       "Self-emp-inc         8.308324\n",
       "Self-emp-not-inc    14.616836\n",
       "State-gov            0.821790\n",
       "Name: fnlwgt, dtype: float64"
      ]
     },
     "execution_count": 69,
     "metadata": {},
     "output_type": "execute_result"
    }
   ],
   "source": [
    "veryOldPercentageWorkClass=(veryOldWorkClass/totalVeryOld) * 100\n",
    "veryOldPercentageWorkClass"
   ]
  },
  {
   "cell_type": "markdown",
   "id": "2ed70b79-fe86-4c27-b13f-c8837046da2e",
   "metadata": {},
   "source": [
    "Education distribution"
   ]
  },
  {
   "cell_type": "code",
   "execution_count": 61,
   "id": "e92f0647-d2ab-416f-8cf0-3b1941061922",
   "metadata": {},
   "outputs": [
    {
     "data": {
      "text/plain": [
       "education\n",
       "10th             5858418.0\n",
       "11th             7306582.0\n",
       "12th             2750153.0\n",
       "1st-4th          1270014.0\n",
       "5th-6th          2461656.0\n",
       "7th-8th          3874908.0\n",
       "9th              3320168.0\n",
       "Assoc-acdm       6583795.0\n",
       "Assoc-voc        8020944.0\n",
       "Bachelors       32103689.0\n",
       "Doctorate        2459749.0\n",
       "HS-grad         63452390.0\n",
       "Masters          9876763.0\n",
       "Preschool         376017.0\n",
       "Prof-school      3411536.0\n",
       "Some-college    43856970.0\n",
       "Name: fnlwgt, dtype: float64"
      ]
     },
     "execution_count": 61,
     "metadata": {},
     "output_type": "execute_result"
    }
   ],
   "source": [
    "# grouping population by education levels\n",
    "\n",
    "education=df.groupby('education')['fnlwgt'].sum()\n",
    "education"
   ]
  },
  {
   "cell_type": "code",
   "execution_count": 71,
   "id": "2b709692-804b-4ac0-ad61-1f6f68fabd84",
   "metadata": {},
   "outputs": [
    {
     "data": {
      "text/plain": [
       "education\n",
       "10th             2.974062\n",
       "11th             3.709231\n",
       "12th             1.396132\n",
       "1st-4th          0.644730\n",
       "5th-6th          1.249675\n",
       "7th-8th          1.967121\n",
       "9th              1.685503\n",
       "Assoc-acdm       3.342304\n",
       "Assoc-voc        4.071881\n",
       "Bachelors       16.297633\n",
       "Doctorate        1.248707\n",
       "HS-grad         32.211992\n",
       "Masters          5.013999\n",
       "Preschool        0.190887\n",
       "Prof-school      1.731887\n",
       "Some-college    22.264258\n",
       "Name: fnlwgt, dtype: float64"
      ]
     },
     "execution_count": 71,
     "metadata": {},
     "output_type": "execute_result"
    }
   ],
   "source": [
    "percentageEducation=(education/newPopulation) * 100\n",
    "percentageEducation"
   ]
  },
  {
   "cell_type": "code",
   "execution_count": 62,
   "id": "875aeddf-56aa-4bde-a76b-8184a90752c0",
   "metadata": {},
   "outputs": [
    {
     "data": {
      "text/plain": [
       "education\n",
       "10th             823727.0\n",
       "11th            1083515.0\n",
       "12th             210984.0\n",
       "5th-6th            8643.0\n",
       "7th-8th           12231.0\n",
       "9th              133814.0\n",
       "HS-grad           51899.0\n",
       "Some-college      15429.0\n",
       "Name: fnlwgt, dtype: float64"
      ]
     },
     "execution_count": 62,
     "metadata": {},
     "output_type": "execute_result"
    }
   ],
   "source": [
    "#grouping individual age groups with respect to education levels\n",
    "\n",
    "childrenEducation=children.groupby('education')['fnlwgt'].sum()\n",
    "childrenEducation"
   ]
  },
  {
   "cell_type": "code",
   "execution_count": 73,
   "id": "497f8716-45c8-4222-9efe-1598db584158",
   "metadata": {},
   "outputs": [
    {
     "data": {
      "text/plain": [
       "education\n",
       "10th            35.198368\n",
       "11th            46.299272\n",
       "12th             9.015478\n",
       "5th-6th          0.369321\n",
       "7th-8th          0.522638\n",
       "9th              5.717956\n",
       "HS-grad          2.217677\n",
       "Some-college     0.659291\n",
       "Name: fnlwgt, dtype: float64"
      ]
     },
     "execution_count": 73,
     "metadata": {},
     "output_type": "execute_result"
    }
   ],
   "source": [
    "childrenPercentageEducation=(childrenEducation/totalChildren) * 100\n",
    "childrenPercentageEducation"
   ]
  },
  {
   "cell_type": "code",
   "execution_count": 74,
   "id": "16219bd8-ba56-490b-b6eb-e9ff3bf2b203",
   "metadata": {},
   "outputs": [
    {
     "data": {
      "text/plain": [
       "education\n",
       "10th             2336519.0\n",
       "11th             3750060.0\n",
       "12th             1638752.0\n",
       "1st-4th           407873.0\n",
       "5th-6th          1031435.0\n",
       "7th-8th          1175233.0\n",
       "9th              1341963.0\n",
       "Assoc-acdm       3148529.0\n",
       "Assoc-voc        3617201.0\n",
       "Bachelors       14451421.0\n",
       "Doctorate         502411.0\n",
       "HS-grad         30327387.0\n",
       "Masters          2444791.0\n",
       "Preschool         120975.0\n",
       "Prof-school       725790.0\n",
       "Some-college    24432723.0\n",
       "Name: fnlwgt, dtype: float64"
      ]
     },
     "execution_count": 74,
     "metadata": {},
     "output_type": "execute_result"
    }
   ],
   "source": [
    "youthEducation=youth.groupby('education')['fnlwgt'].sum()\n",
    "youthEducation"
   ]
  },
  {
   "cell_type": "code",
   "execution_count": 75,
   "id": "e15335f8-94c5-4595-9a9e-d756048e4db3",
   "metadata": {},
   "outputs": [
    {
     "data": {
      "text/plain": [
       "education\n",
       "10th             2.554883\n",
       "11th             4.100530\n",
       "12th             1.791905\n",
       "1st-4th          0.445992\n",
       "5th-6th          1.127830\n",
       "7th-8th          1.285067\n",
       "9th              1.467379\n",
       "Assoc-acdm       3.442781\n",
       "Assoc-voc        3.955254\n",
       "Bachelors       15.802009\n",
       "Doctorate        0.549365\n",
       "HS-grad         33.161696\n",
       "Masters          2.673274\n",
       "Preschool        0.132281\n",
       "Prof-school      0.793620\n",
       "Some-college    26.716134\n",
       "Name: fnlwgt, dtype: float64"
      ]
     },
     "execution_count": 75,
     "metadata": {},
     "output_type": "execute_result"
    }
   ],
   "source": [
    "youthPercentageEducation=(youthEducation/totalYouth) * 100\n",
    "youthPercentageEducation"
   ]
  },
  {
   "cell_type": "code",
   "execution_count": 76,
   "id": "3b2e763a-0f8a-4971-891b-ac916a0845f8",
   "metadata": {},
   "outputs": [
    {
     "data": {
      "text/plain": [
       "education\n",
       "10th             2164201.0\n",
       "11th             2033551.0\n",
       "12th              784981.0\n",
       "1st-4th           648608.0\n",
       "5th-6th          1142106.0\n",
       "7th-8th          1837767.0\n",
       "9th              1458040.0\n",
       "Assoc-acdm       3230171.0\n",
       "Assoc-voc        4001670.0\n",
       "Bachelors       15878837.0\n",
       "Doctorate        1619820.0\n",
       "HS-grad         28851771.0\n",
       "Masters          6792896.0\n",
       "Preschool         201282.0\n",
       "Prof-school      2307333.0\n",
       "Some-college    17295826.0\n",
       "Name: fnlwgt, dtype: float64"
      ]
     },
     "execution_count": 76,
     "metadata": {},
     "output_type": "execute_result"
    }
   ],
   "source": [
    "middleAgeEducation=middleAge.groupby('education')['fnlwgt'].sum()\n",
    "middleAgeEducation"
   ]
  },
  {
   "cell_type": "code",
   "execution_count": 77,
   "id": "e705da11-1e4c-4921-b6d5-dd4e23ddb18c",
   "metadata": {},
   "outputs": [
    {
     "data": {
      "text/plain": [
       "education\n",
       "10th             2.398037\n",
       "11th             2.253271\n",
       "12th             0.869796\n",
       "1st-4th          0.718688\n",
       "5th-6th          1.265507\n",
       "7th-8th          2.036333\n",
       "9th              1.615577\n",
       "Assoc-acdm       3.579182\n",
       "Assoc-voc        4.434039\n",
       "Bachelors       17.594501\n",
       "Doctorate        1.794837\n",
       "HS-grad         31.969125\n",
       "Masters          7.526850\n",
       "Preschool        0.223030\n",
       "Prof-school      2.556634\n",
       "Some-college    19.164592\n",
       "Name: fnlwgt, dtype: float64"
      ]
     },
     "execution_count": 77,
     "metadata": {},
     "output_type": "execute_result"
    }
   ],
   "source": [
    "middleAgePercentageEducation=(middleAgeEducation/totalMiddleAge) * 100\n",
    "middleAgePercentageEducation"
   ]
  },
  {
   "cell_type": "code",
   "execution_count": 78,
   "id": "ca527201-cd5a-4e40-b671-fcf761624815",
   "metadata": {},
   "outputs": [
    {
     "data": {
      "text/plain": [
       "education\n",
       "10th             509068.0\n",
       "11th             419422.0\n",
       "12th             115436.0\n",
       "1st-4th          194635.0\n",
       "5th-6th          258933.0\n",
       "7th-8th          803527.0\n",
       "9th              378171.0\n",
       "Assoc-acdm       199106.0\n",
       "Assoc-voc        387689.0\n",
       "Bachelors       1701214.0\n",
       "Doctorate        337518.0\n",
       "HS-grad         4055706.0\n",
       "Masters          600991.0\n",
       "Preschool         53760.0\n",
       "Prof-school      360225.0\n",
       "Some-college    2053038.0\n",
       "Name: fnlwgt, dtype: float64"
      ]
     },
     "execution_count": 78,
     "metadata": {},
     "output_type": "execute_result"
    }
   ],
   "source": [
    "oldEducation=old.groupby('education')['fnlwgt'].sum()\n",
    "oldEducation"
   ]
  },
  {
   "cell_type": "code",
   "execution_count": 79,
   "id": "411799f6-66a1-47c4-acd6-99dbeff36164",
   "metadata": {},
   "outputs": [
    {
     "data": {
      "text/plain": [
       "education\n",
       "10th             4.095993\n",
       "11th             3.374696\n",
       "12th             0.928805\n",
       "1st-4th          1.566045\n",
       "5th-6th          2.083391\n",
       "7th-8th          6.465229\n",
       "9th              3.042788\n",
       "Assoc-acdm       1.602019\n",
       "Assoc-voc        3.119370\n",
       "Bachelors       13.688075\n",
       "Doctorate        2.715691\n",
       "HS-grad         32.632465\n",
       "Masters          4.835611\n",
       "Preschool        0.432556\n",
       "Prof-school      2.898393\n",
       "Some-college    16.518873\n",
       "Name: fnlwgt, dtype: float64"
      ]
     },
     "execution_count": 79,
     "metadata": {},
     "output_type": "execute_result"
    }
   ],
   "source": [
    "oldPercentageEducation=(oldEducation/totalOld) * 100\n",
    "oldPercentageEducation"
   ]
  },
  {
   "cell_type": "code",
   "execution_count": 80,
   "id": "268e5b41-b83e-44c5-a811-e4b732601539",
   "metadata": {},
   "outputs": [
    {
     "data": {
      "text/plain": [
       "education\n",
       "10th             24903.0\n",
       "11th             20034.0\n",
       "1st-4th          18898.0\n",
       "5th-6th          20539.0\n",
       "7th-8th          46150.0\n",
       "9th               8180.0\n",
       "Assoc-acdm        5989.0\n",
       "Assoc-voc        14384.0\n",
       "Bachelors        72217.0\n",
       "HS-grad         165627.0\n",
       "Masters          38085.0\n",
       "Prof-school      18188.0\n",
       "Some-college     59954.0\n",
       "Name: fnlwgt, dtype: float64"
      ]
     },
     "execution_count": 80,
     "metadata": {},
     "output_type": "execute_result"
    }
   ],
   "source": [
    "veryOldEducation=veryOld.groupby('education')['fnlwgt'].sum()\n",
    "veryOldEducation"
   ]
  },
  {
   "cell_type": "code",
   "execution_count": 81,
   "id": "50043ca1-d2b0-4092-8e97-5e476c1962c9",
   "metadata": {},
   "outputs": [
    {
     "data": {
      "text/plain": [
       "education\n",
       "10th             4.852986\n",
       "11th             3.904137\n",
       "1st-4th          3.682758\n",
       "5th-6th          4.002549\n",
       "7th-8th          8.993507\n",
       "9th              1.594082\n",
       "Assoc-acdm       1.167110\n",
       "Assoc-voc        2.803090\n",
       "Bachelors       14.073328\n",
       "HS-grad         32.276653\n",
       "Masters          7.421835\n",
       "Prof-school      3.544397\n",
       "Some-college    11.683569\n",
       "Name: fnlwgt, dtype: float64"
      ]
     },
     "execution_count": 81,
     "metadata": {},
     "output_type": "execute_result"
    }
   ],
   "source": [
    "veryOldPercentageEducation=(veryOldEducation/totalVeryOld) * 100\n",
    "veryOldPercentageEducation"
   ]
  },
  {
   "cell_type": "markdown",
   "id": "fbd5b570-e551-40b6-aab7-9156fbd2f2c2",
   "metadata": {},
   "source": [
    "marital status distribution"
   ]
  },
  {
   "cell_type": "code",
   "execution_count": 63,
   "id": "325315d4-39fe-4fda-a657-8929421c6cef",
   "metadata": {},
   "outputs": [
    {
     "data": {
      "text/plain": [
       "marital.status\n",
       "Divorced                 26318309.0\n",
       "Married-AF-spouse          138059.0\n",
       "Married-civ-spouse       89203038.0\n",
       "Married-spouse-absent     2575446.0\n",
       "Never-married            66481630.0\n",
       "Separated                 6750404.0\n",
       "Widowed                   5516866.0\n",
       "Name: fnlwgt, dtype: float64"
      ]
     },
     "execution_count": 63,
     "metadata": {},
     "output_type": "execute_result"
    }
   ],
   "source": [
    "#grouping the population according to marital status\n",
    "\n",
    "marital=df.groupby('marital.status')['fnlwgt'].sum()\n",
    "marital"
   ]
  },
  {
   "cell_type": "code",
   "execution_count": 83,
   "id": "34a1bf57-5975-46d9-a1bd-876f2af39be8",
   "metadata": {},
   "outputs": [
    {
     "data": {
      "text/plain": [
       "marital.status\n",
       "Divorced                 13.360650\n",
       "Married-AF-spouse         0.070086\n",
       "Married-civ-spouse       45.284465\n",
       "Married-spouse-absent     1.307441\n",
       "Never-married            33.749804\n",
       "Separated                 3.426884\n",
       "Widowed                   2.800671\n",
       "Name: fnlwgt, dtype: float64"
      ]
     },
     "execution_count": 83,
     "metadata": {},
     "output_type": "execute_result"
    }
   ],
   "source": [
    "percentageMarital=(marital/newPopulation) * 100\n",
    "percentageMarital"
   ]
  },
  {
   "cell_type": "code",
   "execution_count": 64,
   "id": "535d8a94-f0ff-4b9c-b2a0-b342fd5f4d89",
   "metadata": {},
   "outputs": [
    {
     "data": {
      "text/plain": [
       "marital.status\n",
       "Married-civ-spouse      13016.0\n",
       "Never-married         2327226.0\n",
       "Name: fnlwgt, dtype: float64"
      ]
     },
     "execution_count": 64,
     "metadata": {},
     "output_type": "execute_result"
    }
   ],
   "source": [
    "#grouping individual age groups based on marital status\n",
    "\n",
    "childrenMarital=children.groupby('marital.status')['fnlwgt'].sum()\n",
    "childrenMarital"
   ]
  },
  {
   "cell_type": "code",
   "execution_count": 85,
   "id": "065d8d00-cf9a-4e73-908b-b6b704361b96",
   "metadata": {},
   "outputs": [
    {
     "data": {
      "text/plain": [
       "marital.status\n",
       "Married-civ-spouse     0.556182\n",
       "Never-married         99.443818\n",
       "Name: fnlwgt, dtype: float64"
      ]
     },
     "execution_count": 85,
     "metadata": {},
     "output_type": "execute_result"
    }
   ],
   "source": [
    "childrenPercentageMarital=(childrenMarital/totalChildren) * 100\n",
    "childrenPercentageMarital"
   ]
  },
  {
   "cell_type": "code",
   "execution_count": 86,
   "id": "d8eabc50-35d5-415a-8f36-693b4b907a7d",
   "metadata": {},
   "outputs": [
    {
     "data": {
      "text/plain": [
       "marital.status\n",
       "Divorced                  6684190.0\n",
       "Married-AF-spouse          111462.0\n",
       "Married-civ-spouse       27647464.0\n",
       "Married-spouse-absent     1056634.0\n",
       "Never-married            52977223.0\n",
       "Separated                 2777861.0\n",
       "Widowed                    198229.0\n",
       "Name: fnlwgt, dtype: float64"
      ]
     },
     "execution_count": 86,
     "metadata": {},
     "output_type": "execute_result"
    }
   ],
   "source": [
    "youthMarital=youth.groupby('marital.status')['fnlwgt'].sum()\n",
    "youthMarital"
   ]
  },
  {
   "cell_type": "code",
   "execution_count": 87,
   "id": "47b3893d-c819-4a8f-9bad-4bed1ed0135d",
   "metadata": {},
   "outputs": [
    {
     "data": {
      "text/plain": [
       "marital.status\n",
       "Divorced                  7.308875\n",
       "Married-AF-spouse         0.121879\n",
       "Married-civ-spouse       30.231315\n",
       "Married-spouse-absent     1.155384\n",
       "Never-married            57.928320\n",
       "Separated                 3.037472\n",
       "Widowed                   0.216755\n",
       "Name: fnlwgt, dtype: float64"
      ]
     },
     "execution_count": 87,
     "metadata": {},
     "output_type": "execute_result"
    }
   ],
   "source": [
    "youthPercentageMarital=(youthMarital/totalYouth) * 100\n",
    "youthPercentageMarital"
   ]
  },
  {
   "cell_type": "code",
   "execution_count": 88,
   "id": "19041ac8-d8f6-49b9-bd36-aab198cb9cc1",
   "metadata": {},
   "outputs": [
    {
     "data": {
      "text/plain": [
       "marital.status\n",
       "Divorced                 18121876.0\n",
       "Married-AF-spouse           18659.0\n",
       "Married-civ-spouse       53826844.0\n",
       "Married-spouse-absent     1404477.0\n",
       "Never-married            10456416.0\n",
       "Separated                 3736018.0\n",
       "Widowed                   2684570.0\n",
       "Name: fnlwgt, dtype: float64"
      ]
     },
     "execution_count": 88,
     "metadata": {},
     "output_type": "execute_result"
    }
   ],
   "source": [
    "middleAgeMarital=middleAge.groupby('marital.status')['fnlwgt'].sum()\n",
    "middleAgeMarital"
   ]
  },
  {
   "cell_type": "code",
   "execution_count": 89,
   "id": "48631e21-81e0-4841-a9b7-37e7567dccf5",
   "metadata": {},
   "outputs": [
    {
     "data": {
      "text/plain": [
       "marital.status\n",
       "Divorced                 20.079895\n",
       "Married-AF-spouse         0.020675\n",
       "Married-civ-spouse       59.642686\n",
       "Married-spouse-absent     1.556227\n",
       "Never-married            11.586203\n",
       "Separated                 4.139684\n",
       "Widowed                   2.974630\n",
       "Name: fnlwgt, dtype: float64"
      ]
     },
     "execution_count": 89,
     "metadata": {},
     "output_type": "execute_result"
    }
   ],
   "source": [
    "middleAgePercentageMarital=(middleAgeMarital/totalMiddleAge) * 100\n",
    "middleAgePercentageMarital"
   ]
  },
  {
   "cell_type": "code",
   "execution_count": 90,
   "id": "08c2a261-5133-40b3-9c05-7874848df827",
   "metadata": {},
   "outputs": [
    {
     "data": {
      "text/plain": [
       "marital.status\n",
       "Divorced                 1476263.0\n",
       "Married-AF-spouse           7938.0\n",
       "Married-civ-spouse       7485747.0\n",
       "Married-spouse-absent     114335.0\n",
       "Never-married             642280.0\n",
       "Separated                 225443.0\n",
       "Widowed                  2476433.0\n",
       "Name: fnlwgt, dtype: float64"
      ]
     },
     "execution_count": 90,
     "metadata": {},
     "output_type": "execute_result"
    }
   ],
   "source": [
    "oldMarital=old.groupby('marital.status')['fnlwgt'].sum()\n",
    "oldMarital"
   ]
  },
  {
   "cell_type": "code",
   "execution_count": 91,
   "id": "637b5292-454a-4733-860c-7f52cf2e39fc",
   "metadata": {},
   "outputs": [
    {
     "data": {
      "text/plain": [
       "marital.status\n",
       "Divorced                 11.878105\n",
       "Married-AF-spouse         0.063870\n",
       "Married-civ-spouse       60.230790\n",
       "Married-spouse-absent     0.919947\n",
       "Never-married             5.167825\n",
       "Separated                 1.813929\n",
       "Widowed                  19.925535\n",
       "Name: fnlwgt, dtype: float64"
      ]
     },
     "execution_count": 91,
     "metadata": {},
     "output_type": "execute_result"
    }
   ],
   "source": [
    "oldPercentageMarital=(oldMarital/totalOld) * 100\n",
    "oldPercentageMarital"
   ]
  },
  {
   "cell_type": "code",
   "execution_count": 92,
   "id": "39e475db-0708-4c2e-b42a-2303ec8d8a88",
   "metadata": {},
   "outputs": [
    {
     "data": {
      "text/plain": [
       "marital.status\n",
       "Divorced               35980.0\n",
       "Married-civ-spouse    229967.0\n",
       "Never-married          78485.0\n",
       "Separated              11082.0\n",
       "Widowed               157634.0\n",
       "Name: fnlwgt, dtype: float64"
      ]
     },
     "execution_count": 92,
     "metadata": {},
     "output_type": "execute_result"
    }
   ],
   "source": [
    "veryOldMarital=veryOld.groupby('marital.status')['fnlwgt'].sum()\n",
    "veryOldMarital"
   ]
  },
  {
   "cell_type": "code",
   "execution_count": 93,
   "id": "a396720b-4177-4b4b-aa7d-8f3d83fb1599",
   "metadata": {},
   "outputs": [
    {
     "data": {
      "text/plain": [
       "marital.status\n",
       "Divorced               7.011622\n",
       "Married-civ-spouse    44.814946\n",
       "Never-married         15.294808\n",
       "Separated              2.159611\n",
       "Widowed               30.719013\n",
       "Name: fnlwgt, dtype: float64"
      ]
     },
     "execution_count": 93,
     "metadata": {},
     "output_type": "execute_result"
    }
   ],
   "source": [
    "veryOldPercentageMarital=(veryOldMarital/totalVeryOld) * 100\n",
    "veryOldPercentageMarital"
   ]
  },
  {
   "cell_type": "markdown",
   "id": "115194f1-8163-4a17-9cf7-4681e399580c",
   "metadata": {},
   "source": [
    "OCCUPATION DISTRIBUTION"
   ]
  },
  {
   "cell_type": "code",
   "execution_count": 65,
   "id": "a7e3cc8d-ed0a-4576-bace-e78bf63b7606",
   "metadata": {},
   "outputs": [
    {
     "data": {
      "text/plain": [
       "occupation\n",
       "?                    11091812.0\n",
       "Adm-clerical         23087574.0\n",
       "Armed-Forces            61851.0\n",
       "Craft-repair         25104802.0\n",
       "Exec-managerial      23915313.0\n",
       "Farming-fishing       5385714.0\n",
       "Handlers-cleaners     8925096.0\n",
       "Machine-op-inspct    12441590.0\n",
       "Other-service        19798741.0\n",
       "Priv-house-serv        943408.0\n",
       "Prof-specialty       24436870.0\n",
       "Protective-serv       4182963.0\n",
       "Sales                22226292.0\n",
       "Tech-support          5683417.0\n",
       "Transport-moving      9698309.0\n",
       "Name: fnlwgt, dtype: float64"
      ]
     },
     "execution_count": 65,
     "metadata": {},
     "output_type": "execute_result"
    }
   ],
   "source": [
    "#grouping the population according to the occupation\n",
    "\n",
    "occupation=df.groupby('occupation')['fnlwgt'].sum()\n",
    "occupation"
   ]
  },
  {
   "cell_type": "code",
   "execution_count": 95,
   "id": "55a4d3fe-03fd-405a-86e6-7f5ad6f8d068",
   "metadata": {},
   "outputs": [
    {
     "data": {
      "text/plain": [
       "occupation\n",
       "?                     5.630826\n",
       "Adm-clerical         11.720547\n",
       "Armed-Forces          0.031399\n",
       "Craft-repair         12.744605\n",
       "Exec-managerial      12.140754\n",
       "Farming-fishing       2.734090\n",
       "Handlers-cleaners     4.530879\n",
       "Machine-op-inspct     6.316049\n",
       "Other-service        10.050951\n",
       "Priv-house-serv       0.478927\n",
       "Prof-specialty       12.405526\n",
       "Protective-serv       2.123507\n",
       "Sales                11.283312\n",
       "Tech-support          2.885221\n",
       "Transport-moving      4.923406\n",
       "Name: fnlwgt, dtype: float64"
      ]
     },
     "execution_count": 95,
     "metadata": {},
     "output_type": "execute_result"
    }
   ],
   "source": [
    "percentageOccupation=(occupation/newPopulation) * 100\n",
    "percentageOccupation"
   ]
  },
  {
   "cell_type": "code",
   "execution_count": 66,
   "id": "c4d61c09-e1ca-4a0b-ab51-29ebb439ee84",
   "metadata": {},
   "outputs": [
    {
     "data": {
      "text/plain": [
       "occupation\n",
       "?                    433785.0\n",
       "Adm-clerical         150782.0\n",
       "Craft-repair          75012.0\n",
       "Exec-managerial         768.0\n",
       "Farming-fishing       39247.0\n",
       "Handlers-cleaners    236437.0\n",
       "Machine-op-inspct     12474.0\n",
       "Other-service        745959.0\n",
       "Priv-house-serv       46666.0\n",
       "Prof-specialty        60822.0\n",
       "Protective-serv       16152.0\n",
       "Sales                495906.0\n",
       "Tech-support           5936.0\n",
       "Transport-moving      20296.0\n",
       "Name: fnlwgt, dtype: float64"
      ]
     },
     "execution_count": 66,
     "metadata": {},
     "output_type": "execute_result"
    }
   ],
   "source": [
    "#grouping the individual age groups according to occupation\n",
    "\n",
    "childrenOccupation=children.groupby('occupation')['fnlwgt'].sum()\n",
    "childrenOccupation"
   ]
  },
  {
   "cell_type": "code",
   "execution_count": 97,
   "id": "90439352-610c-407b-b5ef-d8e9b4529973",
   "metadata": {},
   "outputs": [
    {
     "data": {
      "text/plain": [
       "occupation\n",
       "?                    18.535904\n",
       "Adm-clerical          6.443009\n",
       "Craft-repair          3.205310\n",
       "Exec-managerial       0.032817\n",
       "Farming-fishing       1.677049\n",
       "Handlers-cleaners    10.103100\n",
       "Machine-op-inspct     0.533022\n",
       "Other-service        31.875293\n",
       "Priv-house-serv       1.994067\n",
       "Prof-specialty        2.598962\n",
       "Protective-serv       0.690185\n",
       "Sales                21.190373\n",
       "Tech-support          0.253649\n",
       "Transport-moving      0.867261\n",
       "Name: fnlwgt, dtype: float64"
      ]
     },
     "execution_count": 97,
     "metadata": {},
     "output_type": "execute_result"
    }
   ],
   "source": [
    "childrenPercentageOccupation=(childrenOccupation/totalChildren) * 100\n",
    "childrenPercentageOccupation"
   ]
  },
  {
   "cell_type": "code",
   "execution_count": 98,
   "id": "4db1df23-06c9-40cb-b5a5-3361d1f71b84",
   "metadata": {},
   "outputs": [
    {
     "data": {
      "text/plain": [
       "occupation\n",
       "?                     5512341.0\n",
       "Adm-clerical         11929661.0\n",
       "Armed-Forces            43603.0\n",
       "Craft-repair         11089366.0\n",
       "Exec-managerial       7738528.0\n",
       "Farming-fishing       2307729.0\n",
       "Handlers-cleaners     5933396.0\n",
       "Machine-op-inspct     6063209.0\n",
       "Other-service        11126388.0\n",
       "Priv-house-serv        417082.0\n",
       "Prof-specialty        9264450.0\n",
       "Protective-serv       2071009.0\n",
       "Sales                11105904.0\n",
       "Tech-support          2848961.0\n",
       "Transport-moving      4001436.0\n",
       "Name: fnlwgt, dtype: float64"
      ]
     },
     "execution_count": 98,
     "metadata": {},
     "output_type": "execute_result"
    }
   ],
   "source": [
    "youthOccupation=youth.groupby('occupation')['fnlwgt'].sum()\n",
    "youthOccupation"
   ]
  },
  {
   "cell_type": "code",
   "execution_count": 99,
   "id": "73d19441-1239-41a8-bf34-d019548fe053",
   "metadata": {},
   "outputs": [
    {
     "data": {
      "text/plain": [
       "occupation\n",
       "?                     6.027508\n",
       "Adm-clerical         13.044572\n",
       "Armed-Forces          0.047678\n",
       "Craft-repair         12.125746\n",
       "Exec-managerial       8.461748\n",
       "Farming-fishing       2.523403\n",
       "Handlers-cleaners     6.487914\n",
       "Machine-op-inspct     6.629859\n",
       "Other-service        12.166228\n",
       "Priv-house-serv       0.456061\n",
       "Prof-specialty       10.130279\n",
       "Protective-serv       2.264559\n",
       "Sales                12.143829\n",
       "Tech-support          3.115217\n",
       "Transport-moving      4.375399\n",
       "Name: fnlwgt, dtype: float64"
      ]
     },
     "execution_count": 99,
     "metadata": {},
     "output_type": "execute_result"
    }
   ],
   "source": [
    "youthPercentageOccupation=(youthOccupation/totalYouth) * 100\n",
    "youthPercentageOccupation"
   ]
  },
  {
   "cell_type": "code",
   "execution_count": 100,
   "id": "d88a9959-9c74-4bec-afe5-0a1c6899be6a",
   "metadata": {},
   "outputs": [
    {
     "data": {
      "text/plain": [
       "occupation\n",
       "?                     2414281.0\n",
       "Adm-clerical          9758143.0\n",
       "Armed-Forces            18248.0\n",
       "Craft-repair         13130835.0\n",
       "Exec-managerial      14591033.0\n",
       "Farming-fishing       2399019.0\n",
       "Handlers-cleaners     2471132.0\n",
       "Machine-op-inspct     5961537.0\n",
       "Other-service         6770440.0\n",
       "Priv-house-serv        323283.0\n",
       "Prof-specialty       13677361.0\n",
       "Protective-serv       1818704.0\n",
       "Sales                 9114864.0\n",
       "Tech-support          2679411.0\n",
       "Transport-moving      5120569.0\n",
       "Name: fnlwgt, dtype: float64"
      ]
     },
     "execution_count": 100,
     "metadata": {},
     "output_type": "execute_result"
    }
   ],
   "source": [
    "middleAgeOccupation=middleAge.groupby('occupation')['fnlwgt'].sum()\n",
    "middleAgeOccupation"
   ]
  },
  {
   "cell_type": "code",
   "execution_count": 101,
   "id": "8a53367c-f4a7-493f-b362-23b9ef7106f1",
   "metadata": {},
   "outputs": [
    {
     "data": {
      "text/plain": [
       "occupation\n",
       "?                     2.675137\n",
       "Adm-clerical         10.812483\n",
       "Armed-Forces          0.020220\n",
       "Craft-repair         14.549585\n",
       "Exec-managerial      16.167554\n",
       "Farming-fishing       2.658226\n",
       "Handlers-cleaners     2.738131\n",
       "Machine-op-inspct     6.605665\n",
       "Other-service         7.501967\n",
       "Priv-house-serv       0.358213\n",
       "Prof-specialty       15.155162\n",
       "Protective-serv       2.015210\n",
       "Sales                10.099700\n",
       "Tech-support          2.968914\n",
       "Transport-moving      5.673832\n",
       "Name: fnlwgt, dtype: float64"
      ]
     },
     "execution_count": 101,
     "metadata": {},
     "output_type": "execute_result"
    }
   ],
   "source": [
    "middleAgePercentageOccupation=(middleAgeOccupation/totalMiddleAge) * 100\n",
    "middleAgePercentageOccupation"
   ]
  },
  {
   "cell_type": "code",
   "execution_count": 102,
   "id": "7cf90985-daf2-4d43-9f17-702ae89f7a5d",
   "metadata": {},
   "outputs": [
    {
     "data": {
      "text/plain": [
       "occupation\n",
       "?                    2618747.0\n",
       "Adm-clerical         1195696.0\n",
       "Craft-repair          780068.0\n",
       "Exec-managerial      1502376.0\n",
       "Farming-fishing       611677.0\n",
       "Handlers-cleaners     269260.0\n",
       "Machine-op-inspct     392903.0\n",
       "Other-service        1127412.0\n",
       "Priv-house-serv       152719.0\n",
       "Prof-specialty       1361942.0\n",
       "Protective-serv       264015.0\n",
       "Sales                1453520.0\n",
       "Tech-support          149109.0\n",
       "Transport-moving      548995.0\n",
       "Name: fnlwgt, dtype: float64"
      ]
     },
     "execution_count": 102,
     "metadata": {},
     "output_type": "execute_result"
    }
   ],
   "source": [
    "oldOccupation=old.groupby('occupation')['fnlwgt'].sum()\n",
    "oldOccupation"
   ]
  },
  {
   "cell_type": "code",
   "execution_count": 103,
   "id": "6c9ec6f0-8b4d-4c2a-ba77-9a4f4ceb718f",
   "metadata": {},
   "outputs": [
    {
     "data": {
      "text/plain": [
       "occupation\n",
       "?                    21.070603\n",
       "Adm-clerical          9.620645\n",
       "Craft-repair          6.276476\n",
       "Exec-managerial      12.088212\n",
       "Farming-fishing       4.921592\n",
       "Handlers-cleaners     2.166483\n",
       "Machine-op-inspct     3.161322\n",
       "Other-service         9.071228\n",
       "Priv-house-serv       1.228787\n",
       "Prof-specialty       10.958271\n",
       "Protective-serv       2.124281\n",
       "Sales                11.695113\n",
       "Tech-support          1.199740\n",
       "Transport-moving      4.417248\n",
       "Name: fnlwgt, dtype: float64"
      ]
     },
     "execution_count": 103,
     "metadata": {},
     "output_type": "execute_result"
    }
   ],
   "source": [
    "oldPercentageOccupation=(oldOccupation/totalOld) * 100\n",
    "oldPercentageOccupation"
   ]
  },
  {
   "cell_type": "code",
   "execution_count": 104,
   "id": "593144fc-2830-49d8-90fe-5d46a95d2fea",
   "metadata": {},
   "outputs": [
    {
     "data": {
      "text/plain": [
       "occupation\n",
       "?                    112658.0\n",
       "Adm-clerical          53292.0\n",
       "Craft-repair          29521.0\n",
       "Exec-managerial       82608.0\n",
       "Farming-fishing       28042.0\n",
       "Handlers-cleaners     14871.0\n",
       "Machine-op-inspct     11467.0\n",
       "Other-service         28542.0\n",
       "Priv-house-serv        3658.0\n",
       "Prof-specialty        72295.0\n",
       "Protective-serv       13083.0\n",
       "Sales                 56098.0\n",
       "Transport-moving       7013.0\n",
       "Name: fnlwgt, dtype: float64"
      ]
     },
     "execution_count": 104,
     "metadata": {},
     "output_type": "execute_result"
    }
   ],
   "source": [
    "veryOldOccupation=veryOld.groupby('occupation')['fnlwgt'].sum()\n",
    "veryOldOccupation"
   ]
  },
  {
   "cell_type": "code",
   "execution_count": 105,
   "id": "ff3ef13b-8555-4686-859d-4ab2ed43b69f",
   "metadata": {},
   "outputs": [
    {
     "data": {
      "text/plain": [
       "occupation\n",
       "?                    21.954290\n",
       "Adm-clerical         10.385308\n",
       "Craft-repair          5.752921\n",
       "Exec-managerial      16.098280\n",
       "Farming-fishing       5.464700\n",
       "Handlers-cleaners     2.897994\n",
       "Machine-op-inspct     2.234638\n",
       "Other-service         5.562138\n",
       "Priv-house-serv       0.712855\n",
       "Prof-specialty       14.088528\n",
       "Protective-serv       2.549557\n",
       "Sales                10.932129\n",
       "Transport-moving      1.366662\n",
       "Name: fnlwgt, dtype: float64"
      ]
     },
     "execution_count": 105,
     "metadata": {},
     "output_type": "execute_result"
    }
   ],
   "source": [
    "veryOldPercentageOccupation=(veryOldOccupation/totalVeryOld) * 100\n",
    "veryOldPercentageOccupation"
   ]
  },
  {
   "cell_type": "markdown",
   "id": "4cc5beb5-478a-4e3e-b1f5-90b459a402e2",
   "metadata": {},
   "source": [
    "RELATIONSHIP DISTRIBUTION"
   ]
  },
  {
   "cell_type": "code",
   "execution_count": 67,
   "id": "81035fae-cd97-42fc-be7e-e03af7c302d4",
   "metadata": {},
   "outputs": [
    {
     "data": {
      "text/plain": [
       "relationship\n",
       "Husband           78711359.0\n",
       "Not-in-family     50546238.0\n",
       "Other-relative     6417324.0\n",
       "Own-child         31206226.0\n",
       "Unmarried         21006479.0\n",
       "Wife               9096126.0\n",
       "Name: fnlwgt, dtype: float64"
      ]
     },
     "execution_count": 67,
     "metadata": {},
     "output_type": "execute_result"
    }
   ],
   "source": [
    "#grouping the population according to the relationship distribution\n",
    "\n",
    "relationship=df.groupby('relationship')['fnlwgt'].sum()\n",
    "relationship"
   ]
  },
  {
   "cell_type": "code",
   "execution_count": 107,
   "id": "7e4d2a1e-10c0-4110-907a-fb9aeea6193d",
   "metadata": {},
   "outputs": [
    {
     "data": {
      "text/plain": [
       "relationship\n",
       "Husband           39.958300\n",
       "Not-in-family     25.660105\n",
       "Other-relative     3.257794\n",
       "Own-child         15.842030\n",
       "Unmarried         10.664067\n",
       "Wife               4.617704\n",
       "Name: fnlwgt, dtype: float64"
      ]
     },
     "execution_count": 107,
     "metadata": {},
     "output_type": "execute_result"
    }
   ],
   "source": [
    "percentageRelationship=(relationship/newPopulation) * 100\n",
    "percentageRelationship"
   ]
  },
  {
   "cell_type": "code",
   "execution_count": 69,
   "id": "86c8641d-8439-40f3-b708-702dbf88d086",
   "metadata": {},
   "outputs": [
    {
     "data": {
      "text/plain": [
       "relationship\n",
       "Husband              7054.0\n",
       "Not-in-family       62350.0\n",
       "Other-relative     106887.0\n",
       "Own-child         2127077.0\n",
       "Unmarried           36874.0\n",
       "Name: fnlwgt, dtype: float64"
      ]
     },
     "execution_count": 69,
     "metadata": {},
     "output_type": "execute_result"
    }
   ],
   "source": [
    "#grouping the individual age groups according to relationship distribution\n",
    "\n",
    "childrenRelationship=children.groupby('relationship')['fnlwgt'].sum()\n",
    "childrenRelationship"
   ]
  },
  {
   "cell_type": "code",
   "execution_count": 109,
   "id": "10b75e24-f9f8-4dd6-82b0-5c5d31b1020b",
   "metadata": {},
   "outputs": [
    {
     "data": {
      "text/plain": [
       "relationship\n",
       "Husband            0.301422\n",
       "Not-in-family      2.664254\n",
       "Other-relative     4.567348\n",
       "Own-child         90.891327\n",
       "Unmarried          1.575649\n",
       "Name: fnlwgt, dtype: float64"
      ]
     },
     "execution_count": 109,
     "metadata": {},
     "output_type": "execute_result"
    }
   ],
   "source": [
    "childrenPercentageRelationship=(childrenRelationship/totalChildren) * 100\n",
    "childrenPercentageRelationship"
   ]
  },
  {
   "cell_type": "code",
   "execution_count": 110,
   "id": "346ee600-27ab-4034-a8f4-138a22ecec4e",
   "metadata": {},
   "outputs": [
    {
     "data": {
      "text/plain": [
       "relationship\n",
       "Husband           23028463.0\n",
       "Not-in-family     26340958.0\n",
       "Other-relative     4369864.0\n",
       "Own-child         26009961.0\n",
       "Unmarried          8058580.0\n",
       "Wife               3645237.0\n",
       "Name: fnlwgt, dtype: float64"
      ]
     },
     "execution_count": 110,
     "metadata": {},
     "output_type": "execute_result"
    }
   ],
   "source": [
    "youthRelationship=youth.groupby('relationship')['fnlwgt'].sum()\n",
    "youthRelationship"
   ]
  },
  {
   "cell_type": "code",
   "execution_count": 111,
   "id": "9125d92a-781b-43a7-8f31-8e3f6cb913a8",
   "metadata": {},
   "outputs": [
    {
     "data": {
      "text/plain": [
       "relationship\n",
       "Husband           25.180636\n",
       "Not-in-family     28.802707\n",
       "Other-relative     4.778259\n",
       "Own-child         28.440776\n",
       "Unmarried          8.811711\n",
       "Wife               3.985910\n",
       "Name: fnlwgt, dtype: float64"
      ]
     },
     "execution_count": 111,
     "metadata": {},
     "output_type": "execute_result"
    }
   ],
   "source": [
    "youthPercentageRelationship=(youthRelationship/totalYouth) * 100\n",
    "youthPercentageRelationship"
   ]
  },
  {
   "cell_type": "code",
   "execution_count": 112,
   "id": "f899cdae-2c59-4d1d-919c-566cf386759e",
   "metadata": {},
   "outputs": [
    {
     "data": {
      "text/plain": [
       "relationship\n",
       "Husband           48416230.0\n",
       "Not-in-family     20295316.0\n",
       "Other-relative     1633789.0\n",
       "Own-child          2995691.0\n",
       "Unmarried         11899168.0\n",
       "Wife               5008666.0\n",
       "Name: fnlwgt, dtype: float64"
      ]
     },
     "execution_count": 112,
     "metadata": {},
     "output_type": "execute_result"
    }
   ],
   "source": [
    "middleAgeRelationship=middleAge.groupby('relationship')['fnlwgt'].sum()\n",
    "middleAgeRelationship"
   ]
  },
  {
   "cell_type": "code",
   "execution_count": 113,
   "id": "e74d01e4-567b-4714-a6cf-461f1a4fd092",
   "metadata": {},
   "outputs": [
    {
     "data": {
      "text/plain": [
       "relationship\n",
       "Husband           53.647470\n",
       "Not-in-family     22.488169\n",
       "Other-relative     1.810315\n",
       "Own-child          3.319367\n",
       "Unmarried         13.184840\n",
       "Wife               5.549839\n",
       "Name: fnlwgt, dtype: float64"
      ]
     },
     "execution_count": 113,
     "metadata": {},
     "output_type": "execute_result"
    }
   ],
   "source": [
    "middleAgePercentageRelationship=(middleAgeRelationship/totalMiddleAge) * 100\n",
    "middleAgePercentageRelationship"
   ]
  },
  {
   "cell_type": "code",
   "execution_count": 115,
   "id": "fabbaf11-41d9-4ed8-8a07-1268f5378fb1",
   "metadata": {},
   "outputs": [
    {
     "data": {
      "text/plain": [
       "relationship\n",
       "Husband           7046964.0\n",
       "Not-in-family     3659537.0\n",
       "Other-relative     292437.0\n",
       "Own-child           34344.0\n",
       "Unmarried          970253.0\n",
       "Wife               424904.0\n",
       "Name: fnlwgt, dtype: float64"
      ]
     },
     "execution_count": 115,
     "metadata": {},
     "output_type": "execute_result"
    }
   ],
   "source": [
    "oldRelationship=old.groupby('relationship')['fnlwgt'].sum()\n",
    "oldRelationship"
   ]
  },
  {
   "cell_type": "code",
   "execution_count": 116,
   "id": "baf0d0f7-29ed-43ab-849e-b179cdc279c0",
   "metadata": {},
   "outputs": [
    {
     "data": {
      "text/plain": [
       "relationship\n",
       "Husband           56.700314\n",
       "Not-in-family     29.444864\n",
       "Other-relative     2.352966\n",
       "Own-child          0.276334\n",
       "Unmarried          7.806717\n",
       "Wife               3.418804\n",
       "Name: fnlwgt, dtype: float64"
      ]
     },
     "execution_count": 116,
     "metadata": {},
     "output_type": "execute_result"
    }
   ],
   "source": [
    "oldPercentageRelationship=(oldRelationship/totalOld) * 100\n",
    "oldPercentageRelationship"
   ]
  },
  {
   "cell_type": "code",
   "execution_count": 117,
   "id": "fd06946f-55d6-44d7-9326-07a950a7f2ea",
   "metadata": {},
   "outputs": [
    {
     "data": {
      "text/plain": [
       "relationship\n",
       "Husband           212648.0\n",
       "Not-in-family     188077.0\n",
       "Other-relative     14347.0\n",
       "Own-child          39153.0\n",
       "Unmarried          41604.0\n",
       "Wife               17319.0\n",
       "Name: fnlwgt, dtype: float64"
      ]
     },
     "execution_count": 117,
     "metadata": {},
     "output_type": "execute_result"
    }
   ],
   "source": [
    "veryOldRelationship=veryOld.groupby('relationship')['fnlwgt'].sum()\n",
    "veryOldRelationship"
   ]
  },
  {
   "cell_type": "code",
   "execution_count": 118,
   "id": "c08cf4a8-bdd7-42a8-9b4e-801d1986f2bc",
   "metadata": {},
   "outputs": [
    {
     "data": {
      "text/plain": [
       "relationship\n",
       "Husband           41.439896\n",
       "Not-in-family     36.651609\n",
       "Other-relative     2.795880\n",
       "Own-child          7.629963\n",
       "Unmarried          8.107602\n",
       "Wife               3.375050\n",
       "Name: fnlwgt, dtype: float64"
      ]
     },
     "execution_count": 118,
     "metadata": {},
     "output_type": "execute_result"
    }
   ],
   "source": [
    "veryOldPercentageRelationship=(veryOldRelationship/totalVeryOld) * 100\n",
    "veryOldPercentageRelationship"
   ]
  },
  {
   "cell_type": "markdown",
   "id": "fb1977e3-1b87-47dd-91dc-9a4ba13a1412",
   "metadata": {},
   "source": [
    "RACE"
   ]
  },
  {
   "cell_type": "code",
   "execution_count": 70,
   "id": "fb801d1d-b73e-49dd-94d8-e3b710bb19de",
   "metadata": {},
   "outputs": [
    {
     "data": {
      "text/plain": [
       "race\n",
       "Amer-Indian-Eskimo      1198733.0\n",
       "Asian-Pac-Islander      5299450.0\n",
       "Black                  22714328.0\n",
       "Other                   1704160.0\n",
       "White                 166067081.0\n",
       "Name: fnlwgt, dtype: float64"
      ]
     },
     "execution_count": 70,
     "metadata": {},
     "output_type": "execute_result"
    }
   ],
   "source": [
    "#grouping the population on the basis of race\n",
    "\n",
    "race=df.groupby('race')['fnlwgt'].sum()\n",
    "race"
   ]
  },
  {
   "cell_type": "code",
   "execution_count": 120,
   "id": "80ac5af0-2bc5-4123-99df-e73fc7b0106f",
   "metadata": {},
   "outputs": [
    {
     "data": {
      "text/plain": [
       "race\n",
       "Amer-Indian-Eskimo     0.608544\n",
       "Asian-Pac-Islander     2.690298\n",
       "Black                 11.531067\n",
       "Other                  0.865127\n",
       "White                 84.304964\n",
       "Name: fnlwgt, dtype: float64"
      ]
     },
     "execution_count": 120,
     "metadata": {},
     "output_type": "execute_result"
    }
   ],
   "source": [
    "percentageRace=(race/newPopulation) * 100\n",
    "percentageRace"
   ]
  },
  {
   "cell_type": "code",
   "execution_count": 71,
   "id": "3ec97980-9a2b-4bda-bcee-22fe2d6d0485",
   "metadata": {},
   "outputs": [
    {
     "data": {
      "text/plain": [
       "race\n",
       "Amer-Indian-Eskimo       8198.0\n",
       "Asian-Pac-Islander       9853.0\n",
       "Black                  225766.0\n",
       "Other                   46605.0\n",
       "White                 2049820.0\n",
       "Name: fnlwgt, dtype: float64"
      ]
     },
     "execution_count": 71,
     "metadata": {},
     "output_type": "execute_result"
    }
   ],
   "source": [
    "#grouping the individual age groups on the basis of race\n",
    "\n",
    "childrenRace=children.groupby('race')['fnlwgt'].sum()\n",
    "childrenRace"
   ]
  },
  {
   "cell_type": "code",
   "execution_count": 122,
   "id": "4b7b1f54-be3b-47d7-9690-0756e403d7a6",
   "metadata": {},
   "outputs": [
    {
     "data": {
      "text/plain": [
       "race\n",
       "Amer-Indian-Eskimo     0.350306\n",
       "Asian-Pac-Islander     0.421025\n",
       "Black                  9.647122\n",
       "Other                  1.991461\n",
       "White                 87.590087\n",
       "Name: fnlwgt, dtype: float64"
      ]
     },
     "execution_count": 122,
     "metadata": {},
     "output_type": "execute_result"
    }
   ],
   "source": [
    "childrenPercentageRace=(childrenRace/totalChildren) * 100\n",
    "childrenPercentageRace"
   ]
  },
  {
   "cell_type": "code",
   "execution_count": 123,
   "id": "c3904970-84fa-41ed-92b8-3a5908569afd",
   "metadata": {},
   "outputs": [
    {
     "data": {
      "text/plain": [
       "race\n",
       "Amer-Indian-Eskimo      613308.0\n",
       "Asian-Pac-Islander     2632039.0\n",
       "Black                 11142543.0\n",
       "Other                  1020078.0\n",
       "White                 76045095.0\n",
       "Name: fnlwgt, dtype: float64"
      ]
     },
     "execution_count": 123,
     "metadata": {},
     "output_type": "execute_result"
    }
   ],
   "source": [
    "youthRace=youth.groupby('race')['fnlwgt'].sum()\n",
    "youthRace"
   ]
  },
  {
   "cell_type": "code",
   "execution_count": 124,
   "id": "e9d92047-e2fb-4240-8dce-3c1cfd973541",
   "metadata": {},
   "outputs": [
    {
     "data": {
      "text/plain": [
       "race\n",
       "Amer-Indian-Eskimo     0.670626\n",
       "Asian-Pac-Islander     2.878022\n",
       "Black                 12.183893\n",
       "Other                  1.115412\n",
       "White                 83.152048\n",
       "Name: fnlwgt, dtype: float64"
      ]
     },
     "execution_count": 124,
     "metadata": {},
     "output_type": "execute_result"
    }
   ],
   "source": [
    "youthPercentageRace=(youthRace/totalYouth) * 100\n",
    "youthPercentageRace"
   ]
  },
  {
   "cell_type": "code",
   "execution_count": 125,
   "id": "cbbe114d-a36b-4a25-8367-ba6f2c3c6d2e",
   "metadata": {},
   "outputs": [
    {
     "data": {
      "text/plain": [
       "race\n",
       "Amer-Indian-Eskimo      526662.0\n",
       "Asian-Pac-Islander     2429589.0\n",
       "Black                 10275994.0\n",
       "Other                   600731.0\n",
       "White                 76415884.0\n",
       "Name: fnlwgt, dtype: float64"
      ]
     },
     "execution_count": 125,
     "metadata": {},
     "output_type": "execute_result"
    }
   ],
   "source": [
    "middleAgeRace=middleAge.groupby('race')['fnlwgt'].sum()\n",
    "middleAgeRace"
   ]
  },
  {
   "cell_type": "code",
   "execution_count": 126,
   "id": "8272aee7-3ac1-4b22-b782-370d7ed3c975",
   "metadata": {},
   "outputs": [
    {
     "data": {
      "text/plain": [
       "race\n",
       "Amer-Indian-Eskimo     0.583566\n",
       "Asian-Pac-Islander     2.692099\n",
       "Black                 11.386287\n",
       "Other                  0.665638\n",
       "White                 84.672409\n",
       "Name: fnlwgt, dtype: float64"
      ]
     },
     "execution_count": 126,
     "metadata": {},
     "output_type": "execute_result"
    }
   ],
   "source": [
    "middleAgePercentageRace=(middleAgeRace/totalMiddleAge) * 100\n",
    "middleAgePercentageRace"
   ]
  },
  {
   "cell_type": "code",
   "execution_count": 127,
   "id": "e09f677f-08c6-4d47-8e49-8abf6e1fff94",
   "metadata": {},
   "outputs": [
    {
     "data": {
      "text/plain": [
       "race\n",
       "Amer-Indian-Eskimo       48877.0\n",
       "Asian-Pac-Islander      211458.0\n",
       "Black                  1040916.0\n",
       "Other                    36746.0\n",
       "White                 11090442.0\n",
       "Name: fnlwgt, dtype: float64"
      ]
     },
     "execution_count": 127,
     "metadata": {},
     "output_type": "execute_result"
    }
   ],
   "source": [
    "oldRace=old.groupby('race')['fnlwgt'].sum()\n",
    "oldRace"
   ]
  },
  {
   "cell_type": "code",
   "execution_count": 128,
   "id": "ba32a065-e0ce-45fa-88da-bc9d359e1c36",
   "metadata": {},
   "outputs": [
    {
     "data": {
      "text/plain": [
       "race\n",
       "Amer-Indian-Eskimo     0.393267\n",
       "Asian-Pac-Islander     1.701404\n",
       "Black                  8.375275\n",
       "Other                  0.295661\n",
       "White                 89.234392\n",
       "Name: fnlwgt, dtype: float64"
      ]
     },
     "execution_count": 128,
     "metadata": {},
     "output_type": "execute_result"
    }
   ],
   "source": [
    "oldPercentageRace=(oldRace/totalOld) * 100\n",
    "oldPercentageRace"
   ]
  },
  {
   "cell_type": "code",
   "execution_count": 129,
   "id": "d77b3d3b-3cbb-43d6-9143-ab14cec3cdd7",
   "metadata": {},
   "outputs": [
    {
     "data": {
      "text/plain": [
       "race\n",
       "Amer-Indian-Eskimo      1688.0\n",
       "Asian-Pac-Islander     16511.0\n",
       "Black                  29109.0\n",
       "White                 465840.0\n",
       "Name: fnlwgt, dtype: float64"
      ]
     },
     "execution_count": 129,
     "metadata": {},
     "output_type": "execute_result"
    }
   ],
   "source": [
    "veryOldRace=veryOld.groupby('race')['fnlwgt'].sum()\n",
    "veryOldRace"
   ]
  },
  {
   "cell_type": "code",
   "execution_count": 130,
   "id": "bc456167-5aec-4adb-8142-27b812cf5d41",
   "metadata": {},
   "outputs": [
    {
     "data": {
      "text/plain": [
       "race\n",
       "Amer-Indian-Eskimo     0.328950\n",
       "Asian-Pac-Islander     3.217590\n",
       "Black                  5.672632\n",
       "White                 90.780827\n",
       "Name: fnlwgt, dtype: float64"
      ]
     },
     "execution_count": 130,
     "metadata": {},
     "output_type": "execute_result"
    }
   ],
   "source": [
    "veryOldPercentageRace=(veryOldRace/totalVeryOld) * 100\n",
    "veryOldPercentageRace"
   ]
  },
  {
   "cell_type": "markdown",
   "id": "4ae98b01-448b-4cf4-b3dd-3ee94cb26e78",
   "metadata": {},
   "source": [
    "SEX DISTRIBUTION"
   ]
  },
  {
   "cell_type": "code",
   "execution_count": 72,
   "id": "9af5f995-6a7d-4bd5-9ea5-b8b78bb0be19",
   "metadata": {},
   "outputs": [
    {
     "data": {
      "text/plain": [
       "sex\n",
       "Female     63758179.0\n",
       "Male      133225573.0\n",
       "Name: fnlwgt, dtype: float64"
      ]
     },
     "execution_count": 72,
     "metadata": {},
     "output_type": "execute_result"
    }
   ],
   "source": [
    "#grouping the population on the basis of sex\n",
    "\n",
    "sex=df.groupby('sex')['fnlwgt'].sum()\n",
    "sex"
   ]
  },
  {
   "cell_type": "code",
   "execution_count": 132,
   "id": "d74af170-ed25-41ed-aa1a-4c76a3e9899e",
   "metadata": {},
   "outputs": [
    {
     "data": {
      "text/plain": [
       "sex\n",
       "Female    32.367227\n",
       "Male      67.632773\n",
       "Name: fnlwgt, dtype: float64"
      ]
     },
     "execution_count": 132,
     "metadata": {},
     "output_type": "execute_result"
    }
   ],
   "source": [
    "percentageSex=(sex/newPopulation) * 100\n",
    "percentageSex"
   ]
  },
  {
   "cell_type": "code",
   "execution_count": 73,
   "id": "952494e9-1db2-412f-9ddf-e61a7788b6d2",
   "metadata": {},
   "outputs": [
    {
     "data": {
      "text/plain": [
       "sex\n",
       "Female    1075685.0\n",
       "Male      1264557.0\n",
       "Name: fnlwgt, dtype: float64"
      ]
     },
     "execution_count": 73,
     "metadata": {},
     "output_type": "execute_result"
    }
   ],
   "source": [
    "#grouping the individual age group on the basis of sex\n",
    "\n",
    "childrenSex=children.groupby('sex')['fnlwgt'].sum()\n",
    "childrenSex"
   ]
  },
  {
   "cell_type": "code",
   "execution_count": 134,
   "id": "18856507-e89f-491b-8d29-b2ce3b521b09",
   "metadata": {},
   "outputs": [
    {
     "data": {
      "text/plain": [
       "sex\n",
       "Female    45.964691\n",
       "Male      54.035309\n",
       "Name: fnlwgt, dtype: float64"
      ]
     },
     "execution_count": 134,
     "metadata": {},
     "output_type": "execute_result"
    }
   ],
   "source": [
    "childrenPercentageSex=(childrenSex/totalChildren) * 100\n",
    "childrenPercentageSex"
   ]
  },
  {
   "cell_type": "code",
   "execution_count": 135,
   "id": "e2667cc2-045a-4147-842a-3eb294585359",
   "metadata": {},
   "outputs": [
    {
     "data": {
      "text/plain": [
       "sex\n",
       "Female    32495210.0\n",
       "Male      58957853.0\n",
       "Name: fnlwgt, dtype: float64"
      ]
     },
     "execution_count": 135,
     "metadata": {},
     "output_type": "execute_result"
    }
   ],
   "source": [
    "youthSex=youth.groupby('sex')['fnlwgt'].sum()\n",
    "youthSex"
   ]
  },
  {
   "cell_type": "code",
   "execution_count": 136,
   "id": "8adbcb72-333e-44ff-83eb-ad4a4f0d2183",
   "metadata": {},
   "outputs": [
    {
     "data": {
      "text/plain": [
       "sex\n",
       "Female    35.532118\n",
       "Male      64.467882\n",
       "Name: fnlwgt, dtype: float64"
      ]
     },
     "execution_count": 136,
     "metadata": {},
     "output_type": "execute_result"
    }
   ],
   "source": [
    "youthPercentageSex=(youthSex/totalYouth) * 100\n",
    "youthPercentageSex"
   ]
  },
  {
   "cell_type": "code",
   "execution_count": 137,
   "id": "89ede0d4-7672-4afa-8a56-bf5a0684aa05",
   "metadata": {},
   "outputs": [
    {
     "data": {
      "text/plain": [
       "sex\n",
       "Female    26061083.0\n",
       "Male      64187777.0\n",
       "Name: fnlwgt, dtype: float64"
      ]
     },
     "execution_count": 137,
     "metadata": {},
     "output_type": "execute_result"
    }
   ],
   "source": [
    "middleAgeSex=middleAge.groupby('sex')['fnlwgt'].sum()\n",
    "middleAgeSex"
   ]
  },
  {
   "cell_type": "code",
   "execution_count": 138,
   "id": "0ed9195c-e7f7-43f2-9c12-3f5d4b9d8811",
   "metadata": {},
   "outputs": [
    {
     "data": {
      "text/plain": [
       "sex\n",
       "Female    28.876911\n",
       "Male      71.123089\n",
       "Name: fnlwgt, dtype: float64"
      ]
     },
     "execution_count": 138,
     "metadata": {},
     "output_type": "execute_result"
    }
   ],
   "source": [
    "middleAgePercentageSex=(middleAgeSex/totalMiddleAge) * 100\n",
    "middleAgePercentageSex"
   ]
  },
  {
   "cell_type": "code",
   "execution_count": 139,
   "id": "16d7d051-c4d6-4728-b5c2-6e72b2c63260",
   "metadata": {},
   "outputs": [
    {
     "data": {
      "text/plain": [
       "sex\n",
       "Female    3951218.0\n",
       "Male      8477221.0\n",
       "Name: fnlwgt, dtype: float64"
      ]
     },
     "execution_count": 139,
     "metadata": {},
     "output_type": "execute_result"
    }
   ],
   "source": [
    "oldSex=old.groupby('sex')['fnlwgt'].sum()\n",
    "oldSex"
   ]
  },
  {
   "cell_type": "code",
   "execution_count": 140,
   "id": "1bc637c9-14ef-4fb6-acb3-30074390e7c3",
   "metadata": {},
   "outputs": [
    {
     "data": {
      "text/plain": [
       "sex\n",
       "Female    31.791748\n",
       "Male      68.208252\n",
       "Name: fnlwgt, dtype: float64"
      ]
     },
     "execution_count": 140,
     "metadata": {},
     "output_type": "execute_result"
    }
   ],
   "source": [
    "oldPercentageSex=(oldSex/totalOld) * 100\n",
    "oldPercentageSex"
   ]
  },
  {
   "cell_type": "code",
   "execution_count": 141,
   "id": "bb609d27-6d95-445c-be93-417334061e88",
   "metadata": {},
   "outputs": [
    {
     "data": {
      "text/plain": [
       "sex\n",
       "Female    174983.0\n",
       "Male      338165.0\n",
       "Name: fnlwgt, dtype: float64"
      ]
     },
     "execution_count": 141,
     "metadata": {},
     "output_type": "execute_result"
    }
   ],
   "source": [
    "veryOldSex=veryOld.groupby('sex')['fnlwgt'].sum()\n",
    "veryOldSex"
   ]
  },
  {
   "cell_type": "code",
   "execution_count": 142,
   "id": "a9bcdcba-a56d-48ee-8939-6267a23ba0e4",
   "metadata": {},
   "outputs": [
    {
     "data": {
      "text/plain": [
       "sex\n",
       "Female    34.099909\n",
       "Male      65.900091\n",
       "Name: fnlwgt, dtype: float64"
      ]
     },
     "execution_count": 142,
     "metadata": {},
     "output_type": "execute_result"
    }
   ],
   "source": [
    "veryOldPercentageSex=(veryOldSex/totalVeryOld) * 100\n",
    "veryOldPercentageSex"
   ]
  },
  {
   "cell_type": "markdown",
   "id": "96cc0a0a-78ea-4eb8-beaf-50b5bd027911",
   "metadata": {},
   "source": [
    "NATIVE COUNTRY"
   ]
  },
  {
   "cell_type": "code",
   "execution_count": 74,
   "id": "1f0a2f81-a6c9-495c-a6ec-06112bc47ae4",
   "metadata": {},
   "outputs": [
    {
     "data": {
      "text/plain": [
       "native.country\n",
       "?                               3590416.0\n",
       "Cambodia                         117029.0\n",
       "Canada                           694225.0\n",
       "China                            428378.0\n",
       "Columbia                         423768.0\n",
       "Cuba                             746420.0\n",
       "Dominican-Republic               428947.0\n",
       "Ecuador                          166011.0\n",
       "El-Salvador                      860243.0\n",
       "England                          523611.0\n",
       "France                           177671.0\n",
       "Germany                          827432.0\n",
       "Greece                           132719.0\n",
       "Guatemala                        528876.0\n",
       "Haiti                            293386.0\n",
       "Holand-Netherlands                  889.0\n",
       "Honduras                         105999.0\n",
       "Hong                             141867.0\n",
       "Hungary                           74849.0\n",
       "India                            537643.0\n",
       "Iran                             249943.0\n",
       "Ireland                          105650.0\n",
       "Italy                            423097.0\n",
       "Jamaica                          548203.0\n",
       "Japan                            367292.0\n",
       "Laos                             121220.0\n",
       "Mexico                          5906071.0\n",
       "Nicaragua                        319514.0\n",
       "Outlying-US(Guam-USVI-etc)        91327.0\n",
       "Peru                             271526.0\n",
       "Philippines                     1049234.0\n",
       "Poland                           351994.0\n",
       "Portugal                         175416.0\n",
       "Puerto-Rico                      736560.0\n",
       "Scotland                          64673.0\n",
       "South                            417211.0\n",
       "Taiwan                           303325.0\n",
       "Thailand                         105751.0\n",
       "Trinadad&Tobago                  128991.0\n",
       "United-States                 173987155.0\n",
       "Vietnam                          348988.0\n",
       "Yugoslavia                       110232.0\n",
       "Name: fnlwgt, dtype: float64"
      ]
     },
     "execution_count": 74,
     "metadata": {},
     "output_type": "execute_result"
    }
   ],
   "source": [
    "#grouping the population on the basis of native country\n",
    "\n",
    "native=df.groupby('native.country')['fnlwgt'].sum()\n",
    "native"
   ]
  },
  {
   "cell_type": "code",
   "execution_count": 144,
   "id": "65764335-05ad-40d0-93c2-d597b757685f",
   "metadata": {},
   "outputs": [
    {
     "data": {
      "text/plain": [
       "native.country\n",
       "?                              1.822697\n",
       "Cambodia                       0.059410\n",
       "Canada                         0.352428\n",
       "China                          0.217469\n",
       "Columbia                       0.215128\n",
       "Cuba                           0.378925\n",
       "Dominican-Republic             0.217758\n",
       "Ecuador                        0.084276\n",
       "El-Salvador                    0.436708\n",
       "England                        0.265814\n",
       "France                         0.090196\n",
       "Germany                        0.420051\n",
       "Greece                         0.067376\n",
       "Guatemala                      0.268487\n",
       "Haiti                          0.148939\n",
       "Holand-Netherlands             0.000451\n",
       "Honduras                       0.053811\n",
       "Hong                           0.072020\n",
       "Hungary                        0.037998\n",
       "India                          0.272938\n",
       "Iran                           0.126885\n",
       "Ireland                        0.053634\n",
       "Italy                          0.214788\n",
       "Jamaica                        0.278299\n",
       "Japan                          0.186458\n",
       "Laos                           0.061538\n",
       "Mexico                         2.998253\n",
       "Nicaragua                      0.162203\n",
       "Outlying-US(Guam-USVI-etc)     0.046363\n",
       "Peru                           0.137842\n",
       "Philippines                    0.532650\n",
       "Poland                         0.178692\n",
       "Portugal                       0.089051\n",
       "Puerto-Rico                    0.373919\n",
       "Scotland                       0.032832\n",
       "South                          0.211800\n",
       "Taiwan                         0.153985\n",
       "Thailand                       0.053685\n",
       "Trinadad&Tobago                0.065483\n",
       "United-States                 88.325638\n",
       "Vietnam                        0.177166\n",
       "Yugoslavia                     0.055960\n",
       "Name: fnlwgt, dtype: float64"
      ]
     },
     "execution_count": 144,
     "metadata": {},
     "output_type": "execute_result"
    }
   ],
   "source": [
    "percentageNative=(native/newPopulation) * 100\n",
    "percentageNative"
   ]
  },
  {
   "cell_type": "markdown",
   "id": "dc1f6bf2-e9c6-4cbd-b0ec-2f798afb538a",
   "metadata": {},
   "source": [
    "INCOME"
   ]
  },
  {
   "cell_type": "code",
   "execution_count": 75,
   "id": "d2406525-d8f7-417b-a1cc-99163db5b393",
   "metadata": {},
   "outputs": [
    {
     "data": {
      "text/plain": [
       "income\n",
       "<=50K    149970541.0\n",
       ">50K      47013211.0\n",
       "Name: fnlwgt, dtype: float64"
      ]
     },
     "execution_count": 75,
     "metadata": {},
     "output_type": "execute_result"
    }
   ],
   "source": [
    "#grouping of the income on the basis of income\n",
    "\n",
    "income=df.groupby('income')['fnlwgt'].sum()\n",
    "income"
   ]
  },
  {
   "cell_type": "code",
   "execution_count": 146,
   "id": "8ef01b73-bfed-4c7e-9c90-98adee09ce78",
   "metadata": {},
   "outputs": [
    {
     "data": {
      "text/plain": [
       "income\n",
       "<=50K    76.133457\n",
       ">50K     23.866543\n",
       "Name: fnlwgt, dtype: float64"
      ]
     },
     "execution_count": 146,
     "metadata": {},
     "output_type": "execute_result"
    }
   ],
   "source": [
    "percentageIncome=(income/newPopulation) * 100\n",
    "percentageIncome"
   ]
  },
  {
   "cell_type": "code",
   "execution_count": 76,
   "id": "6f3d925e-e8e6-459e-92d3-e0f8007ed597",
   "metadata": {},
   "outputs": [
    {
     "data": {
      "text/plain": [
       "income\n",
       "<=50K    2340242.0\n",
       "Name: fnlwgt, dtype: float64"
      ]
     },
     "execution_count": 76,
     "metadata": {},
     "output_type": "execute_result"
    }
   ],
   "source": [
    "#grouping the individual age groups on the basis of income\n",
    "\n",
    "childrenIncome=children.groupby('income')['fnlwgt'].sum()\n",
    "childrenIncome"
   ]
  },
  {
   "cell_type": "code",
   "execution_count": 148,
   "id": "f745efbf-cdc8-4cf8-9811-2e843cefb6ee",
   "metadata": {},
   "outputs": [
    {
     "data": {
      "text/plain": [
       "income\n",
       "<=50K    80772939.0\n",
       ">50K     10680124.0\n",
       "Name: fnlwgt, dtype: float64"
      ]
     },
     "execution_count": 148,
     "metadata": {},
     "output_type": "execute_result"
    }
   ],
   "source": [
    "youthIncome=youth.groupby('income')['fnlwgt'].sum()\n",
    "youthIncome"
   ]
  },
  {
   "cell_type": "code",
   "execution_count": 149,
   "id": "a75c26cd-1d4c-49d4-b91a-6d0304b7fb00",
   "metadata": {},
   "outputs": [
    {
     "data": {
      "text/plain": [
       "income\n",
       "<=50K    88.321743\n",
       ">50K     11.678257\n",
       "Name: fnlwgt, dtype: float64"
      ]
     },
     "execution_count": 149,
     "metadata": {},
     "output_type": "execute_result"
    }
   ],
   "source": [
    "youthPercentageIncome=(youthIncome/totalYouth) * 100\n",
    "youthPercentageIncome"
   ]
  },
  {
   "cell_type": "code",
   "execution_count": 150,
   "id": "15184160-d4fb-4d5c-81a6-1bc8e1473287",
   "metadata": {},
   "outputs": [
    {
     "data": {
      "text/plain": [
       "income\n",
       "<=50K    56922522.0\n",
       ">50K     33326338.0\n",
       "Name: fnlwgt, dtype: float64"
      ]
     },
     "execution_count": 150,
     "metadata": {},
     "output_type": "execute_result"
    }
   ],
   "source": [
    "middleAgeIncome=middleAge.groupby('income')['fnlwgt'].sum()\n",
    "middleAgeIncome"
   ]
  },
  {
   "cell_type": "code",
   "execution_count": 151,
   "id": "af0e615f-ade4-46b0-8d25-1797ab635a3e",
   "metadata": {},
   "outputs": [
    {
     "data": {
      "text/plain": [
       "income\n",
       "<=50K    63.072843\n",
       ">50K     36.927157\n",
       "Name: fnlwgt, dtype: float64"
      ]
     },
     "execution_count": 151,
     "metadata": {},
     "output_type": "execute_result"
    }
   ],
   "source": [
    "middleAgePercentageIncome=(middleAgeIncome/totalMiddleAge) * 100\n",
    "middleAgePercentageIncome"
   ]
  },
  {
   "cell_type": "code",
   "execution_count": 152,
   "id": "f02568e1-43e0-4991-805d-8f0982195bcc",
   "metadata": {},
   "outputs": [
    {
     "data": {
      "text/plain": [
       "income\n",
       "<=50K    9489637.0\n",
       ">50K     2938802.0\n",
       "Name: fnlwgt, dtype: float64"
      ]
     },
     "execution_count": 152,
     "metadata": {},
     "output_type": "execute_result"
    }
   ],
   "source": [
    "oldIncome=old.groupby('income')['fnlwgt'].sum()\n",
    "oldIncome"
   ]
  },
  {
   "cell_type": "code",
   "execution_count": 153,
   "id": "6dce52f6-fd42-485c-8eb4-3de3b2aba17d",
   "metadata": {},
   "outputs": [
    {
     "data": {
      "text/plain": [
       "income\n",
       "<=50K    76.354215\n",
       ">50K     23.645785\n",
       "Name: fnlwgt, dtype: float64"
      ]
     },
     "execution_count": 153,
     "metadata": {},
     "output_type": "execute_result"
    }
   ],
   "source": [
    "oldPercentageIncome=(oldIncome/totalOld) * 100\n",
    "oldPercentageIncome"
   ]
  },
  {
   "cell_type": "code",
   "execution_count": 154,
   "id": "977328ab-e4bb-4f8d-9138-43a8e96a0630",
   "metadata": {},
   "outputs": [
    {
     "data": {
      "text/plain": [
       "income\n",
       "<=50K    445201.0\n",
       ">50K      67947.0\n",
       "Name: fnlwgt, dtype: float64"
      ]
     },
     "execution_count": 154,
     "metadata": {},
     "output_type": "execute_result"
    }
   ],
   "source": [
    "veryOldIncome=veryOld.groupby('income')['fnlwgt'].sum()\n",
    "veryOldIncome"
   ]
  },
  {
   "cell_type": "code",
   "execution_count": 155,
   "id": "074fe7fe-042e-4bea-a11e-1894abe39d76",
   "metadata": {},
   "outputs": [
    {
     "data": {
      "text/plain": [
       "income\n",
       "<=50K    86.758791\n",
       ">50K     13.241209\n",
       "Name: fnlwgt, dtype: float64"
      ]
     },
     "execution_count": 155,
     "metadata": {},
     "output_type": "execute_result"
    }
   ],
   "source": [
    "veryOldPercentageIncome=(veryOldIncome/totalVeryOld) * 100\n",
    "veryOldPercentageIncome"
   ]
  },
  {
   "cell_type": "markdown",
   "id": "01cc2a7c-d9a7-4d92-bdaf-014c11861601",
   "metadata": {},
   "source": [
    "WORKING HOURS"
   ]
  },
  {
   "cell_type": "code",
   "execution_count": 77,
   "id": "f0eac342-2561-41fd-98da-fe896136574c",
   "metadata": {},
   "outputs": [
    {
     "data": {
      "text/plain": [
       "hours.per.week\n",
       "1     106141.0\n",
       "2     221782.0\n",
       "3     240193.0\n",
       "4     271469.0\n",
       "5     326952.0\n",
       "        ...   \n",
       "95      9540.0\n",
       "96     48038.0\n",
       "97     10617.0\n",
       "98     52437.0\n",
       "99    437805.0\n",
       "Name: fnlwgt, Length: 94, dtype: float64"
      ]
     },
     "execution_count": 77,
     "metadata": {},
     "output_type": "execute_result"
    }
   ],
   "source": [
    "#grouping the population on the basis of working hours\n",
    "\n",
    "hours=df.groupby('hours.per.week')['fnlwgt'].sum()\n",
    "hours"
   ]
  },
  {
   "cell_type": "code",
   "execution_count": 78,
   "id": "d30eaf73-5ccb-4e5d-8f4e-58297108d0d4",
   "metadata": {},
   "outputs": [
    {
     "data": {
      "text/plain": [
       "40"
      ]
     },
     "execution_count": 78,
     "metadata": {},
     "output_type": "execute_result"
    }
   ],
   "source": [
    "#getting the number of hours per week that most people work\n",
    "\n",
    "individualHours=df.groupby('hours.per.week')['fnlwgt'].sum()\n",
    "maxIndividualHours=individualHours.idxmax()\n",
    "individualHoursMax=individualHours.max()\n",
    "maxIndividualHours"
   ]
  },
  {
   "cell_type": "code",
   "execution_count": 79,
   "id": "080c1f07-4791-4738-af5f-6c364e8c442a",
   "metadata": {},
   "outputs": [
    {
     "data": {
      "text/plain": [
       "93811399.0"
      ]
     },
     "execution_count": 79,
     "metadata": {},
     "output_type": "execute_result"
    }
   ],
   "source": [
    "#the number working for this particular number of hours\n",
    "\n",
    "individualHoursMax"
   ]
  },
  {
   "cell_type": "code",
   "execution_count": 159,
   "id": "6a56ec9d-b97c-48c9-9d2d-13318c605444",
   "metadata": {},
   "outputs": [
    {
     "data": {
      "text/plain": [
       "47.623927378538305"
      ]
     },
     "execution_count": 159,
     "metadata": {},
     "output_type": "execute_result"
    }
   ],
   "source": [
    "percentageHours=(individualHoursMax/newPopulation) * 100\n",
    "percentageHours"
   ]
  },
  {
   "cell_type": "markdown",
   "id": "635e2d37-5178-4e47-864c-f31241b063e2",
   "metadata": {},
   "source": [
    "CAPITAL GAIN"
   ]
  },
  {
   "cell_type": "code",
   "execution_count": 80,
   "id": "4a8719d6-3ead-4144-9be0-b6a742e31d51",
   "metadata": {},
   "outputs": [
    {
     "data": {
      "text/plain": [
       "capital.gain\n",
       "0        180712006.0\n",
       "114          35079.0\n",
       "401           5906.0\n",
       "594         231479.0\n",
       "914          38357.0\n",
       "            ...     \n",
       "25236        75373.0\n",
       "27828       165755.0\n",
       "34095        38757.0\n",
       "41310        15975.0\n",
       "99999       978784.0\n",
       "Name: fnlwgt, Length: 119, dtype: float64"
      ]
     },
     "execution_count": 80,
     "metadata": {},
     "output_type": "execute_result"
    }
   ],
   "source": [
    "#Grouping the population on the basis of capital gain\n",
    "\n",
    "gain=df.groupby('capital.gain')['fnlwgt'].sum()\n",
    "gain"
   ]
  },
  {
   "cell_type": "code",
   "execution_count": 81,
   "id": "1ae3c37b-edcb-4641-a076-6496bf2cb3ad",
   "metadata": {},
   "outputs": [
    {
     "data": {
      "text/plain": [
       "0"
      ]
     },
     "execution_count": 81,
     "metadata": {},
     "output_type": "execute_result"
    }
   ],
   "source": [
    "#the capital gain with the most number of people\n",
    "\n",
    "individualGain=df.groupby('capital.gain')['fnlwgt'].sum()\n",
    "maxIndividualGain=individualGain.idxmax()\n",
    "individualGainMax=individualGain.max()\n",
    "maxIndividualGain"
   ]
  },
  {
   "cell_type": "code",
   "execution_count": 82,
   "id": "c178beda-3a0c-48d8-93a0-3bb8dd4d08ac",
   "metadata": {},
   "outputs": [
    {
     "data": {
      "text/plain": [
       "180712006.0"
      ]
     },
     "execution_count": 82,
     "metadata": {},
     "output_type": "execute_result"
    }
   ],
   "source": [
    "#the number of people with this particular capital gain\n",
    "\n",
    "individualGainMax"
   ]
  },
  {
   "cell_type": "code",
   "execution_count": 163,
   "id": "4d6c9de1-075e-4eea-b29a-a4310f20c840",
   "metadata": {},
   "outputs": [
    {
     "data": {
      "text/plain": [
       "91.73954915834885"
      ]
     },
     "execution_count": 163,
     "metadata": {},
     "output_type": "execute_result"
    }
   ],
   "source": [
    "percentageGain=(individualGainMax/newPopulation) * 100\n",
    "percentageGain"
   ]
  },
  {
   "cell_type": "markdown",
   "id": "cd21408b-a522-4cd7-bb63-7fdbcbab5dfe",
   "metadata": {},
   "source": [
    "CAPITAL LOSS"
   ]
  },
  {
   "cell_type": "code",
   "execution_count": 83,
   "id": "d95990fa-d160-40f0-8d2f-a402f2a7b626",
   "metadata": {},
   "outputs": [
    {
     "data": {
      "text/plain": [
       "capital.loss\n",
       "0       187995316.0\n",
       "155          4493.0\n",
       "213         22519.0\n",
       "323         12751.0\n",
       "419         22920.0\n",
       "           ...     \n",
       "3004         7730.0\n",
       "3683        16290.0\n",
       "3770        11722.0\n",
       "3900        12920.0\n",
       "4356        12631.0\n",
       "Name: fnlwgt, Length: 92, dtype: float64"
      ]
     },
     "execution_count": 83,
     "metadata": {},
     "output_type": "execute_result"
    }
   ],
   "source": [
    "#grouping the population based on capital loss\n",
    "\n",
    "loss=df.groupby('capital.loss')['fnlwgt'].sum()\n",
    "loss"
   ]
  },
  {
   "cell_type": "code",
   "execution_count": 84,
   "id": "3233b42a-c57d-4c9b-a8ae-95e927c73776",
   "metadata": {},
   "outputs": [
    {
     "data": {
      "text/plain": [
       "0"
      ]
     },
     "execution_count": 84,
     "metadata": {},
     "output_type": "execute_result"
    }
   ],
   "source": [
    "#the capital loss with the highest number of people\n",
    "\n",
    "individualLoss=df.groupby('capital.loss')['fnlwgt'].sum()\n",
    "maxIndividualLoss=individualLoss.idxmax()\n",
    "individualLossMax=individualLoss.max()\n",
    "maxIndividualLoss"
   ]
  },
  {
   "cell_type": "code",
   "execution_count": 85,
   "id": "742fcffd-d1f7-4b13-a903-efa4a59f6a64",
   "metadata": {},
   "outputs": [
    {
     "data": {
      "text/plain": [
       "187995316.0"
      ]
     },
     "execution_count": 85,
     "metadata": {},
     "output_type": "execute_result"
    }
   ],
   "source": [
    "#the number of people with this particular capital loss\n",
    "\n",
    "individualLossMax"
   ]
  },
  {
   "cell_type": "code",
   "execution_count": 167,
   "id": "ffc47172-bc60-43ae-9622-b62cd5e7a832",
   "metadata": {},
   "outputs": [
    {
     "data": {
      "text/plain": [
       "95.43696578588877"
      ]
     },
     "execution_count": 167,
     "metadata": {},
     "output_type": "execute_result"
    }
   ],
   "source": [
    "percentageLoss=(individualLossMax/newPopulation) * 100\n",
    "percentageLoss"
   ]
  },
  {
   "cell_type": "markdown",
   "id": "85240712-9092-45af-885c-af957efb21e7",
   "metadata": {},
   "source": [
    "RACE WITH RESPECT TO OCCUPATION"
   ]
  },
  {
   "cell_type": "code",
   "execution_count": 86,
   "id": "628bf53c-2696-4d9b-8216-7ed75bd8af32",
   "metadata": {},
   "outputs": [
    {
     "data": {
      "text/plain": [
       "occupation\n",
       "?                    1530734.0\n",
       "Adm-clerical         3481597.0\n",
       "Armed-Forces            9603.0\n",
       "Craft-repair         1858495.0\n",
       "Exec-managerial      1762403.0\n",
       "Farming-fishing       295259.0\n",
       "Handlers-cleaners    1381548.0\n",
       "Machine-op-inspct    1919628.0\n",
       "Other-service        3890000.0\n",
       "Priv-house-serv       189955.0\n",
       "Prof-specialty       1640399.0\n",
       "Protective-serv       790320.0\n",
       "Sales                1962616.0\n",
       "Tech-support          584488.0\n",
       "Transport-moving     1417283.0\n",
       "Name: fnlwgt, dtype: float64"
      ]
     },
     "execution_count": 86,
     "metadata": {},
     "output_type": "execute_result"
    }
   ],
   "source": [
    "#grouping races based on occupation\n",
    "\n",
    "blacks=df[df['race'] == 'Black']\n",
    "blackOccupation=blacks.groupby('occupation')['fnlwgt'].sum()\n",
    "blackOccupation"
   ]
  },
  {
   "cell_type": "code",
   "execution_count": 169,
   "id": "2b606e16-469b-4aed-8bbf-f8c4577da728",
   "metadata": {},
   "outputs": [
    {
     "data": {
      "text/plain": [
       "occupation\n",
       "?                    0.777086\n",
       "Adm-clerical         1.767454\n",
       "Armed-Forces         0.004875\n",
       "Craft-repair         0.943476\n",
       "Exec-managerial      0.894695\n",
       "Farming-fishing      0.149890\n",
       "Handlers-cleaners    0.701351\n",
       "Machine-op-inspct    0.974511\n",
       "Other-service        1.974782\n",
       "Priv-house-serv      0.096432\n",
       "Prof-specialty       0.832759\n",
       "Protective-serv      0.401211\n",
       "Sales                0.996334\n",
       "Tech-support         0.296719\n",
       "Transport-moving     0.719492\n",
       "Name: fnlwgt, dtype: float64"
      ]
     },
     "execution_count": 169,
     "metadata": {},
     "output_type": "execute_result"
    }
   ],
   "source": [
    "percentageBlacks=(blackOccupation/newPopulation) * 100\n",
    "percentageBlacks"
   ]
  },
  {
   "cell_type": "code",
   "execution_count": 170,
   "id": "8d2baa91-c284-4abf-be90-b34db1c9c6b6",
   "metadata": {},
   "outputs": [
    {
     "data": {
      "text/plain": [
       "occupation\n",
       "?                     9022858.0\n",
       "Adm-clerical         18599816.0\n",
       "Armed-Forces            49814.0\n",
       "Craft-repair         22368166.0\n",
       "Exec-managerial      21289190.0\n",
       "Farming-fishing       4863772.0\n",
       "Handlers-cleaners     7288949.0\n",
       "Machine-op-inspct     9838159.0\n",
       "Other-service        14968215.0\n",
       "Priv-house-serv        721561.0\n",
       "Prof-specialty       21558121.0\n",
       "Protective-serv       3252737.0\n",
       "Sales                19478016.0\n",
       "Tech-support          4813200.0\n",
       "Transport-moving      7954507.0\n",
       "Name: fnlwgt, dtype: float64"
      ]
     },
     "execution_count": 170,
     "metadata": {},
     "output_type": "execute_result"
    }
   ],
   "source": [
    "whites=df[df['race'] == 'White']\n",
    "whiteOccupation=whites.groupby('occupation')['fnlwgt'].sum()\n",
    "whiteOccupation"
   ]
  },
  {
   "cell_type": "code",
   "execution_count": 171,
   "id": "4e8ddb59-ef3d-4c0d-9935-65aab0173253",
   "metadata": {},
   "outputs": [
    {
     "data": {
      "text/plain": [
       "occupation\n",
       "?                     4.580509\n",
       "Adm-clerical          9.442310\n",
       "Armed-Forces          0.025288\n",
       "Craft-repair         11.355336\n",
       "Exec-managerial      10.807587\n",
       "Farming-fishing       2.469123\n",
       "Handlers-cleaners     3.700279\n",
       "Machine-op-inspct     4.994401\n",
       "Other-service         7.598705\n",
       "Priv-house-serv       0.366305\n",
       "Prof-specialty       10.944111\n",
       "Protective-serv       1.651272\n",
       "Sales                 9.888133\n",
       "Tech-support          2.443450\n",
       "Transport-moving      4.038154\n",
       "Name: fnlwgt, dtype: float64"
      ]
     },
     "execution_count": 171,
     "metadata": {},
     "output_type": "execute_result"
    }
   ],
   "source": [
    "percentageWhites=(whiteOccupation/newPopulation) * 100\n",
    "percentageWhites"
   ]
  },
  {
   "cell_type": "code",
   "execution_count": 176,
   "id": "0ecff066-f957-4aba-9daa-cdc061ecddd2",
   "metadata": {},
   "outputs": [
    {
     "data": {
      "text/plain": [
       "occupation\n",
       "?                    314154.0\n",
       "Adm-clerical         736287.0\n",
       "Craft-repair         491504.0\n",
       "Exec-managerial      694462.0\n",
       "Farming-fishing       84068.0\n",
       "Handlers-cleaners    101161.0\n",
       "Machine-op-inspct    333911.0\n",
       "Other-service        565008.0\n",
       "Priv-house-serv       16238.0\n",
       "Prof-specialty       973188.0\n",
       "Protective-serv       79281.0\n",
       "Sales                531130.0\n",
       "Tech-support         257045.0\n",
       "Transport-moving     122013.0\n",
       "Name: fnlwgt, dtype: float64"
      ]
     },
     "execution_count": 176,
     "metadata": {},
     "output_type": "execute_result"
    }
   ],
   "source": [
    "asians=df[df['race'] == 'Asian-Pac-Islander']\n",
    "asianOccupation=asians.groupby('occupation')['fnlwgt'].sum()\n",
    "asianOccupation"
   ]
  },
  {
   "cell_type": "code",
   "execution_count": 177,
   "id": "960db655-d81f-417f-b919-78ddfcfb6312",
   "metadata": {},
   "outputs": [
    {
     "data": {
      "text/plain": [
       "occupation\n",
       "?                    0.159482\n",
       "Adm-clerical         0.373781\n",
       "Craft-repair         0.249515\n",
       "Exec-managerial      0.352548\n",
       "Farming-fishing      0.042678\n",
       "Handlers-cleaners    0.051355\n",
       "Machine-op-inspct    0.169512\n",
       "Other-service        0.286830\n",
       "Priv-house-serv      0.008243\n",
       "Prof-specialty       0.494045\n",
       "Protective-serv      0.040247\n",
       "Sales                0.269631\n",
       "Tech-support         0.130490\n",
       "Transport-moving     0.061941\n",
       "Name: fnlwgt, dtype: float64"
      ]
     },
     "execution_count": 177,
     "metadata": {},
     "output_type": "execute_result"
    }
   ],
   "source": [
    "percentageAsians=(asianOccupation/newPopulation) * 100\n",
    "percentageAsians"
   ]
  },
  {
   "cell_type": "code",
   "execution_count": 179,
   "id": "fb5b31db-2b4b-405e-920e-43c73d425353",
   "metadata": {},
   "outputs": [
    {
     "data": {
      "text/plain": [
       "occupation\n",
       "?                     72083.0\n",
       "Adm-clerical         100489.0\n",
       "Armed-Forces           2434.0\n",
       "Craft-repair         197356.0\n",
       "Exec-managerial      109730.0\n",
       "Farming-fishing       36053.0\n",
       "Handlers-cleaners     74417.0\n",
       "Machine-op-inspct     92180.0\n",
       "Other-service        132478.0\n",
       "Prof-specialty       104870.0\n",
       "Protective-serv       28457.0\n",
       "Sales                118091.0\n",
       "Tech-support          17979.0\n",
       "Transport-moving     112116.0\n",
       "Name: fnlwgt, dtype: float64"
      ]
     },
     "execution_count": 179,
     "metadata": {},
     "output_type": "execute_result"
    }
   ],
   "source": [
    "eskimos=df[df['race'] == 'Amer-Indian-Eskimo']\n",
    "eskimoOccupation=eskimos.groupby('occupation')['fnlwgt'].sum()\n",
    "eskimoOccupation"
   ]
  },
  {
   "cell_type": "code",
   "execution_count": 180,
   "id": "b50736f4-7ac2-4315-b29e-db56d8913ffa",
   "metadata": {},
   "outputs": [
    {
     "data": {
      "text/plain": [
       "occupation\n",
       "?                    0.036593\n",
       "Adm-clerical         0.051014\n",
       "Armed-Forces         0.001236\n",
       "Craft-repair         0.100189\n",
       "Exec-managerial      0.055705\n",
       "Farming-fishing      0.018303\n",
       "Handlers-cleaners    0.037778\n",
       "Machine-op-inspct    0.046796\n",
       "Other-service        0.067253\n",
       "Prof-specialty       0.053238\n",
       "Protective-serv      0.014446\n",
       "Sales                0.059950\n",
       "Tech-support         0.009127\n",
       "Transport-moving     0.056916\n",
       "Name: fnlwgt, dtype: float64"
      ]
     },
     "execution_count": 180,
     "metadata": {},
     "output_type": "execute_result"
    }
   ],
   "source": [
    "percentageEskimos=(eskimoOccupation/newPopulation) * 100\n",
    "percentageEskimos"
   ]
  },
  {
   "cell_type": "markdown",
   "id": "714de4da-6c16-4ee5-9a78-9822940d8bd3",
   "metadata": {},
   "source": [
    "RACE WITH RESPECT TO INCOME"
   ]
  },
  {
   "cell_type": "code",
   "execution_count": 87,
   "id": "1f9176d6-33e9-4616-8348-f87db63f1574",
   "metadata": {},
   "outputs": [
    {
     "data": {
      "text/plain": [
       "income\n",
       "<=50K    19798442.0\n",
       ">50K      2915886.0\n",
       "Name: fnlwgt, dtype: float64"
      ]
     },
     "execution_count": 87,
     "metadata": {},
     "output_type": "execute_result"
    }
   ],
   "source": [
    "#grouping races according to income\n",
    "\n",
    "blacks=df[df['race'] == 'Black']\n",
    "blackIncome=blacks.groupby('income')['fnlwgt'].sum()\n",
    "blackIncome"
   ]
  },
  {
   "cell_type": "code",
   "execution_count": 182,
   "id": "f821fd22-571a-49c5-a982-b2cd8e33721a",
   "metadata": {},
   "outputs": [
    {
     "data": {
      "text/plain": [
       "income\n",
       "<=50K    10.050800\n",
       ">50K      1.480267\n",
       "Name: fnlwgt, dtype: float64"
      ]
     },
     "execution_count": 182,
     "metadata": {},
     "output_type": "execute_result"
    }
   ],
   "source": [
    "percentageBlacksIncome=(blackIncome/newPopulation) * 100\n",
    "percentageBlacksIncome"
   ]
  },
  {
   "cell_type": "code",
   "execution_count": 183,
   "id": "21d8677a-dedd-4c64-b166-537d1e42cc9c",
   "metadata": {},
   "outputs": [
    {
     "data": {
      "text/plain": [
       "income\n",
       "<=50K    123737629.0\n",
       ">50K      42329452.0\n",
       "Name: fnlwgt, dtype: float64"
      ]
     },
     "execution_count": 183,
     "metadata": {},
     "output_type": "execute_result"
    }
   ],
   "source": [
    "whites=df[df['race'] == 'White']\n",
    "whiteIncome=whites.groupby('income')['fnlwgt'].sum()\n",
    "whiteIncome"
   ]
  },
  {
   "cell_type": "code",
   "execution_count": 184,
   "id": "e047325e-55f8-42f7-b170-dea5f21f70cd",
   "metadata": {},
   "outputs": [
    {
     "data": {
      "text/plain": [
       "income\n",
       "<=50K    62.816160\n",
       ">50K     21.488804\n",
       "Name: fnlwgt, dtype: float64"
      ]
     },
     "execution_count": 184,
     "metadata": {},
     "output_type": "execute_result"
    }
   ],
   "source": [
    "percentageWhitesIncome=(whiteIncome/newPopulation) * 100\n",
    "percentageWhitesIncome"
   ]
  },
  {
   "cell_type": "code",
   "execution_count": 185,
   "id": "ac9a28ab-4c5c-49ab-b242-5bbfdace7a87",
   "metadata": {},
   "outputs": [
    {
     "data": {
      "text/plain": [
       "income\n",
       "<=50K    3835311.0\n",
       ">50K     1464139.0\n",
       "Name: fnlwgt, dtype: float64"
      ]
     },
     "execution_count": 185,
     "metadata": {},
     "output_type": "execute_result"
    }
   ],
   "source": [
    "asians=df[df['race'] == 'Asian-Pac-Islander']\n",
    "asianIncome=asians.groupby('income')['fnlwgt'].sum()\n",
    "asianIncome"
   ]
  },
  {
   "cell_type": "code",
   "execution_count": 186,
   "id": "0130a22f-48ff-4582-828c-2fd09682d125",
   "metadata": {},
   "outputs": [
    {
     "data": {
      "text/plain": [
       "income\n",
       "<=50K    1.947019\n",
       ">50K     0.743279\n",
       "Name: fnlwgt, dtype: float64"
      ]
     },
     "execution_count": 186,
     "metadata": {},
     "output_type": "execute_result"
    }
   ],
   "source": [
    "percentageAsiansIncome=(asianIncome/newPopulation) * 100\n",
    "percentageAsiansIncome"
   ]
  },
  {
   "cell_type": "code",
   "execution_count": 187,
   "id": "f929e7a6-1762-47e9-aa76-e2de28992cc5",
   "metadata": {},
   "outputs": [
    {
     "data": {
      "text/plain": [
       "income\n",
       "<=50K    1049650.0\n",
       ">50K      149083.0\n",
       "Name: fnlwgt, dtype: float64"
      ]
     },
     "execution_count": 187,
     "metadata": {},
     "output_type": "execute_result"
    }
   ],
   "source": [
    "eskimos=df[df['race'] == 'Amer-Indian-Eskimo']\n",
    "eskimoIncome=eskimos.groupby('income')['fnlwgt'].sum()\n",
    "eskimoIncome"
   ]
  },
  {
   "cell_type": "code",
   "execution_count": 188,
   "id": "13a8a73d-d983-4489-a4e9-5a8d95b1baef",
   "metadata": {},
   "outputs": [
    {
     "data": {
      "text/plain": [
       "income\n",
       "<=50K    0.532861\n",
       ">50K     0.075683\n",
       "Name: fnlwgt, dtype: float64"
      ]
     },
     "execution_count": 188,
     "metadata": {},
     "output_type": "execute_result"
    }
   ],
   "source": [
    "percentageEskimoIncome=(eskimoIncome/newPopulation) * 100\n",
    "percentageEskimoIncome"
   ]
  },
  {
   "cell_type": "markdown",
   "id": "ff1a013d-4cc5-41e0-bc88-fce188868574",
   "metadata": {},
   "source": [
    "SEX WITH RESPECT TO INCOME"
   ]
  },
  {
   "cell_type": "code",
   "execution_count": 88,
   "id": "9e4e6b82-bffb-43ea-a0b2-7ac480557260",
   "metadata": {},
   "outputs": [
    {
     "data": {
      "text/plain": [
       "income\n",
       "<=50K    93120981.0\n",
       ">50K     40104592.0\n",
       "Name: fnlwgt, dtype: float64"
      ]
     },
     "execution_count": 88,
     "metadata": {},
     "output_type": "execute_result"
    }
   ],
   "source": [
    "#grouping gender with respect to income\n",
    "\n",
    "males=df[df['sex'] == 'Male']\n",
    "maleIncome=males.groupby('income')['fnlwgt'].sum()\n",
    "maleIncome"
   ]
  },
  {
   "cell_type": "code",
   "execution_count": 190,
   "id": "c2765487-ba58-47fc-aec0-8a7009fc008d",
   "metadata": {},
   "outputs": [
    {
     "data": {
      "text/plain": [
       "income\n",
       "<=50K    47.273432\n",
       ">50K     20.359340\n",
       "Name: fnlwgt, dtype: float64"
      ]
     },
     "execution_count": 190,
     "metadata": {},
     "output_type": "execute_result"
    }
   ],
   "source": [
    "percentageMaleIncome=(maleIncome/newPopulation) * 100\n",
    "percentageMaleIncome"
   ]
  },
  {
   "cell_type": "code",
   "execution_count": 191,
   "id": "1d5bea86-b246-4c8d-a2bb-742784be8651",
   "metadata": {},
   "outputs": [
    {
     "data": {
      "text/plain": [
       "income\n",
       "<=50K    56849560.0\n",
       ">50K      6908619.0\n",
       "Name: fnlwgt, dtype: float64"
      ]
     },
     "execution_count": 191,
     "metadata": {},
     "output_type": "execute_result"
    }
   ],
   "source": [
    "females=df[df['sex'] == 'Female']\n",
    "femaleIncome=females.groupby('income')['fnlwgt'].sum()\n",
    "femaleIncome"
   ]
  },
  {
   "cell_type": "code",
   "execution_count": 192,
   "id": "1725eca6-8037-47e9-b96b-2033dc33ddca",
   "metadata": {},
   "outputs": [
    {
     "data": {
      "text/plain": [
       "income\n",
       "<=50K    28.860025\n",
       ">50K      3.507202\n",
       "Name: fnlwgt, dtype: float64"
      ]
     },
     "execution_count": 192,
     "metadata": {},
     "output_type": "execute_result"
    }
   ],
   "source": [
    "percentageFemaleIncome=(femaleIncome/newPopulation) * 100\n",
    "percentageFemaleIncome"
   ]
  },
  {
   "cell_type": "markdown",
   "id": "e988fa62-537c-4b2c-a2aa-df14a67e5237",
   "metadata": {},
   "source": [
    "SEX WITH RESPECT TO OCCUPATION"
   ]
  },
  {
   "cell_type": "code",
   "execution_count": 89,
   "id": "680eb7b6-068c-46bc-91ff-b41d95261e1b",
   "metadata": {},
   "outputs": [
    {
     "data": {
      "text/plain": [
       "occupation\n",
       "?                     6122870.0\n",
       "Adm-clerical          7840276.0\n",
       "Armed-Forces            61851.0\n",
       "Craft-repair         23684061.0\n",
       "Exec-managerial      17115982.0\n",
       "Farming-fishing       5022365.0\n",
       "Handlers-cleaners     7854468.0\n",
       "Machine-op-inspct     9188284.0\n",
       "Other-service         9490411.0\n",
       "Priv-house-serv         48719.0\n",
       "Prof-specialty       15845546.0\n",
       "Protective-serv       3655005.0\n",
       "Sales                14645565.0\n",
       "Tech-support          3508867.0\n",
       "Transport-moving      9141303.0\n",
       "Name: fnlwgt, dtype: float64"
      ]
     },
     "execution_count": 89,
     "metadata": {},
     "output_type": "execute_result"
    }
   ],
   "source": [
    "#grouping gender based on occupation\n",
    "males=df[df['sex'] == 'Male']\n",
    "maleOccupation=males.groupby('occupation')['fnlwgt'].sum()\n",
    "maleOccupation"
   ]
  },
  {
   "cell_type": "code",
   "execution_count": 194,
   "id": "ed0fec75-6d48-4f67-aabd-ab679d259caa",
   "metadata": {},
   "outputs": [
    {
     "data": {
      "text/plain": [
       "occupation\n",
       "?                     3.108312\n",
       "Adm-clerical          3.980164\n",
       "Armed-Forces          0.031399\n",
       "Craft-repair         12.023358\n",
       "Exec-managerial       8.689032\n",
       "Farming-fishing       2.549634\n",
       "Handlers-cleaners     3.987368\n",
       "Machine-op-inspct     4.664488\n",
       "Other-service         4.817865\n",
       "Priv-house-serv       0.024732\n",
       "Prof-specialty        8.044088\n",
       "Protective-serv       1.855486\n",
       "Sales                 7.434910\n",
       "Tech-support          1.781298\n",
       "Transport-moving      4.640638\n",
       "Name: fnlwgt, dtype: float64"
      ]
     },
     "execution_count": 194,
     "metadata": {},
     "output_type": "execute_result"
    }
   ],
   "source": [
    "percentageMaleOccupation=(maleOccupation/newPopulation) * 100\n",
    "percentageMaleOccupation"
   ]
  },
  {
   "cell_type": "code",
   "execution_count": 195,
   "id": "f4e76468-8bd6-44c1-8f4a-dffa27bc9a14",
   "metadata": {},
   "outputs": [
    {
     "data": {
      "text/plain": [
       "occupation\n",
       "?                     4968942.0\n",
       "Adm-clerical         15247298.0\n",
       "Craft-repair          1420741.0\n",
       "Exec-managerial       6799331.0\n",
       "Farming-fishing        363349.0\n",
       "Handlers-cleaners     1070628.0\n",
       "Machine-op-inspct     3253306.0\n",
       "Other-service        10308330.0\n",
       "Priv-house-serv        894689.0\n",
       "Prof-specialty        8591324.0\n",
       "Protective-serv        527958.0\n",
       "Sales                 7580727.0\n",
       "Tech-support          2174550.0\n",
       "Transport-moving       557006.0\n",
       "Name: fnlwgt, dtype: float64"
      ]
     },
     "execution_count": 195,
     "metadata": {},
     "output_type": "execute_result"
    }
   ],
   "source": [
    "females=df[df['sex'] == 'Female']\n",
    "femaleOccupation=females.groupby('occupation')['fnlwgt'].sum()\n",
    "femaleOccupation"
   ]
  },
  {
   "cell_type": "code",
   "execution_count": 196,
   "id": "d1c5c330-aa14-4b0c-9bf7-d46214479eb2",
   "metadata": {},
   "outputs": [
    {
     "data": {
      "text/plain": [
       "occupation\n",
       "?                    2.522514\n",
       "Adm-clerical         7.740384\n",
       "Craft-repair         0.721248\n",
       "Exec-managerial      3.451722\n",
       "Farming-fishing      0.184456\n",
       "Handlers-cleaners    0.543511\n",
       "Machine-op-inspct    1.651561\n",
       "Other-service        5.233086\n",
       "Priv-house-serv      0.454194\n",
       "Prof-specialty       4.361438\n",
       "Protective-serv      0.268021\n",
       "Sales                3.848402\n",
       "Tech-support         1.103924\n",
       "Transport-moving     0.282767\n",
       "Name: fnlwgt, dtype: float64"
      ]
     },
     "execution_count": 196,
     "metadata": {},
     "output_type": "execute_result"
    }
   ],
   "source": [
    "percentageFemaleOccupation=(femaleOccupation/newPopulation) * 100\n",
    "percentageFemaleOccupation"
   ]
  }
 ],
 "metadata": {
  "kernelspec": {
   "display_name": "Python 3 (ipykernel)",
   "language": "python",
   "name": "python3"
  },
  "language_info": {
   "codemirror_mode": {
    "name": "ipython",
    "version": 3
   },
   "file_extension": ".py",
   "mimetype": "text/x-python",
   "name": "python",
   "nbconvert_exporter": "python",
   "pygments_lexer": "ipython3",
   "version": "3.12.4"
  }
 },
 "nbformat": 4,
 "nbformat_minor": 5
}
